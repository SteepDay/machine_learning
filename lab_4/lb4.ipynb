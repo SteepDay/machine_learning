{
 "cells": [
  {
   "cell_type": "code",
   "execution_count": 453,
   "metadata": {},
   "outputs": [],
   "source": [
    "import tensorflow as tf\n",
    "import numpy as np\n",
    "import pandas as pd\n",
    "from tensorflow import keras\n",
    "from sklearn.model_selection import train_test_split\n",
    "from sklearn.metrics import *\n",
    "import xgboost as xgb"
   ]
  },
  {
   "cell_type": "markdown",
   "metadata": {},
   "source": [
    "**Загрузка данных**"
   ]
  },
  {
   "cell_type": "code",
   "execution_count": 454,
   "metadata": {},
   "outputs": [],
   "source": [
    "df = pd.read_csv(\"Medicalpremium.csv\")"
   ]
  },
  {
   "cell_type": "code",
   "execution_count": 455,
   "metadata": {},
   "outputs": [
    {
     "data": {
      "text/plain": [
       "Index(['Age', 'Diabetes', 'BloodPressureProblems', 'AnyTransplants',\n",
       "       'AnyChronicDiseases', 'Height', 'Weight', 'KnownAllergies',\n",
       "       'HistoryOfCancerInFamily', 'NumberOfMajorSurgeries', 'PremiumPrice'],\n",
       "      dtype='object')"
      ]
     },
     "execution_count": 455,
     "metadata": {},
     "output_type": "execute_result"
    }
   ],
   "source": [
    "df.columns"
   ]
  },
  {
   "cell_type": "code",
   "execution_count": 456,
   "metadata": {},
   "outputs": [
    {
     "data": {
      "text/html": [
       "<div>\n",
       "<style scoped>\n",
       "    .dataframe tbody tr th:only-of-type {\n",
       "        vertical-align: middle;\n",
       "    }\n",
       "\n",
       "    .dataframe tbody tr th {\n",
       "        vertical-align: top;\n",
       "    }\n",
       "\n",
       "    .dataframe thead th {\n",
       "        text-align: right;\n",
       "    }\n",
       "</style>\n",
       "<table border=\"1\" class=\"dataframe\">\n",
       "  <thead>\n",
       "    <tr style=\"text-align: right;\">\n",
       "      <th></th>\n",
       "      <th>Age</th>\n",
       "      <th>Diabetes</th>\n",
       "      <th>BloodPressureProblems</th>\n",
       "      <th>AnyTransplants</th>\n",
       "      <th>AnyChronicDiseases</th>\n",
       "      <th>Height</th>\n",
       "      <th>Weight</th>\n",
       "      <th>KnownAllergies</th>\n",
       "      <th>HistoryOfCancerInFamily</th>\n",
       "      <th>NumberOfMajorSurgeries</th>\n",
       "      <th>PremiumPrice</th>\n",
       "    </tr>\n",
       "  </thead>\n",
       "  <tbody>\n",
       "    <tr>\n",
       "      <th>0</th>\n",
       "      <td>45</td>\n",
       "      <td>0</td>\n",
       "      <td>0</td>\n",
       "      <td>0</td>\n",
       "      <td>0</td>\n",
       "      <td>155</td>\n",
       "      <td>57</td>\n",
       "      <td>0</td>\n",
       "      <td>0</td>\n",
       "      <td>0</td>\n",
       "      <td>25000</td>\n",
       "    </tr>\n",
       "    <tr>\n",
       "      <th>1</th>\n",
       "      <td>60</td>\n",
       "      <td>1</td>\n",
       "      <td>0</td>\n",
       "      <td>0</td>\n",
       "      <td>0</td>\n",
       "      <td>180</td>\n",
       "      <td>73</td>\n",
       "      <td>0</td>\n",
       "      <td>0</td>\n",
       "      <td>0</td>\n",
       "      <td>29000</td>\n",
       "    </tr>\n",
       "    <tr>\n",
       "      <th>2</th>\n",
       "      <td>36</td>\n",
       "      <td>1</td>\n",
       "      <td>1</td>\n",
       "      <td>0</td>\n",
       "      <td>0</td>\n",
       "      <td>158</td>\n",
       "      <td>59</td>\n",
       "      <td>0</td>\n",
       "      <td>0</td>\n",
       "      <td>1</td>\n",
       "      <td>23000</td>\n",
       "    </tr>\n",
       "    <tr>\n",
       "      <th>3</th>\n",
       "      <td>52</td>\n",
       "      <td>1</td>\n",
       "      <td>1</td>\n",
       "      <td>0</td>\n",
       "      <td>1</td>\n",
       "      <td>183</td>\n",
       "      <td>93</td>\n",
       "      <td>0</td>\n",
       "      <td>0</td>\n",
       "      <td>2</td>\n",
       "      <td>28000</td>\n",
       "    </tr>\n",
       "    <tr>\n",
       "      <th>4</th>\n",
       "      <td>38</td>\n",
       "      <td>0</td>\n",
       "      <td>0</td>\n",
       "      <td>0</td>\n",
       "      <td>1</td>\n",
       "      <td>166</td>\n",
       "      <td>88</td>\n",
       "      <td>0</td>\n",
       "      <td>0</td>\n",
       "      <td>1</td>\n",
       "      <td>23000</td>\n",
       "    </tr>\n",
       "  </tbody>\n",
       "</table>\n",
       "</div>"
      ],
      "text/plain": [
       "   Age  Diabetes  BloodPressureProblems  AnyTransplants  AnyChronicDiseases  \\\n",
       "0   45         0                      0               0                   0   \n",
       "1   60         1                      0               0                   0   \n",
       "2   36         1                      1               0                   0   \n",
       "3   52         1                      1               0                   1   \n",
       "4   38         0                      0               0                   1   \n",
       "\n",
       "   Height  Weight  KnownAllergies  HistoryOfCancerInFamily  \\\n",
       "0     155      57               0                        0   \n",
       "1     180      73               0                        0   \n",
       "2     158      59               0                        0   \n",
       "3     183      93               0                        0   \n",
       "4     166      88               0                        0   \n",
       "\n",
       "   NumberOfMajorSurgeries  PremiumPrice  \n",
       "0                       0         25000  \n",
       "1                       0         29000  \n",
       "2                       1         23000  \n",
       "3                       2         28000  \n",
       "4                       1         23000  "
      ]
     },
     "execution_count": 456,
     "metadata": {},
     "output_type": "execute_result"
    }
   ],
   "source": [
    "df.head(5)"
   ]
  },
  {
   "cell_type": "code",
   "execution_count": 457,
   "metadata": {},
   "outputs": [
    {
     "data": {
      "text/html": [
       "<style type=\"text/css\">\n",
       "#T_f51b9_row0_col0, #T_f51b9_row1_col1, #T_f51b9_row2_col2, #T_f51b9_row3_col3, #T_f51b9_row4_col4, #T_f51b9_row5_col5, #T_f51b9_row6_col6, #T_f51b9_row7_col7, #T_f51b9_row8_col8, #T_f51b9_row9_col9, #T_f51b9_row10_col10 {\n",
       "  background-color: #b40426;\n",
       "  color: #f1f1f1;\n",
       "}\n",
       "#T_f51b9_row0_col1, #T_f51b9_row10_col4 {\n",
       "  background-color: #96b7ff;\n",
       "  color: #000000;\n",
       "}\n",
       "#T_f51b9_row0_col2 {\n",
       "  background-color: #9abbff;\n",
       "  color: #000000;\n",
       "}\n",
       "#T_f51b9_row0_col3, #T_f51b9_row0_col8, #T_f51b9_row4_col6, #T_f51b9_row7_col5 {\n",
       "  background-color: #4257c9;\n",
       "  color: #f1f1f1;\n",
       "}\n",
       "#T_f51b9_row0_col4, #T_f51b9_row6_col10, #T_f51b9_row10_col8 {\n",
       "  background-color: #6384eb;\n",
       "  color: #f1f1f1;\n",
       "}\n",
       "#T_f51b9_row0_col5, #T_f51b9_row3_col7, #T_f51b9_row4_col0 {\n",
       "  background-color: #516ddb;\n",
       "  color: #f1f1f1;\n",
       "}\n",
       "#T_f51b9_row0_col6 {\n",
       "  background-color: #465ecf;\n",
       "  color: #f1f1f1;\n",
       "}\n",
       "#T_f51b9_row0_col7, #T_f51b9_row6_col4, #T_f51b9_row9_col6 {\n",
       "  background-color: #4a63d3;\n",
       "  color: #f1f1f1;\n",
       "}\n",
       "#T_f51b9_row0_col9 {\n",
       "  background-color: #cad8ef;\n",
       "  color: #000000;\n",
       "}\n",
       "#T_f51b9_row0_col10 {\n",
       "  background-color: #f7af91;\n",
       "  color: #000000;\n",
       "}\n",
       "#T_f51b9_row1_col0 {\n",
       "  background-color: #86a9fc;\n",
       "  color: #f1f1f1;\n",
       "}\n",
       "#T_f51b9_row1_col2 {\n",
       "  background-color: #7396f5;\n",
       "  color: #f1f1f1;\n",
       "}\n",
       "#T_f51b9_row1_col3, #T_f51b9_row1_col4, #T_f51b9_row1_col7, #T_f51b9_row1_col8, #T_f51b9_row2_col5, #T_f51b9_row2_col6, #T_f51b9_row3_col9, #T_f51b9_row4_col1, #T_f51b9_row6_col2, #T_f51b9_row6_col9, #T_f51b9_row7_col0, #T_f51b9_row7_col10, #T_f51b9_row8_col0 {\n",
       "  background-color: #3b4cc0;\n",
       "  color: #f1f1f1;\n",
       "}\n",
       "#T_f51b9_row1_col5, #T_f51b9_row1_col6, #T_f51b9_row3_col2, #T_f51b9_row3_col8, #T_f51b9_row9_col3 {\n",
       "  background-color: #445acc;\n",
       "  color: #f1f1f1;\n",
       "}\n",
       "#T_f51b9_row1_col9, #T_f51b9_row5_col4 {\n",
       "  background-color: #6282ea;\n",
       "  color: #f1f1f1;\n",
       "}\n",
       "#T_f51b9_row1_col10, #T_f51b9_row2_col7, #T_f51b9_row5_col0, #T_f51b9_row5_col7, #T_f51b9_row5_col8 {\n",
       "  background-color: #4e68d8;\n",
       "  color: #f1f1f1;\n",
       "}\n",
       "#T_f51b9_row2_col0 {\n",
       "  background-color: #92b4fe;\n",
       "  color: #000000;\n",
       "}\n",
       "#T_f51b9_row2_col1 {\n",
       "  background-color: #7b9ff9;\n",
       "  color: #f1f1f1;\n",
       "}\n",
       "#T_f51b9_row2_col3, #T_f51b9_row6_col0, #T_f51b9_row7_col1 {\n",
       "  background-color: #3d50c3;\n",
       "  color: #f1f1f1;\n",
       "}\n",
       "#T_f51b9_row2_col4 {\n",
       "  background-color: #6180e9;\n",
       "  color: #f1f1f1;\n",
       "}\n",
       "#T_f51b9_row2_col8, #T_f51b9_row4_col2, #T_f51b9_row6_col5 {\n",
       "  background-color: #5977e3;\n",
       "  color: #f1f1f1;\n",
       "}\n",
       "#T_f51b9_row2_col9, #T_f51b9_row9_col8, #T_f51b9_row9_col10 {\n",
       "  background-color: #8fb1fe;\n",
       "  color: #000000;\n",
       "}\n",
       "#T_f51b9_row2_col10 {\n",
       "  background-color: #6c8ff1;\n",
       "  color: #f1f1f1;\n",
       "}\n",
       "#T_f51b9_row3_col0, #T_f51b9_row8_col3 {\n",
       "  background-color: #3f53c6;\n",
       "  color: #f1f1f1;\n",
       "}\n",
       "#T_f51b9_row3_col1, #T_f51b9_row4_col7 {\n",
       "  background-color: #4961d2;\n",
       "  color: #f1f1f1;\n",
       "}\n",
       "#T_f51b9_row3_col4 {\n",
       "  background-color: #5e7de7;\n",
       "  color: #f1f1f1;\n",
       "}\n",
       "#T_f51b9_row3_col5, #T_f51b9_row5_col3 {\n",
       "  background-color: #3c4ec2;\n",
       "  color: #f1f1f1;\n",
       "}\n",
       "#T_f51b9_row3_col6, #T_f51b9_row4_col8, #T_f51b9_row6_col1, #T_f51b9_row8_col6, #T_f51b9_row10_col5 {\n",
       "  background-color: #4c66d6;\n",
       "  color: #f1f1f1;\n",
       "}\n",
       "#T_f51b9_row3_col10 {\n",
       "  background-color: #97b8ff;\n",
       "  color: #000000;\n",
       "}\n",
       "#T_f51b9_row4_col3 {\n",
       "  background-color: #4f69d9;\n",
       "  color: #f1f1f1;\n",
       "}\n",
       "#T_f51b9_row4_col5, #T_f51b9_row10_col7 {\n",
       "  background-color: #5470de;\n",
       "  color: #f1f1f1;\n",
       "}\n",
       "#T_f51b9_row4_col9, #T_f51b9_row5_col2 {\n",
       "  background-color: #4055c8;\n",
       "  color: #f1f1f1;\n",
       "}\n",
       "#T_f51b9_row4_col10 {\n",
       "  background-color: #7a9df8;\n",
       "  color: #f1f1f1;\n",
       "}\n",
       "#T_f51b9_row5_col1 {\n",
       "  background-color: #536edd;\n",
       "  color: #f1f1f1;\n",
       "}\n",
       "#T_f51b9_row5_col6 {\n",
       "  background-color: #5f7fe8;\n",
       "  color: #f1f1f1;\n",
       "}\n",
       "#T_f51b9_row5_col9, #T_f51b9_row7_col2, #T_f51b9_row8_col5 {\n",
       "  background-color: #485fd1;\n",
       "  color: #f1f1f1;\n",
       "}\n",
       "#T_f51b9_row5_col10 {\n",
       "  background-color: #3e51c5;\n",
       "  color: #f1f1f1;\n",
       "}\n",
       "#T_f51b9_row6_col3, #T_f51b9_row7_col3 {\n",
       "  background-color: #455cce;\n",
       "  color: #f1f1f1;\n",
       "}\n",
       "#T_f51b9_row6_col7, #T_f51b9_row7_col9 {\n",
       "  background-color: #5b7ae5;\n",
       "  color: #f1f1f1;\n",
       "}\n",
       "#T_f51b9_row6_col8, #T_f51b9_row7_col4 {\n",
       "  background-color: #4b64d5;\n",
       "  color: #f1f1f1;\n",
       "}\n",
       "#T_f51b9_row7_col6, #T_f51b9_row8_col4 {\n",
       "  background-color: #5673e0;\n",
       "  color: #f1f1f1;\n",
       "}\n",
       "#T_f51b9_row7_col8 {\n",
       "  background-color: #6e90f2;\n",
       "  color: #f1f1f1;\n",
       "}\n",
       "#T_f51b9_row8_col1 {\n",
       "  background-color: #4358cb;\n",
       "  color: #f1f1f1;\n",
       "}\n",
       "#T_f51b9_row8_col2 {\n",
       "  background-color: #5a78e4;\n",
       "  color: #f1f1f1;\n",
       "}\n",
       "#T_f51b9_row8_col7 {\n",
       "  background-color: #7597f6;\n",
       "  color: #f1f1f1;\n",
       "}\n",
       "#T_f51b9_row8_col9, #T_f51b9_row10_col2 {\n",
       "  background-color: #81a4fb;\n",
       "  color: #f1f1f1;\n",
       "}\n",
       "#T_f51b9_row8_col10, #T_f51b9_row9_col5 {\n",
       "  background-color: #506bda;\n",
       "  color: #f1f1f1;\n",
       "}\n",
       "#T_f51b9_row9_col0 {\n",
       "  background-color: #cdd9ec;\n",
       "  color: #000000;\n",
       "}\n",
       "#T_f51b9_row9_col1 {\n",
       "  background-color: #799cf8;\n",
       "  color: #f1f1f1;\n",
       "}\n",
       "#T_f51b9_row9_col2 {\n",
       "  background-color: #9dbdff;\n",
       "  color: #000000;\n",
       "}\n",
       "#T_f51b9_row9_col4 {\n",
       "  background-color: #5875e1;\n",
       "  color: #f1f1f1;\n",
       "}\n",
       "#T_f51b9_row9_col7 {\n",
       "  background-color: #7093f3;\n",
       "  color: #f1f1f1;\n",
       "}\n",
       "#T_f51b9_row10_col0 {\n",
       "  background-color: #f7aa8c;\n",
       "  color: #000000;\n",
       "}\n",
       "#T_f51b9_row10_col1 {\n",
       "  background-color: #6a8bef;\n",
       "  color: #f1f1f1;\n",
       "}\n",
       "#T_f51b9_row10_col3 {\n",
       "  background-color: #a3c2fe;\n",
       "  color: #000000;\n",
       "}\n",
       "#T_f51b9_row10_col6 {\n",
       "  background-color: #779af7;\n",
       "  color: #f1f1f1;\n",
       "}\n",
       "#T_f51b9_row10_col9 {\n",
       "  background-color: #93b5fe;\n",
       "  color: #000000;\n",
       "}\n",
       "</style>\n",
       "<table id=\"T_f51b9\">\n",
       "  <thead>\n",
       "    <tr>\n",
       "      <th class=\"blank level0\" >&nbsp;</th>\n",
       "      <th id=\"T_f51b9_level0_col0\" class=\"col_heading level0 col0\" >Age</th>\n",
       "      <th id=\"T_f51b9_level0_col1\" class=\"col_heading level0 col1\" >Diabetes</th>\n",
       "      <th id=\"T_f51b9_level0_col2\" class=\"col_heading level0 col2\" >BloodPressureProblems</th>\n",
       "      <th id=\"T_f51b9_level0_col3\" class=\"col_heading level0 col3\" >AnyTransplants</th>\n",
       "      <th id=\"T_f51b9_level0_col4\" class=\"col_heading level0 col4\" >AnyChronicDiseases</th>\n",
       "      <th id=\"T_f51b9_level0_col5\" class=\"col_heading level0 col5\" >Height</th>\n",
       "      <th id=\"T_f51b9_level0_col6\" class=\"col_heading level0 col6\" >Weight</th>\n",
       "      <th id=\"T_f51b9_level0_col7\" class=\"col_heading level0 col7\" >KnownAllergies</th>\n",
       "      <th id=\"T_f51b9_level0_col8\" class=\"col_heading level0 col8\" >HistoryOfCancerInFamily</th>\n",
       "      <th id=\"T_f51b9_level0_col9\" class=\"col_heading level0 col9\" >NumberOfMajorSurgeries</th>\n",
       "      <th id=\"T_f51b9_level0_col10\" class=\"col_heading level0 col10\" >PremiumPrice</th>\n",
       "    </tr>\n",
       "  </thead>\n",
       "  <tbody>\n",
       "    <tr>\n",
       "      <th id=\"T_f51b9_level0_row0\" class=\"row_heading level0 row0\" >Age</th>\n",
       "      <td id=\"T_f51b9_row0_col0\" class=\"data row0 col0\" >1.000000</td>\n",
       "      <td id=\"T_f51b9_row0_col1\" class=\"data row0 col1\" >0.210908</td>\n",
       "      <td id=\"T_f51b9_row0_col2\" class=\"data row0 col2\" >0.244888</td>\n",
       "      <td id=\"T_f51b9_row0_col3\" class=\"data row0 col3\" >-0.008549</td>\n",
       "      <td id=\"T_f51b9_row0_col4\" class=\"data row0 col4\" >0.051072</td>\n",
       "      <td id=\"T_f51b9_row0_col5\" class=\"data row0 col5\" >0.039879</td>\n",
       "      <td id=\"T_f51b9_row0_col6\" class=\"data row0 col6\" >-0.018590</td>\n",
       "      <td id=\"T_f51b9_row0_col7\" class=\"data row0 col7\" >-0.024416</td>\n",
       "      <td id=\"T_f51b9_row0_col8\" class=\"data row0 col8\" >-0.027623</td>\n",
       "      <td id=\"T_f51b9_row0_col9\" class=\"data row0 col9\" >0.429181</td>\n",
       "      <td id=\"T_f51b9_row0_col10\" class=\"data row0 col10\" >0.697540</td>\n",
       "    </tr>\n",
       "    <tr>\n",
       "      <th id=\"T_f51b9_level0_row1\" class=\"row_heading level0 row1\" >Diabetes</th>\n",
       "      <td id=\"T_f51b9_row1_col0\" class=\"data row1 col0\" >0.210908</td>\n",
       "      <td id=\"T_f51b9_row1_col1\" class=\"data row1 col1\" >1.000000</td>\n",
       "      <td id=\"T_f51b9_row1_col2\" class=\"data row1 col2\" >0.127727</td>\n",
       "      <td id=\"T_f51b9_row1_col3\" class=\"data row1 col3\" >-0.036652</td>\n",
       "      <td id=\"T_f51b9_row1_col4\" class=\"data row1 col4\" >-0.089428</td>\n",
       "      <td id=\"T_f51b9_row1_col5\" class=\"data row1 col5\" >-0.003783</td>\n",
       "      <td id=\"T_f51b9_row1_col6\" class=\"data row1 col6\" >-0.024563</td>\n",
       "      <td id=\"T_f51b9_row1_col7\" class=\"data row1 col7\" >-0.080102</td>\n",
       "      <td id=\"T_f51b9_row1_col8\" class=\"data row1 col8\" >-0.055527</td>\n",
       "      <td id=\"T_f51b9_row1_col9\" class=\"data row1 col9\" >0.122722</td>\n",
       "      <td id=\"T_f51b9_row1_col10\" class=\"data row1 col10\" >0.076209</td>\n",
       "    </tr>\n",
       "    <tr>\n",
       "      <th id=\"T_f51b9_level0_row2\" class=\"row_heading level0 row2\" >BloodPressureProblems</th>\n",
       "      <td id=\"T_f51b9_row2_col0\" class=\"data row2 col0\" >0.244888</td>\n",
       "      <td id=\"T_f51b9_row2_col1\" class=\"data row2 col1\" >0.127727</td>\n",
       "      <td id=\"T_f51b9_row2_col2\" class=\"data row2 col2\" >1.000000</td>\n",
       "      <td id=\"T_f51b9_row2_col3\" class=\"data row2 col3\" >-0.024538</td>\n",
       "      <td id=\"T_f51b9_row2_col4\" class=\"data row2 col4\" >0.045424</td>\n",
       "      <td id=\"T_f51b9_row2_col5\" class=\"data row2 col5\" >-0.037926</td>\n",
       "      <td id=\"T_f51b9_row2_col6\" class=\"data row2 col6\" >-0.061016</td>\n",
       "      <td id=\"T_f51b9_row2_col7\" class=\"data row2 col7\" >-0.011550</td>\n",
       "      <td id=\"T_f51b9_row2_col8\" class=\"data row2 col8\" >0.048239</td>\n",
       "      <td id=\"T_f51b9_row2_col9\" class=\"data row2 col9\" >0.251568</td>\n",
       "      <td id=\"T_f51b9_row2_col10\" class=\"data row2 col10\" >0.167097</td>\n",
       "    </tr>\n",
       "    <tr>\n",
       "      <th id=\"T_f51b9_level0_row3\" class=\"row_heading level0 row3\" >AnyTransplants</th>\n",
       "      <td id=\"T_f51b9_row3_col0\" class=\"data row3 col0\" >-0.008549</td>\n",
       "      <td id=\"T_f51b9_row3_col1\" class=\"data row3 col1\" >-0.036652</td>\n",
       "      <td id=\"T_f51b9_row3_col2\" class=\"data row3 col2\" >-0.024538</td>\n",
       "      <td id=\"T_f51b9_row3_col3\" class=\"data row3 col3\" >1.000000</td>\n",
       "      <td id=\"T_f51b9_row3_col4\" class=\"data row3 col4\" >0.035285</td>\n",
       "      <td id=\"T_f51b9_row3_col5\" class=\"data row3 col5\" >-0.031543</td>\n",
       "      <td id=\"T_f51b9_row3_col6\" class=\"data row3 col6\" >0.002087</td>\n",
       "      <td id=\"T_f51b9_row3_col7\" class=\"data row3 col7\" >0.001876</td>\n",
       "      <td id=\"T_f51b9_row3_col8\" class=\"data row3 col8\" >-0.020171</td>\n",
       "      <td id=\"T_f51b9_row3_col9\" class=\"data row3 col9\" >-0.004154</td>\n",
       "      <td id=\"T_f51b9_row3_col10\" class=\"data row3 col10\" >0.289056</td>\n",
       "    </tr>\n",
       "    <tr>\n",
       "      <th id=\"T_f51b9_level0_row4\" class=\"row_heading level0 row4\" >AnyChronicDiseases</th>\n",
       "      <td id=\"T_f51b9_row4_col0\" class=\"data row4 col0\" >0.051072</td>\n",
       "      <td id=\"T_f51b9_row4_col1\" class=\"data row4 col1\" >-0.089428</td>\n",
       "      <td id=\"T_f51b9_row4_col2\" class=\"data row4 col2\" >0.045424</td>\n",
       "      <td id=\"T_f51b9_row4_col3\" class=\"data row4 col3\" >0.035285</td>\n",
       "      <td id=\"T_f51b9_row4_col4\" class=\"data row4 col4\" >1.000000</td>\n",
       "      <td id=\"T_f51b9_row4_col5\" class=\"data row4 col5\" >0.047419</td>\n",
       "      <td id=\"T_f51b9_row4_col6\" class=\"data row4 col6\" >-0.033318</td>\n",
       "      <td id=\"T_f51b9_row4_col7\" class=\"data row4 col7\" >-0.027418</td>\n",
       "      <td id=\"T_f51b9_row4_col8\" class=\"data row4 col8\" >0.008666</td>\n",
       "      <td id=\"T_f51b9_row4_col9\" class=\"data row4 col9\" >0.014835</td>\n",
       "      <td id=\"T_f51b9_row4_col10\" class=\"data row4 col10\" >0.208610</td>\n",
       "    </tr>\n",
       "    <tr>\n",
       "      <th id=\"T_f51b9_level0_row5\" class=\"row_heading level0 row5\" >Height</th>\n",
       "      <td id=\"T_f51b9_row5_col0\" class=\"data row5 col0\" >0.039879</td>\n",
       "      <td id=\"T_f51b9_row5_col1\" class=\"data row5 col1\" >-0.003783</td>\n",
       "      <td id=\"T_f51b9_row5_col2\" class=\"data row5 col2\" >-0.037926</td>\n",
       "      <td id=\"T_f51b9_row5_col3\" class=\"data row5 col3\" >-0.031543</td>\n",
       "      <td id=\"T_f51b9_row5_col4\" class=\"data row5 col4\" >0.047419</td>\n",
       "      <td id=\"T_f51b9_row5_col5\" class=\"data row5 col5\" >1.000000</td>\n",
       "      <td id=\"T_f51b9_row5_col6\" class=\"data row5 col6\" >0.066946</td>\n",
       "      <td id=\"T_f51b9_row5_col7\" class=\"data row5 col7\" >-0.010200</td>\n",
       "      <td id=\"T_f51b9_row5_col8\" class=\"data row5 col8\" >0.010549</td>\n",
       "      <td id=\"T_f51b9_row5_col9\" class=\"data row5 col9\" >0.037289</td>\n",
       "      <td id=\"T_f51b9_row5_col10\" class=\"data row5 col10\" >0.026910</td>\n",
       "    </tr>\n",
       "    <tr>\n",
       "      <th id=\"T_f51b9_level0_row6\" class=\"row_heading level0 row6\" >Weight</th>\n",
       "      <td id=\"T_f51b9_row6_col0\" class=\"data row6 col0\" >-0.018590</td>\n",
       "      <td id=\"T_f51b9_row6_col1\" class=\"data row6 col1\" >-0.024563</td>\n",
       "      <td id=\"T_f51b9_row6_col2\" class=\"data row6 col2\" >-0.061016</td>\n",
       "      <td id=\"T_f51b9_row6_col3\" class=\"data row6 col3\" >0.002087</td>\n",
       "      <td id=\"T_f51b9_row6_col4\" class=\"data row6 col4\" >-0.033318</td>\n",
       "      <td id=\"T_f51b9_row6_col5\" class=\"data row6 col5\" >0.066946</td>\n",
       "      <td id=\"T_f51b9_row6_col6\" class=\"data row6 col6\" >1.000000</td>\n",
       "      <td id=\"T_f51b9_row6_col7\" class=\"data row6 col7\" >0.037492</td>\n",
       "      <td id=\"T_f51b9_row6_col8\" class=\"data row6 col8\" >0.003481</td>\n",
       "      <td id=\"T_f51b9_row6_col9\" class=\"data row6 col9\" >-0.006108</td>\n",
       "      <td id=\"T_f51b9_row6_col10\" class=\"data row6 col10\" >0.141507</td>\n",
       "    </tr>\n",
       "    <tr>\n",
       "      <th id=\"T_f51b9_level0_row7\" class=\"row_heading level0 row7\" >KnownAllergies</th>\n",
       "      <td id=\"T_f51b9_row7_col0\" class=\"data row7 col0\" >-0.024416</td>\n",
       "      <td id=\"T_f51b9_row7_col1\" class=\"data row7 col1\" >-0.080102</td>\n",
       "      <td id=\"T_f51b9_row7_col2\" class=\"data row7 col2\" >-0.011550</td>\n",
       "      <td id=\"T_f51b9_row7_col3\" class=\"data row7 col3\" >0.001876</td>\n",
       "      <td id=\"T_f51b9_row7_col4\" class=\"data row7 col4\" >-0.027418</td>\n",
       "      <td id=\"T_f51b9_row7_col5\" class=\"data row7 col5\" >-0.010200</td>\n",
       "      <td id=\"T_f51b9_row7_col6\" class=\"data row7 col6\" >0.037492</td>\n",
       "      <td id=\"T_f51b9_row7_col7\" class=\"data row7 col7\" >1.000000</td>\n",
       "      <td id=\"T_f51b9_row7_col8\" class=\"data row7 col8\" >0.115383</td>\n",
       "      <td id=\"T_f51b9_row7_col9\" class=\"data row7 col9\" >0.103923</td>\n",
       "      <td id=\"T_f51b9_row7_col10\" class=\"data row7 col10\" >0.012103</td>\n",
       "    </tr>\n",
       "    <tr>\n",
       "      <th id=\"T_f51b9_level0_row8\" class=\"row_heading level0 row8\" >HistoryOfCancerInFamily</th>\n",
       "      <td id=\"T_f51b9_row8_col0\" class=\"data row8 col0\" >-0.027623</td>\n",
       "      <td id=\"T_f51b9_row8_col1\" class=\"data row8 col1\" >-0.055527</td>\n",
       "      <td id=\"T_f51b9_row8_col2\" class=\"data row8 col2\" >0.048239</td>\n",
       "      <td id=\"T_f51b9_row8_col3\" class=\"data row8 col3\" >-0.020171</td>\n",
       "      <td id=\"T_f51b9_row8_col4\" class=\"data row8 col4\" >0.008666</td>\n",
       "      <td id=\"T_f51b9_row8_col5\" class=\"data row8 col5\" >0.010549</td>\n",
       "      <td id=\"T_f51b9_row8_col6\" class=\"data row8 col6\" >0.003481</td>\n",
       "      <td id=\"T_f51b9_row8_col7\" class=\"data row8 col7\" >0.115383</td>\n",
       "      <td id=\"T_f51b9_row8_col8\" class=\"data row8 col8\" >1.000000</td>\n",
       "      <td id=\"T_f51b9_row8_col9\" class=\"data row8 col9\" >0.212657</td>\n",
       "      <td id=\"T_f51b9_row8_col10\" class=\"data row8 col10\" >0.083139</td>\n",
       "    </tr>\n",
       "    <tr>\n",
       "      <th id=\"T_f51b9_level0_row9\" class=\"row_heading level0 row9\" >NumberOfMajorSurgeries</th>\n",
       "      <td id=\"T_f51b9_row9_col0\" class=\"data row9 col0\" >0.429181</td>\n",
       "      <td id=\"T_f51b9_row9_col1\" class=\"data row9 col1\" >0.122722</td>\n",
       "      <td id=\"T_f51b9_row9_col2\" class=\"data row9 col2\" >0.251568</td>\n",
       "      <td id=\"T_f51b9_row9_col3\" class=\"data row9 col3\" >-0.004154</td>\n",
       "      <td id=\"T_f51b9_row9_col4\" class=\"data row9 col4\" >0.014835</td>\n",
       "      <td id=\"T_f51b9_row9_col5\" class=\"data row9 col5\" >0.037289</td>\n",
       "      <td id=\"T_f51b9_row9_col6\" class=\"data row9 col6\" >-0.006108</td>\n",
       "      <td id=\"T_f51b9_row9_col7\" class=\"data row9 col7\" >0.103923</td>\n",
       "      <td id=\"T_f51b9_row9_col8\" class=\"data row9 col8\" >0.212657</td>\n",
       "      <td id=\"T_f51b9_row9_col9\" class=\"data row9 col9\" >1.000000</td>\n",
       "      <td id=\"T_f51b9_row9_col10\" class=\"data row9 col10\" >0.264250</td>\n",
       "    </tr>\n",
       "    <tr>\n",
       "      <th id=\"T_f51b9_level0_row10\" class=\"row_heading level0 row10\" >PremiumPrice</th>\n",
       "      <td id=\"T_f51b9_row10_col0\" class=\"data row10 col0\" >0.697540</td>\n",
       "      <td id=\"T_f51b9_row10_col1\" class=\"data row10 col1\" >0.076209</td>\n",
       "      <td id=\"T_f51b9_row10_col2\" class=\"data row10 col2\" >0.167097</td>\n",
       "      <td id=\"T_f51b9_row10_col3\" class=\"data row10 col3\" >0.289056</td>\n",
       "      <td id=\"T_f51b9_row10_col4\" class=\"data row10 col4\" >0.208610</td>\n",
       "      <td id=\"T_f51b9_row10_col5\" class=\"data row10 col5\" >0.026910</td>\n",
       "      <td id=\"T_f51b9_row10_col6\" class=\"data row10 col6\" >0.141507</td>\n",
       "      <td id=\"T_f51b9_row10_col7\" class=\"data row10 col7\" >0.012103</td>\n",
       "      <td id=\"T_f51b9_row10_col8\" class=\"data row10 col8\" >0.083139</td>\n",
       "      <td id=\"T_f51b9_row10_col9\" class=\"data row10 col9\" >0.264250</td>\n",
       "      <td id=\"T_f51b9_row10_col10\" class=\"data row10 col10\" >1.000000</td>\n",
       "    </tr>\n",
       "  </tbody>\n",
       "</table>\n"
      ],
      "text/plain": [
       "<pandas.io.formats.style.Styler at 0x18813674950>"
      ]
     },
     "execution_count": 457,
     "metadata": {},
     "output_type": "execute_result"
    }
   ],
   "source": [
    "corr = df.corr()\n",
    "corr.style.background_gradient(cmap='coolwarm')"
   ]
  },
  {
   "cell_type": "markdown",
   "metadata": {},
   "source": [
    "**Выбор признаков**"
   ]
  },
  {
   "cell_type": "code",
   "execution_count": 458,
   "metadata": {},
   "outputs": [],
   "source": [
    "x = df.drop('PremiumPrice', axis=1)\n",
    "y = df['PremiumPrice']"
   ]
  },
  {
   "cell_type": "markdown",
   "metadata": {},
   "source": [
    "**Разделение данных на обучающую и тестовую выборки**"
   ]
  },
  {
   "cell_type": "code",
   "execution_count": 459,
   "metadata": {},
   "outputs": [],
   "source": [
    "x_train, x_test, y_train, y_test = train_test_split(x, y, test_size=0.25, random_state=17)"
   ]
  },
  {
   "cell_type": "markdown",
   "metadata": {},
   "source": [
    "**Печать количества образцов для обучения и валидации**"
   ]
  },
  {
   "cell_type": "code",
   "execution_count": 460,
   "metadata": {},
   "outputs": [
    {
     "name": "stdout",
     "output_type": "stream",
     "text": [
      "Using 739 samples for training and 247 for validation\n"
     ]
    }
   ],
   "source": [
    "print(\n",
    "    \"Using %d samples for training and %d for validation\"\n",
    "    % (len(x_train), len(x_test))\n",
    ")"
   ]
  },
  {
   "cell_type": "markdown",
   "metadata": {},
   "source": [
    "**Создание модели**"
   ]
  },
  {
   "cell_type": "code",
   "execution_count": 461,
   "metadata": {},
   "outputs": [
    {
     "name": "stdout",
     "output_type": "stream",
     "text": [
      "Epoch 1/50\n"
     ]
    },
    {
     "name": "stdout",
     "output_type": "stream",
     "text": [
      "24/24 [==============================] - 0s 870us/step - loss: 639729024.0000 - mean_absolute_error: 24480.9453\n",
      "Epoch 2/50\n",
      "24/24 [==============================] - 0s 826us/step - loss: 638636992.0000 - mean_absolute_error: 24458.8965\n",
      "Epoch 3/50\n",
      "24/24 [==============================] - 0s 783us/step - loss: 637607168.0000 - mean_absolute_error: 24437.9570\n",
      "Epoch 4/50\n",
      "24/24 [==============================] - 0s 826us/step - loss: 636330816.0000 - mean_absolute_error: 24411.7559\n",
      "Epoch 5/50\n",
      "24/24 [==============================] - 0s 783us/step - loss: 634443008.0000 - mean_absolute_error: 24373.4902\n",
      "Epoch 6/50\n",
      "24/24 [==============================] - 0s 826us/step - loss: 631544832.0000 - mean_absolute_error: 24314.7090\n",
      "Epoch 7/50\n",
      "24/24 [==============================] - 0s 826us/step - loss: 627312128.0000 - mean_absolute_error: 24228.4414\n",
      "Epoch 8/50\n",
      "24/24 [==============================] - 0s 826us/step - loss: 621257536.0000 - mean_absolute_error: 24103.8535\n",
      "Epoch 9/50\n",
      "24/24 [==============================] - 0s 783us/step - loss: 612820544.0000 - mean_absolute_error: 23930.8750\n",
      "Epoch 10/50\n",
      "24/24 [==============================] - 0s 783us/step - loss: 601605568.0000 - mean_absolute_error: 23697.6367\n",
      "Epoch 11/50\n",
      "24/24 [==============================] - 0s 826us/step - loss: 587135808.0000 - mean_absolute_error: 23391.6152\n",
      "Epoch 12/50\n",
      "24/24 [==============================] - 0s 783us/step - loss: 568873920.0000 - mean_absolute_error: 23003.1660\n",
      "Epoch 13/50\n",
      "24/24 [==============================] - 0s 783us/step - loss: 547049344.0000 - mean_absolute_error: 22523.8848\n",
      "Epoch 14/50\n",
      "24/24 [==============================] - 0s 826us/step - loss: 521536256.0000 - mean_absolute_error: 21960.2773\n",
      "Epoch 15/50\n",
      "24/24 [==============================] - 0s 782us/step - loss: 492495136.0000 - mean_absolute_error: 21294.8887\n",
      "Epoch 16/50\n",
      "24/24 [==============================] - 0s 782us/step - loss: 460036288.0000 - mean_absolute_error: 20528.7812\n",
      "Epoch 17/50\n",
      "24/24 [==============================] - 0s 783us/step - loss: 424916608.0000 - mean_absolute_error: 19663.2305\n",
      "Epoch 18/50\n",
      "24/24 [==============================] - 0s 783us/step - loss: 387918144.0000 - mean_absolute_error: 18703.9590\n",
      "Epoch 19/50\n",
      "24/24 [==============================] - 0s 782us/step - loss: 348985632.0000 - mean_absolute_error: 17656.3633\n",
      "Epoch 20/50\n",
      "24/24 [==============================] - 0s 783us/step - loss: 309919072.0000 - mean_absolute_error: 16511.3555\n",
      "Epoch 21/50\n",
      "24/24 [==============================] - 0s 783us/step - loss: 269237376.0000 - mean_absolute_error: 15254.4707\n",
      "Epoch 22/50\n",
      "24/24 [==============================] - 0s 739us/step - loss: 229635344.0000 - mean_absolute_error: 13921.3086\n",
      "Epoch 23/50\n",
      "24/24 [==============================] - 0s 783us/step - loss: 191972080.0000 - mean_absolute_error: 12522.0518\n",
      "Epoch 24/50\n",
      "24/24 [==============================] - 0s 782us/step - loss: 157691536.0000 - mean_absolute_error: 11100.2520\n",
      "Epoch 25/50\n",
      "24/24 [==============================] - 0s 783us/step - loss: 127943832.0000 - mean_absolute_error: 9698.8184\n",
      "Epoch 26/50\n",
      "24/24 [==============================] - 0s 783us/step - loss: 102873704.0000 - mean_absolute_error: 8466.8809\n",
      "Epoch 27/50\n",
      "24/24 [==============================] - 0s 783us/step - loss: 82120632.0000 - mean_absolute_error: 7546.8018\n",
      "Epoch 28/50\n",
      "24/24 [==============================] - 0s 783us/step - loss: 66479112.0000 - mean_absolute_error: 6803.8672\n",
      "Epoch 29/50\n",
      "24/24 [==============================] - 0s 783us/step - loss: 54493488.0000 - mean_absolute_error: 6150.9927\n",
      "Epoch 30/50\n",
      "24/24 [==============================] - 0s 783us/step - loss: 45642556.0000 - mean_absolute_error: 5547.0210\n",
      "Epoch 31/50\n",
      "24/24 [==============================] - 0s 783us/step - loss: 40049536.0000 - mean_absolute_error: 5102.4365\n",
      "Epoch 32/50\n",
      "24/24 [==============================] - 0s 826us/step - loss: 36223340.0000 - mean_absolute_error: 4747.4365\n",
      "Epoch 33/50\n",
      "24/24 [==============================] - 0s 739us/step - loss: 33960456.0000 - mean_absolute_error: 4522.9507\n",
      "Epoch 34/50\n",
      "24/24 [==============================] - 0s 826us/step - loss: 32585928.0000 - mean_absolute_error: 4385.6821\n",
      "Epoch 35/50\n",
      "24/24 [==============================] - 0s 826us/step - loss: 31792354.0000 - mean_absolute_error: 4305.8506\n",
      "Epoch 36/50\n",
      "24/24 [==============================] - 0s 783us/step - loss: 31416902.0000 - mean_absolute_error: 4267.6567\n",
      "Epoch 37/50\n",
      "24/24 [==============================] - 0s 783us/step - loss: 31155764.0000 - mean_absolute_error: 4243.2285\n",
      "Epoch 38/50\n",
      "24/24 [==============================] - 0s 826us/step - loss: 31010262.0000 - mean_absolute_error: 4223.0762\n",
      "Epoch 39/50\n",
      "24/24 [==============================] - 0s 783us/step - loss: 30912284.0000 - mean_absolute_error: 4212.6567\n",
      "Epoch 40/50\n",
      "24/24 [==============================] - 0s 783us/step - loss: 30851330.0000 - mean_absolute_error: 4206.5688\n",
      "Epoch 41/50\n",
      "24/24 [==============================] - 0s 783us/step - loss: 30804738.0000 - mean_absolute_error: 4201.6807\n",
      "Epoch 42/50\n",
      "24/24 [==============================] - 0s 739us/step - loss: 30763354.0000 - mean_absolute_error: 4197.0391\n",
      "Epoch 43/50\n",
      "24/24 [==============================] - 0s 870us/step - loss: 30738540.0000 - mean_absolute_error: 4194.0283\n",
      "Epoch 44/50\n",
      "24/24 [==============================] - 0s 957us/step - loss: 30697802.0000 - mean_absolute_error: 4190.6392\n",
      "Epoch 45/50\n",
      "24/24 [==============================] - 0s 1ms/step - loss: 30666220.0000 - mean_absolute_error: 4187.9971\n",
      "Epoch 46/50\n",
      "24/24 [==============================] - 0s 783us/step - loss: 30636166.0000 - mean_absolute_error: 4184.5752\n",
      "Epoch 47/50\n",
      "24/24 [==============================] - 0s 783us/step - loss: 30592616.0000 - mean_absolute_error: 4180.6226\n",
      "Epoch 48/50\n",
      "24/24 [==============================] - 0s 870us/step - loss: 30563646.0000 - mean_absolute_error: 4177.8594\n",
      "Epoch 49/50\n",
      "24/24 [==============================] - 0s 782us/step - loss: 30525804.0000 - mean_absolute_error: 4173.7583\n",
      "Epoch 50/50\n",
      "24/24 [==============================] - 0s 783us/step - loss: 30494454.0000 - mean_absolute_error: 4169.9893\n"
     ]
    }
   ],
   "source": [
    "model = tf.keras.Sequential([\n",
    "    tf.keras.layers.Dense(10, activation=\"relu\"),\n",
    "    tf.keras.layers.Dense(30, activation=\"relu\"),\n",
    "    tf.keras.layers.Dense(1)\n",
    "])\n",
    "\n",
    "model.compile(loss=\"mean_squared_error\", optimizer=tf.keras.optimizers.Adam(), metrics=[tf.keras.metrics.mean_absolute_error])\n",
    "\n",
    "history = model.fit(x_train, y_train, epochs=50, verbose=1)\n"
   ]
  },
  {
   "cell_type": "code",
   "execution_count": 462,
   "metadata": {},
   "outputs": [
    {
     "data": {
      "text/plain": [
       "<Axes: >"
      ]
     },
     "execution_count": 462,
     "metadata": {},
     "output_type": "execute_result"
    },
    {
     "data": {
      "image/png": "[encoded data removed]",
      "text/plain": [
       "<Figure size 640x480 with 1 Axes>"
      ]
     },
     "metadata": {},
     "output_type": "display_data"
    }
   ],
   "source": [
    "hist = pd.DataFrame(history.history)\n",
    "hist.plot()"
   ]
  },
  {
   "cell_type": "markdown",
   "metadata": {},
   "source": [
    "**Повторное обучение с оцененной скоростью обучения**"
   ]
  },
  {
   "cell_type": "code",
   "execution_count": 463,
   "metadata": {},
   "outputs": [
    {
     "name": "stdout",
     "output_type": "stream",
     "text": [
      "Epoch 1/15\n",
      "24/24 [==============================] - 0s 826us/step - loss: 621440640.0000 - mean_absolute_error: 24104.7578\n",
      "Epoch 2/15\n",
      "24/24 [==============================] - 0s 783us/step - loss: 503585728.0000 - mean_absolute_error: 21479.8477\n",
      "Epoch 3/15\n",
      "24/24 [==============================] - 0s 826us/step - loss: 196364960.0000 - mean_absolute_error: 12183.8838\n",
      "Epoch 4/15\n",
      "24/24 [==============================] - 0s 783us/step - loss: 38656224.0000 - mean_absolute_error: 4862.3892\n",
      "Epoch 5/15\n",
      "24/24 [==============================] - 0s 783us/step - loss: 34556604.0000 - mean_absolute_error: 4561.2612\n",
      "Epoch 6/15\n",
      "24/24 [==============================] - 0s 783us/step - loss: 33494948.0000 - mean_absolute_error: 4445.4292\n",
      "Epoch 7/15\n",
      "24/24 [==============================] - 0s 783us/step - loss: 32891686.0000 - mean_absolute_error: 4409.4751\n",
      "Epoch 8/15\n",
      "24/24 [==============================] - 0s 783us/step - loss: 32340924.0000 - mean_absolute_error: 4363.3770\n",
      "Epoch 9/15\n",
      "24/24 [==============================] - 0s 783us/step - loss: 31979464.0000 - mean_absolute_error: 4304.1611\n",
      "Epoch 10/15\n",
      "24/24 [==============================] - 0s 783us/step - loss: 31825052.0000 - mean_absolute_error: 4344.9102\n",
      "Epoch 11/15\n",
      "24/24 [==============================] - 0s 783us/step - loss: 30876296.0000 - mean_absolute_error: 4214.0576\n",
      "Epoch 12/15\n",
      "24/24 [==============================] - 0s 783us/step - loss: 30295688.0000 - mean_absolute_error: 4162.6616\n",
      "Epoch 13/15\n",
      "24/24 [==============================] - 0s 783us/step - loss: 29806326.0000 - mean_absolute_error: 4109.2197\n",
      "Epoch 14/15\n",
      "24/24 [==============================] - 0s 783us/step - loss: 29308884.0000 - mean_absolute_error: 4060.7427\n",
      "Epoch 15/15\n",
      "24/24 [==============================] - 0s 783us/step - loss: 28866072.0000 - mean_absolute_error: 4028.6597\n"
     ]
    }
   ],
   "source": [
    "model = tf.keras.Sequential([\n",
    "    tf.keras.layers.Dense(10, activation=\"relu\"),\n",
    "    tf.keras.layers.Dense(30, activation=\"relu\"),\n",
    "    tf.keras.layers.Dense(1)\n",
    "])\n",
    "\n",
    "model.compile(loss=\"mean_squared_error\", optimizer=tf.keras.optimizers.Adam(learning_rate=0.0097), metrics=[tf.keras.metrics.mean_absolute_error])\n",
    "\n",
    "history = model.fit(x_train, y_train, epochs=15, verbose=1)\n"
   ]
  },
  {
   "cell_type": "code",
   "execution_count": 464,
   "metadata": {},
   "outputs": [
    {
     "name": "stderr",
     "output_type": "stream",
     "text": [
      "c:\\Python311\\Lib\\site-packages\\keras\\src\\engine\\training.py:3103: UserWarning: You are saving your model as an HDF5 file via `model.save()`. This file format is considered legacy. We recommend using instead the native Keras format, e.g. `model.save('my_model.keras')`.\n",
      "  saving_api.save_model(\n"
     ]
    }
   ],
   "source": [
    "model.save(\"model_Medicalpremium.h5\")\n",
    "\n",
    "model1 = keras.models.load_model(\"model_Medicalpremium.h5\")"
   ]
  },
  {
   "cell_type": "markdown",
   "metadata": {},
   "source": [
    "**Предсказание на тестовой выборке**"
   ]
  },
  {
   "cell_type": "code",
   "execution_count": 465,
   "metadata": {},
   "outputs": [
    {
     "name": "stdout",
     "output_type": "stream",
     "text": [
      "8/8 [==============================] - 0s 858us/step\n"
     ]
    }
   ],
   "source": [
    "y_pred = model.predict(x_test)"
   ]
  },
  {
   "cell_type": "markdown",
   "metadata": {},
   "source": [
    "**Создание графика и Добавление линии идентичности (предсказания = истинные значения)**\n",
    "\n",
    "**На этом графике точки, которые ближе к красной линии, соответствуют предсказаниям, которые ближе к истинным значениям**"
   ]
  },
  {
   "cell_type": "code",
   "execution_count": 466,
   "metadata": {},
   "outputs": [
    {
     "data": {
      "image/png": "[encoded data removed]",
      "text/plain": [
       "<Figure size 1000x600 with 1 Axes>"
      ]
     },
     "metadata": {},
     "output_type": "display_data"
    }
   ],
   "source": [
    "plt.figure(figsize=(10, 6))\n",
    "plt.scatter(y_test, y_pred, alpha=0.5)\n",
    "plt.xlabel(\"Actual Premium Prices\")\n",
    "plt.ylabel(\"Predicted Premium Prices\")\n",
    "plt.title(\"Actual vs Predicted Premium Prices\")\n",
    "\n",
    "plt.plot([min(y_test), max(y_test)], [min(y_test), max(y_test)], color='red')\n",
    "\n",
    "plt.show()"
   ]
  },
  {
   "cell_type": "markdown",
   "metadata": {},
   "source": [
    "**Вычисления метрик регрессии**"
   ]
  },
  {
   "cell_type": "code",
   "execution_count": 467,
   "metadata": {},
   "outputs": [
    {
     "data": {
      "text/plain": [
       "'Mean Squared Error: 23468298.26448337, Mean Absolute Error: 3655.913287575911, R^2 Score: 0.32218035796625055'"
      ]
     },
     "execution_count": 467,
     "metadata": {},
     "output_type": "execute_result"
    }
   ],
   "source": [
    "def regression_metrics(y_test, y_pred):\n",
    "    mse = mean_squared_error(y_test, y_pred)\n",
    "    mae = mean_absolute_error(y_test, y_pred)\n",
    "    r2 = r2_score(y_test, y_pred)\n",
    "    return f\"Mean Squared Error: {mse}, Mean Absolute Error: {mae}, R^2 Score: {r2}\"  \n",
    "\n",
    "regression_metrics(y_test, y_pred)"
   ]
  },
  {
   "cell_type": "code",
   "execution_count": 468,
   "metadata": {},
   "outputs": [
    {
     "name": "stdout",
     "output_type": "stream",
     "text": [
      "1/1 [==============================] - 0s 19ms/step\n"
     ]
    },
    {
     "data": {
      "text/plain": [
       "417    23000\n",
       "Name: PremiumPrice, dtype: int64"
      ]
     },
     "execution_count": 468,
     "metadata": {},
     "output_type": "execute_result"
    }
   ],
   "source": [
    "# Получение предсказания модели на одном образце из тестового набора данных\n",
    "test = model.predict(x_test.iloc[[10]])\n",
    "\n",
    "# Вывод предсказания\n",
    "test\n",
    "\n",
    "# Вывод истинного значения\n",
    "y_test.iloc[[10]]"
   ]
  },
  {
   "cell_type": "markdown",
   "metadata": {},
   "source": [
    "**Создание и обучение модели**"
   ]
  },
  {
   "cell_type": "code",
   "execution_count": 469,
   "metadata": {},
   "outputs": [
    {
     "data": {
      "text/html": [
       "<style>#sk-container-id-3 {color: black;}#sk-container-id-3 pre{padding: 0;}#sk-container-id-3 div.sk-toggleable {background-color: white;}#sk-container-id-3 label.sk-toggleable__label {cursor: pointer;display: block;width: 100%;margin-bottom: 0;padding: 0.3em;box-sizing: border-box;text-align: center;}#sk-container-id-3 label.sk-toggleable__label-arrow:before {content: \"▸\";float: left;margin-right: 0.25em;color: #696969;}#sk-container-id-3 label.sk-toggleable__label-arrow:hover:before {color: black;}#sk-container-id-3 div.sk-estimator:hover label.sk-toggleable__label-arrow:before {color: black;}#sk-container-id-3 div.sk-toggleable__content {max-height: 0;max-width: 0;overflow: hidden;text-align: left;background-color: #f0f8ff;}#sk-container-id-3 div.sk-toggleable__content pre {margin: 0.2em;color: black;border-radius: 0.25em;background-color: #f0f8ff;}#sk-container-id-3 input.sk-toggleable__control:checked~div.sk-toggleable__content {max-height: 200px;max-width: 100%;overflow: auto;}#sk-container-id-3 input.sk-toggleable__control:checked~label.sk-toggleable__label-arrow:before {content: \"▾\";}#sk-container-id-3 div.sk-estimator input.sk-toggleable__control:checked~label.sk-toggleable__label {background-color: #d4ebff;}#sk-container-id-3 div.sk-label input.sk-toggleable__control:checked~label.sk-toggleable__label {background-color: #d4ebff;}#sk-container-id-3 input.sk-hidden--visually {border: 0;clip: rect(1px 1px 1px 1px);clip: rect(1px, 1px, 1px, 1px);height: 1px;margin: -1px;overflow: hidden;padding: 0;position: absolute;width: 1px;}#sk-container-id-3 div.sk-estimator {font-family: monospace;background-color: #f0f8ff;border: 1px dotted black;border-radius: 0.25em;box-sizing: border-box;margin-bottom: 0.5em;}#sk-container-id-3 div.sk-estimator:hover {background-color: #d4ebff;}#sk-container-id-3 div.sk-parallel-item::after {content: \"\";width: 100%;border-bottom: 1px solid gray;flex-grow: 1;}#sk-container-id-3 div.sk-label:hover label.sk-toggleable__label {background-color: #d4ebff;}#sk-container-id-3 div.sk-serial::before {content: \"\";position: absolute;border-left: 1px solid gray;box-sizing: border-box;top: 0;bottom: 0;left: 50%;z-index: 0;}#sk-container-id-3 div.sk-serial {display: flex;flex-direction: column;align-items: center;background-color: white;padding-right: 0.2em;padding-left: 0.2em;position: relative;}#sk-container-id-3 div.sk-item {position: relative;z-index: 1;}#sk-container-id-3 div.sk-parallel {display: flex;align-items: stretch;justify-content: center;background-color: white;position: relative;}#sk-container-id-3 div.sk-item::before, #sk-container-id-3 div.sk-parallel-item::before {content: \"\";position: absolute;border-left: 1px solid gray;box-sizing: border-box;top: 0;bottom: 0;left: 50%;z-index: -1;}#sk-container-id-3 div.sk-parallel-item {display: flex;flex-direction: column;z-index: 1;position: relative;background-color: white;}#sk-container-id-3 div.sk-parallel-item:first-child::after {align-self: flex-end;width: 50%;}#sk-container-id-3 div.sk-parallel-item:last-child::after {align-self: flex-start;width: 50%;}#sk-container-id-3 div.sk-parallel-item:only-child::after {width: 0;}#sk-container-id-3 div.sk-dashed-wrapped {border: 1px dashed gray;margin: 0 0.4em 0.5em 0.4em;box-sizing: border-box;padding-bottom: 0.4em;background-color: white;}#sk-container-id-3 div.sk-label label {font-family: monospace;font-weight: bold;display: inline-block;line-height: 1.2em;}#sk-container-id-3 div.sk-label-container {text-align: center;}#sk-container-id-3 div.sk-container {/* jupyter's `normalize.less` sets `[hidden] { display: none; }` but bootstrap.min.css set `[hidden] { display: none !important; }` so we also need the `!important` here to be able to override the default hidden behavior on the sphinx rendered scikit-learn.org. See: https://github.com/scikit-learn/scikit-learn/issues/21755 */display: inline-block !important;position: relative;}#sk-container-id-3 div.sk-text-repr-fallback {display: none;}</style><div id=\"sk-container-id-3\" class=\"sk-top-container\"><div class=\"sk-text-repr-fallback\"><pre>XGBRegressor(base_score=None, booster=None, callbacks=None,\n",
       "             colsample_bylevel=None, colsample_bynode=None,\n",
       "             colsample_bytree=None, device=None, early_stopping_rounds=None,\n",
       "             enable_categorical=False, eval_metric=None, feature_types=None,\n",
       "             gamma=None, grow_policy=None, importance_type=None,\n",
       "             interaction_constraints=None, learning_rate=None, max_bin=None,\n",
       "             max_cat_threshold=None, max_cat_to_onehot=None,\n",
       "             max_delta_step=None, max_depth=None, max_leaves=None,\n",
       "             min_child_weight=None, missing=nan, monotone_constraints=None,\n",
       "             multi_strategy=None, n_estimators=None, n_jobs=None,\n",
       "             num_parallel_tree=None, random_state=None, ...)</pre><b>In a Jupyter environment, please rerun this cell to show the HTML representation or trust the notebook. <br />On GitHub, the HTML representation is unable to render, please try loading this page with nbviewer.org.</b></div><div class=\"sk-container\" hidden><div class=\"sk-item\"><div class=\"sk-estimator sk-toggleable\"><input class=\"sk-toggleable__control sk-hidden--visually\" id=\"sk-estimator-id-3\" type=\"checkbox\" checked><label for=\"sk-estimator-id-3\" class=\"sk-toggleable__label sk-toggleable__label-arrow\">XGBRegressor</label><div class=\"sk-toggleable__content\"><pre>XGBRegressor(base_score=None, booster=None, callbacks=None,\n",
       "             colsample_bylevel=None, colsample_bynode=None,\n",
       "             colsample_bytree=None, device=None, early_stopping_rounds=None,\n",
       "             enable_categorical=False, eval_metric=None, feature_types=None,\n",
       "             gamma=None, grow_policy=None, importance_type=None,\n",
       "             interaction_constraints=None, learning_rate=None, max_bin=None,\n",
       "             max_cat_threshold=None, max_cat_to_onehot=None,\n",
       "             max_delta_step=None, max_depth=None, max_leaves=None,\n",
       "             min_child_weight=None, missing=nan, monotone_constraints=None,\n",
       "             multi_strategy=None, n_estimators=None, n_jobs=None,\n",
       "             num_parallel_tree=None, random_state=None, ...)</pre></div></div></div></div></div>"
      ],
      "text/plain": [
       "XGBRegressor(base_score=None, booster=None, callbacks=None,\n",
       "             colsample_bylevel=None, colsample_bynode=None,\n",
       "             colsample_bytree=None, device=None, early_stopping_rounds=None,\n",
       "             enable_categorical=False, eval_metric=None, feature_types=None,\n",
       "             gamma=None, grow_policy=None, importance_type=None,\n",
       "             interaction_constraints=None, learning_rate=None, max_bin=None,\n",
       "             max_cat_threshold=None, max_cat_to_onehot=None,\n",
       "             max_delta_step=None, max_depth=None, max_leaves=None,\n",
       "             min_child_weight=None, missing=nan, monotone_constraints=None,\n",
       "             multi_strategy=None, n_estimators=None, n_jobs=None,\n",
       "             num_parallel_tree=None, random_state=None, ...)"
      ]
     },
     "execution_count": 469,
     "metadata": {},
     "output_type": "execute_result"
    }
   ],
   "source": [
    "model_xgbr = xgb.XGBRegressor(verbosity=0) \n",
    "model_xgbr.fit(x_train, y_train)"
   ]
  },
  {
   "cell_type": "markdown",
   "metadata": {},
   "source": [
    "**Предсказание на тестовой выборке**"
   ]
  },
  {
   "cell_type": "code",
   "execution_count": 470,
   "metadata": {},
   "outputs": [],
   "source": [
    "y_pred_xgbr = model_xgbr.predict(x_test)"
   ]
  },
  {
   "cell_type": "markdown",
   "metadata": {},
   "source": [
    "**Вычисление метрик**"
   ]
  },
  {
   "cell_type": "code",
   "execution_count": 471,
   "metadata": {},
   "outputs": [
    {
     "name": "stdout",
     "output_type": "stream",
     "text": [
      "Mean Squared Error: 10681703.6347522\n",
      "Mean Absolute Error: 1483.0763339764676\n",
      "R^2 Score: 0.6914872798861744\n"
     ]
    }
   ],
   "source": [
    "mse = mean_squared_error(y_test, y_pred_xgbr)\n",
    "mae = mean_absolute_error(y_test, y_pred_xgbr)\n",
    "r2 = r2_score(y_test, y_pred_xgbr)\n",
    "\n",
    "print(f\"Mean Squared Error: {mse}\")\n",
    "print(f\"Mean Absolute Error: {mae}\")\n",
    "print(f\"R^2 Score: {r2}\")"
   ]
  }
 ],
 "metadata": {
  "kernelspec": {
   "display_name": "Python 3",
   "language": "python",
   "name": "python3"
  },
  "language_info": {
   "codemirror_mode": {
    "name": "ipython",
    "version": 3
   },
   "file_extension": ".py",
   "mimetype": "text/x-python",
   "name": "python",
   "nbconvert_exporter": "python",
   "pygments_lexer": "ipython3",
   "version": "3.11.5"
  }
 },
 "nbformat": 4,
 "nbformat_minor": 2
}
