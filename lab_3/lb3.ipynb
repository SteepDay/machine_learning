{
 "cells": [
  {
   "cell_type": "code",
   "execution_count": 302,
   "metadata": {},
   "outputs": [],
   "source": [
    "import pandas\n",
    "import optuna\n",
    "from sklearn.model_selection import train_test_split\n",
    "from sklearn import metrics\n",
    "from sklearn.linear_model import LinearRegression\n",
    "from sklearn.tree import DecisionTreeRegressor\n",
    "from catboost import CatBoostRegressor\n",
    "import matplotlib.pyplot as plt\n",
    "from sklearn.tree import plot_tree"
   ]
  },
  {
   "cell_type": "markdown",
   "metadata": {},
   "source": [
    "**Загрузка данных**"
   ]
  },
  {
   "cell_type": "code",
   "execution_count": 303,
   "metadata": {},
   "outputs": [
    {
     "data": {
      "text/html": [
       "<div>\n",
       "<style scoped>\n",
       "    .dataframe tbody tr th:only-of-type {\n",
       "        vertical-align: middle;\n",
       "    }\n",
       "\n",
       "    .dataframe tbody tr th {\n",
       "        vertical-align: top;\n",
       "    }\n",
       "\n",
       "    .dataframe thead th {\n",
       "        text-align: right;\n",
       "    }\n",
       "</style>\n",
       "<table border=\"1\" class=\"dataframe\">\n",
       "  <thead>\n",
       "    <tr style=\"text-align: right;\">\n",
       "      <th></th>\n",
       "      <th>Age</th>\n",
       "      <th>Diabetes</th>\n",
       "      <th>BloodPressureProblems</th>\n",
       "      <th>AnyTransplants</th>\n",
       "      <th>AnyChronicDiseases</th>\n",
       "      <th>Height</th>\n",
       "      <th>Weight</th>\n",
       "      <th>KnownAllergies</th>\n",
       "      <th>HistoryOfCancerInFamily</th>\n",
       "      <th>NumberOfMajorSurgeries</th>\n",
       "      <th>PremiumPrice</th>\n",
       "    </tr>\n",
       "  </thead>\n",
       "  <tbody>\n",
       "    <tr>\n",
       "      <th>0</th>\n",
       "      <td>45</td>\n",
       "      <td>0</td>\n",
       "      <td>0</td>\n",
       "      <td>0</td>\n",
       "      <td>0</td>\n",
       "      <td>155</td>\n",
       "      <td>57</td>\n",
       "      <td>0</td>\n",
       "      <td>0</td>\n",
       "      <td>0</td>\n",
       "      <td>25000</td>\n",
       "    </tr>\n",
       "    <tr>\n",
       "      <th>1</th>\n",
       "      <td>60</td>\n",
       "      <td>1</td>\n",
       "      <td>0</td>\n",
       "      <td>0</td>\n",
       "      <td>0</td>\n",
       "      <td>180</td>\n",
       "      <td>73</td>\n",
       "      <td>0</td>\n",
       "      <td>0</td>\n",
       "      <td>0</td>\n",
       "      <td>29000</td>\n",
       "    </tr>\n",
       "    <tr>\n",
       "      <th>2</th>\n",
       "      <td>36</td>\n",
       "      <td>1</td>\n",
       "      <td>1</td>\n",
       "      <td>0</td>\n",
       "      <td>0</td>\n",
       "      <td>158</td>\n",
       "      <td>59</td>\n",
       "      <td>0</td>\n",
       "      <td>0</td>\n",
       "      <td>1</td>\n",
       "      <td>23000</td>\n",
       "    </tr>\n",
       "    <tr>\n",
       "      <th>3</th>\n",
       "      <td>52</td>\n",
       "      <td>1</td>\n",
       "      <td>1</td>\n",
       "      <td>0</td>\n",
       "      <td>1</td>\n",
       "      <td>183</td>\n",
       "      <td>93</td>\n",
       "      <td>0</td>\n",
       "      <td>0</td>\n",
       "      <td>2</td>\n",
       "      <td>28000</td>\n",
       "    </tr>\n",
       "    <tr>\n",
       "      <th>4</th>\n",
       "      <td>38</td>\n",
       "      <td>0</td>\n",
       "      <td>0</td>\n",
       "      <td>0</td>\n",
       "      <td>1</td>\n",
       "      <td>166</td>\n",
       "      <td>88</td>\n",
       "      <td>0</td>\n",
       "      <td>0</td>\n",
       "      <td>1</td>\n",
       "      <td>23000</td>\n",
       "    </tr>\n",
       "    <tr>\n",
       "      <th>...</th>\n",
       "      <td>...</td>\n",
       "      <td>...</td>\n",
       "      <td>...</td>\n",
       "      <td>...</td>\n",
       "      <td>...</td>\n",
       "      <td>...</td>\n",
       "      <td>...</td>\n",
       "      <td>...</td>\n",
       "      <td>...</td>\n",
       "      <td>...</td>\n",
       "      <td>...</td>\n",
       "    </tr>\n",
       "    <tr>\n",
       "      <th>981</th>\n",
       "      <td>18</td>\n",
       "      <td>0</td>\n",
       "      <td>0</td>\n",
       "      <td>0</td>\n",
       "      <td>0</td>\n",
       "      <td>169</td>\n",
       "      <td>67</td>\n",
       "      <td>0</td>\n",
       "      <td>0</td>\n",
       "      <td>0</td>\n",
       "      <td>15000</td>\n",
       "    </tr>\n",
       "    <tr>\n",
       "      <th>982</th>\n",
       "      <td>64</td>\n",
       "      <td>1</td>\n",
       "      <td>1</td>\n",
       "      <td>0</td>\n",
       "      <td>0</td>\n",
       "      <td>153</td>\n",
       "      <td>70</td>\n",
       "      <td>0</td>\n",
       "      <td>0</td>\n",
       "      <td>3</td>\n",
       "      <td>28000</td>\n",
       "    </tr>\n",
       "    <tr>\n",
       "      <th>983</th>\n",
       "      <td>56</td>\n",
       "      <td>0</td>\n",
       "      <td>1</td>\n",
       "      <td>0</td>\n",
       "      <td>0</td>\n",
       "      <td>155</td>\n",
       "      <td>71</td>\n",
       "      <td>0</td>\n",
       "      <td>0</td>\n",
       "      <td>1</td>\n",
       "      <td>29000</td>\n",
       "    </tr>\n",
       "    <tr>\n",
       "      <th>984</th>\n",
       "      <td>47</td>\n",
       "      <td>1</td>\n",
       "      <td>1</td>\n",
       "      <td>0</td>\n",
       "      <td>0</td>\n",
       "      <td>158</td>\n",
       "      <td>73</td>\n",
       "      <td>1</td>\n",
       "      <td>0</td>\n",
       "      <td>1</td>\n",
       "      <td>39000</td>\n",
       "    </tr>\n",
       "    <tr>\n",
       "      <th>985</th>\n",
       "      <td>21</td>\n",
       "      <td>0</td>\n",
       "      <td>0</td>\n",
       "      <td>0</td>\n",
       "      <td>0</td>\n",
       "      <td>158</td>\n",
       "      <td>75</td>\n",
       "      <td>1</td>\n",
       "      <td>0</td>\n",
       "      <td>1</td>\n",
       "      <td>15000</td>\n",
       "    </tr>\n",
       "  </tbody>\n",
       "</table>\n",
       "<p>986 rows × 11 columns</p>\n",
       "</div>"
      ],
      "text/plain": [
       "     Age  Diabetes  BloodPressureProblems  AnyTransplants  AnyChronicDiseases  \\\n",
       "0     45         0                      0               0                   0   \n",
       "1     60         1                      0               0                   0   \n",
       "2     36         1                      1               0                   0   \n",
       "3     52         1                      1               0                   1   \n",
       "4     38         0                      0               0                   1   \n",
       "..   ...       ...                    ...             ...                 ...   \n",
       "981   18         0                      0               0                   0   \n",
       "982   64         1                      1               0                   0   \n",
       "983   56         0                      1               0                   0   \n",
       "984   47         1                      1               0                   0   \n",
       "985   21         0                      0               0                   0   \n",
       "\n",
       "     Height  Weight  KnownAllergies  HistoryOfCancerInFamily  \\\n",
       "0       155      57               0                        0   \n",
       "1       180      73               0                        0   \n",
       "2       158      59               0                        0   \n",
       "3       183      93               0                        0   \n",
       "4       166      88               0                        0   \n",
       "..      ...     ...             ...                      ...   \n",
       "981     169      67               0                        0   \n",
       "982     153      70               0                        0   \n",
       "983     155      71               0                        0   \n",
       "984     158      73               1                        0   \n",
       "985     158      75               1                        0   \n",
       "\n",
       "     NumberOfMajorSurgeries  PremiumPrice  \n",
       "0                         0         25000  \n",
       "1                         0         29000  \n",
       "2                         1         23000  \n",
       "3                         2         28000  \n",
       "4                         1         23000  \n",
       "..                      ...           ...  \n",
       "981                       0         15000  \n",
       "982                       3         28000  \n",
       "983                       1         29000  \n",
       "984                       1         39000  \n",
       "985                       1         15000  \n",
       "\n",
       "[986 rows x 11 columns]"
      ]
     },
     "execution_count": 303,
     "metadata": {},
     "output_type": "execute_result"
    }
   ],
   "source": [
    "df = pandas.read_csv(\"Medicalpremium.csv\")\n",
    "df"
   ]
  },
  {
   "cell_type": "code",
   "execution_count": 304,
   "metadata": {},
   "outputs": [
    {
     "data": {
      "text/html": [
       "<style type=\"text/css\">\n",
       "#T_157d4_row0_col0, #T_157d4_row1_col1, #T_157d4_row2_col2, #T_157d4_row3_col3, #T_157d4_row4_col4, #T_157d4_row5_col5, #T_157d4_row6_col6, #T_157d4_row7_col7, #T_157d4_row8_col8, #T_157d4_row9_col9, #T_157d4_row10_col10 {\n",
       "  background-color: #b40426;\n",
       "  color: #f1f1f1;\n",
       "}\n",
       "#T_157d4_row0_col1, #T_157d4_row10_col4 {\n",
       "  background-color: #96b7ff;\n",
       "  color: #000000;\n",
       "}\n",
       "#T_157d4_row0_col2 {\n",
       "  background-color: #9abbff;\n",
       "  color: #000000;\n",
       "}\n",
       "#T_157d4_row0_col3, #T_157d4_row0_col8, #T_157d4_row4_col6, #T_157d4_row7_col5 {\n",
       "  background-color: #4257c9;\n",
       "  color: #f1f1f1;\n",
       "}\n",
       "#T_157d4_row0_col4, #T_157d4_row6_col10, #T_157d4_row10_col8 {\n",
       "  background-color: #6384eb;\n",
       "  color: #f1f1f1;\n",
       "}\n",
       "#T_157d4_row0_col5, #T_157d4_row3_col7, #T_157d4_row4_col0 {\n",
       "  background-color: #516ddb;\n",
       "  color: #f1f1f1;\n",
       "}\n",
       "#T_157d4_row0_col6 {\n",
       "  background-color: #465ecf;\n",
       "  color: #f1f1f1;\n",
       "}\n",
       "#T_157d4_row0_col7, #T_157d4_row6_col4, #T_157d4_row9_col6 {\n",
       "  background-color: #4a63d3;\n",
       "  color: #f1f1f1;\n",
       "}\n",
       "#T_157d4_row0_col9 {\n",
       "  background-color: #cad8ef;\n",
       "  color: #000000;\n",
       "}\n",
       "#T_157d4_row0_col10 {\n",
       "  background-color: #f7af91;\n",
       "  color: #000000;\n",
       "}\n",
       "#T_157d4_row1_col0 {\n",
       "  background-color: #86a9fc;\n",
       "  color: #f1f1f1;\n",
       "}\n",
       "#T_157d4_row1_col2 {\n",
       "  background-color: #7396f5;\n",
       "  color: #f1f1f1;\n",
       "}\n",
       "#T_157d4_row1_col3, #T_157d4_row1_col4, #T_157d4_row1_col7, #T_157d4_row1_col8, #T_157d4_row2_col5, #T_157d4_row2_col6, #T_157d4_row3_col9, #T_157d4_row4_col1, #T_157d4_row6_col2, #T_157d4_row6_col9, #T_157d4_row7_col0, #T_157d4_row7_col10, #T_157d4_row8_col0 {\n",
       "  background-color: #3b4cc0;\n",
       "  color: #f1f1f1;\n",
       "}\n",
       "#T_157d4_row1_col5, #T_157d4_row1_col6, #T_157d4_row3_col2, #T_157d4_row3_col8, #T_157d4_row9_col3 {\n",
       "  background-color: #445acc;\n",
       "  color: #f1f1f1;\n",
       "}\n",
       "#T_157d4_row1_col9, #T_157d4_row5_col4 {\n",
       "  background-color: #6282ea;\n",
       "  color: #f1f1f1;\n",
       "}\n",
       "#T_157d4_row1_col10, #T_157d4_row2_col7, #T_157d4_row5_col0, #T_157d4_row5_col7, #T_157d4_row5_col8 {\n",
       "  background-color: #4e68d8;\n",
       "  color: #f1f1f1;\n",
       "}\n",
       "#T_157d4_row2_col0 {\n",
       "  background-color: #92b4fe;\n",
       "  color: #000000;\n",
       "}\n",
       "#T_157d4_row2_col1 {\n",
       "  background-color: #7b9ff9;\n",
       "  color: #f1f1f1;\n",
       "}\n",
       "#T_157d4_row2_col3, #T_157d4_row6_col0, #T_157d4_row7_col1 {\n",
       "  background-color: #3d50c3;\n",
       "  color: #f1f1f1;\n",
       "}\n",
       "#T_157d4_row2_col4 {\n",
       "  background-color: #6180e9;\n",
       "  color: #f1f1f1;\n",
       "}\n",
       "#T_157d4_row2_col8, #T_157d4_row4_col2, #T_157d4_row6_col5 {\n",
       "  background-color: #5977e3;\n",
       "  color: #f1f1f1;\n",
       "}\n",
       "#T_157d4_row2_col9, #T_157d4_row9_col8, #T_157d4_row9_col10 {\n",
       "  background-color: #8fb1fe;\n",
       "  color: #000000;\n",
       "}\n",
       "#T_157d4_row2_col10 {\n",
       "  background-color: #6c8ff1;\n",
       "  color: #f1f1f1;\n",
       "}\n",
       "#T_157d4_row3_col0, #T_157d4_row8_col3 {\n",
       "  background-color: #3f53c6;\n",
       "  color: #f1f1f1;\n",
       "}\n",
       "#T_157d4_row3_col1, #T_157d4_row4_col7 {\n",
       "  background-color: #4961d2;\n",
       "  color: #f1f1f1;\n",
       "}\n",
       "#T_157d4_row3_col4 {\n",
       "  background-color: #5e7de7;\n",
       "  color: #f1f1f1;\n",
       "}\n",
       "#T_157d4_row3_col5, #T_157d4_row5_col3 {\n",
       "  background-color: #3c4ec2;\n",
       "  color: #f1f1f1;\n",
       "}\n",
       "#T_157d4_row3_col6, #T_157d4_row4_col8, #T_157d4_row6_col1, #T_157d4_row8_col6, #T_157d4_row10_col5 {\n",
       "  background-color: #4c66d6;\n",
       "  color: #f1f1f1;\n",
       "}\n",
       "#T_157d4_row3_col10 {\n",
       "  background-color: #97b8ff;\n",
       "  color: #000000;\n",
       "}\n",
       "#T_157d4_row4_col3 {\n",
       "  background-color: #4f69d9;\n",
       "  color: #f1f1f1;\n",
       "}\n",
       "#T_157d4_row4_col5, #T_157d4_row10_col7 {\n",
       "  background-color: #5470de;\n",
       "  color: #f1f1f1;\n",
       "}\n",
       "#T_157d4_row4_col9, #T_157d4_row5_col2 {\n",
       "  background-color: #4055c8;\n",
       "  color: #f1f1f1;\n",
       "}\n",
       "#T_157d4_row4_col10 {\n",
       "  background-color: #7a9df8;\n",
       "  color: #f1f1f1;\n",
       "}\n",
       "#T_157d4_row5_col1 {\n",
       "  background-color: #536edd;\n",
       "  color: #f1f1f1;\n",
       "}\n",
       "#T_157d4_row5_col6 {\n",
       "  background-color: #5f7fe8;\n",
       "  color: #f1f1f1;\n",
       "}\n",
       "#T_157d4_row5_col9, #T_157d4_row7_col2, #T_157d4_row8_col5 {\n",
       "  background-color: #485fd1;\n",
       "  color: #f1f1f1;\n",
       "}\n",
       "#T_157d4_row5_col10 {\n",
       "  background-color: #3e51c5;\n",
       "  color: #f1f1f1;\n",
       "}\n",
       "#T_157d4_row6_col3, #T_157d4_row7_col3 {\n",
       "  background-color: #455cce;\n",
       "  color: #f1f1f1;\n",
       "}\n",
       "#T_157d4_row6_col7, #T_157d4_row7_col9 {\n",
       "  background-color: #5b7ae5;\n",
       "  color: #f1f1f1;\n",
       "}\n",
       "#T_157d4_row6_col8, #T_157d4_row7_col4 {\n",
       "  background-color: #4b64d5;\n",
       "  color: #f1f1f1;\n",
       "}\n",
       "#T_157d4_row7_col6, #T_157d4_row8_col4 {\n",
       "  background-color: #5673e0;\n",
       "  color: #f1f1f1;\n",
       "}\n",
       "#T_157d4_row7_col8 {\n",
       "  background-color: #6e90f2;\n",
       "  color: #f1f1f1;\n",
       "}\n",
       "#T_157d4_row8_col1 {\n",
       "  background-color: #4358cb;\n",
       "  color: #f1f1f1;\n",
       "}\n",
       "#T_157d4_row8_col2 {\n",
       "  background-color: #5a78e4;\n",
       "  color: #f1f1f1;\n",
       "}\n",
       "#T_157d4_row8_col7 {\n",
       "  background-color: #7597f6;\n",
       "  color: #f1f1f1;\n",
       "}\n",
       "#T_157d4_row8_col9, #T_157d4_row10_col2 {\n",
       "  background-color: #81a4fb;\n",
       "  color: #f1f1f1;\n",
       "}\n",
       "#T_157d4_row8_col10, #T_157d4_row9_col5 {\n",
       "  background-color: #506bda;\n",
       "  color: #f1f1f1;\n",
       "}\n",
       "#T_157d4_row9_col0 {\n",
       "  background-color: #cdd9ec;\n",
       "  color: #000000;\n",
       "}\n",
       "#T_157d4_row9_col1 {\n",
       "  background-color: #799cf8;\n",
       "  color: #f1f1f1;\n",
       "}\n",
       "#T_157d4_row9_col2 {\n",
       "  background-color: #9dbdff;\n",
       "  color: #000000;\n",
       "}\n",
       "#T_157d4_row9_col4 {\n",
       "  background-color: #5875e1;\n",
       "  color: #f1f1f1;\n",
       "}\n",
       "#T_157d4_row9_col7 {\n",
       "  background-color: #7093f3;\n",
       "  color: #f1f1f1;\n",
       "}\n",
       "#T_157d4_row10_col0 {\n",
       "  background-color: #f7aa8c;\n",
       "  color: #000000;\n",
       "}\n",
       "#T_157d4_row10_col1 {\n",
       "  background-color: #6a8bef;\n",
       "  color: #f1f1f1;\n",
       "}\n",
       "#T_157d4_row10_col3 {\n",
       "  background-color: #a3c2fe;\n",
       "  color: #000000;\n",
       "}\n",
       "#T_157d4_row10_col6 {\n",
       "  background-color: #779af7;\n",
       "  color: #f1f1f1;\n",
       "}\n",
       "#T_157d4_row10_col9 {\n",
       "  background-color: #93b5fe;\n",
       "  color: #000000;\n",
       "}\n",
       "</style>\n",
       "<table id=\"T_157d4\">\n",
       "  <thead>\n",
       "    <tr>\n",
       "      <th class=\"blank level0\" >&nbsp;</th>\n",
       "      <th id=\"T_157d4_level0_col0\" class=\"col_heading level0 col0\" >Age</th>\n",
       "      <th id=\"T_157d4_level0_col1\" class=\"col_heading level0 col1\" >Diabetes</th>\n",
       "      <th id=\"T_157d4_level0_col2\" class=\"col_heading level0 col2\" >BloodPressureProblems</th>\n",
       "      <th id=\"T_157d4_level0_col3\" class=\"col_heading level0 col3\" >AnyTransplants</th>\n",
       "      <th id=\"T_157d4_level0_col4\" class=\"col_heading level0 col4\" >AnyChronicDiseases</th>\n",
       "      <th id=\"T_157d4_level0_col5\" class=\"col_heading level0 col5\" >Height</th>\n",
       "      <th id=\"T_157d4_level0_col6\" class=\"col_heading level0 col6\" >Weight</th>\n",
       "      <th id=\"T_157d4_level0_col7\" class=\"col_heading level0 col7\" >KnownAllergies</th>\n",
       "      <th id=\"T_157d4_level0_col8\" class=\"col_heading level0 col8\" >HistoryOfCancerInFamily</th>\n",
       "      <th id=\"T_157d4_level0_col9\" class=\"col_heading level0 col9\" >NumberOfMajorSurgeries</th>\n",
       "      <th id=\"T_157d4_level0_col10\" class=\"col_heading level0 col10\" >PremiumPrice</th>\n",
       "    </tr>\n",
       "  </thead>\n",
       "  <tbody>\n",
       "    <tr>\n",
       "      <th id=\"T_157d4_level0_row0\" class=\"row_heading level0 row0\" >Age</th>\n",
       "      <td id=\"T_157d4_row0_col0\" class=\"data row0 col0\" >1.000000</td>\n",
       "      <td id=\"T_157d4_row0_col1\" class=\"data row0 col1\" >0.210908</td>\n",
       "      <td id=\"T_157d4_row0_col2\" class=\"data row0 col2\" >0.244888</td>\n",
       "      <td id=\"T_157d4_row0_col3\" class=\"data row0 col3\" >-0.008549</td>\n",
       "      <td id=\"T_157d4_row0_col4\" class=\"data row0 col4\" >0.051072</td>\n",
       "      <td id=\"T_157d4_row0_col5\" class=\"data row0 col5\" >0.039879</td>\n",
       "      <td id=\"T_157d4_row0_col6\" class=\"data row0 col6\" >-0.018590</td>\n",
       "      <td id=\"T_157d4_row0_col7\" class=\"data row0 col7\" >-0.024416</td>\n",
       "      <td id=\"T_157d4_row0_col8\" class=\"data row0 col8\" >-0.027623</td>\n",
       "      <td id=\"T_157d4_row0_col9\" class=\"data row0 col9\" >0.429181</td>\n",
       "      <td id=\"T_157d4_row0_col10\" class=\"data row0 col10\" >0.697540</td>\n",
       "    </tr>\n",
       "    <tr>\n",
       "      <th id=\"T_157d4_level0_row1\" class=\"row_heading level0 row1\" >Diabetes</th>\n",
       "      <td id=\"T_157d4_row1_col0\" class=\"data row1 col0\" >0.210908</td>\n",
       "      <td id=\"T_157d4_row1_col1\" class=\"data row1 col1\" >1.000000</td>\n",
       "      <td id=\"T_157d4_row1_col2\" class=\"data row1 col2\" >0.127727</td>\n",
       "      <td id=\"T_157d4_row1_col3\" class=\"data row1 col3\" >-0.036652</td>\n",
       "      <td id=\"T_157d4_row1_col4\" class=\"data row1 col4\" >-0.089428</td>\n",
       "      <td id=\"T_157d4_row1_col5\" class=\"data row1 col5\" >-0.003783</td>\n",
       "      <td id=\"T_157d4_row1_col6\" class=\"data row1 col6\" >-0.024563</td>\n",
       "      <td id=\"T_157d4_row1_col7\" class=\"data row1 col7\" >-0.080102</td>\n",
       "      <td id=\"T_157d4_row1_col8\" class=\"data row1 col8\" >-0.055527</td>\n",
       "      <td id=\"T_157d4_row1_col9\" class=\"data row1 col9\" >0.122722</td>\n",
       "      <td id=\"T_157d4_row1_col10\" class=\"data row1 col10\" >0.076209</td>\n",
       "    </tr>\n",
       "    <tr>\n",
       "      <th id=\"T_157d4_level0_row2\" class=\"row_heading level0 row2\" >BloodPressureProblems</th>\n",
       "      <td id=\"T_157d4_row2_col0\" class=\"data row2 col0\" >0.244888</td>\n",
       "      <td id=\"T_157d4_row2_col1\" class=\"data row2 col1\" >0.127727</td>\n",
       "      <td id=\"T_157d4_row2_col2\" class=\"data row2 col2\" >1.000000</td>\n",
       "      <td id=\"T_157d4_row2_col3\" class=\"data row2 col3\" >-0.024538</td>\n",
       "      <td id=\"T_157d4_row2_col4\" class=\"data row2 col4\" >0.045424</td>\n",
       "      <td id=\"T_157d4_row2_col5\" class=\"data row2 col5\" >-0.037926</td>\n",
       "      <td id=\"T_157d4_row2_col6\" class=\"data row2 col6\" >-0.061016</td>\n",
       "      <td id=\"T_157d4_row2_col7\" class=\"data row2 col7\" >-0.011550</td>\n",
       "      <td id=\"T_157d4_row2_col8\" class=\"data row2 col8\" >0.048239</td>\n",
       "      <td id=\"T_157d4_row2_col9\" class=\"data row2 col9\" >0.251568</td>\n",
       "      <td id=\"T_157d4_row2_col10\" class=\"data row2 col10\" >0.167097</td>\n",
       "    </tr>\n",
       "    <tr>\n",
       "      <th id=\"T_157d4_level0_row3\" class=\"row_heading level0 row3\" >AnyTransplants</th>\n",
       "      <td id=\"T_157d4_row3_col0\" class=\"data row3 col0\" >-0.008549</td>\n",
       "      <td id=\"T_157d4_row3_col1\" class=\"data row3 col1\" >-0.036652</td>\n",
       "      <td id=\"T_157d4_row3_col2\" class=\"data row3 col2\" >-0.024538</td>\n",
       "      <td id=\"T_157d4_row3_col3\" class=\"data row3 col3\" >1.000000</td>\n",
       "      <td id=\"T_157d4_row3_col4\" class=\"data row3 col4\" >0.035285</td>\n",
       "      <td id=\"T_157d4_row3_col5\" class=\"data row3 col5\" >-0.031543</td>\n",
       "      <td id=\"T_157d4_row3_col6\" class=\"data row3 col6\" >0.002087</td>\n",
       "      <td id=\"T_157d4_row3_col7\" class=\"data row3 col7\" >0.001876</td>\n",
       "      <td id=\"T_157d4_row3_col8\" class=\"data row3 col8\" >-0.020171</td>\n",
       "      <td id=\"T_157d4_row3_col9\" class=\"data row3 col9\" >-0.004154</td>\n",
       "      <td id=\"T_157d4_row3_col10\" class=\"data row3 col10\" >0.289056</td>\n",
       "    </tr>\n",
       "    <tr>\n",
       "      <th id=\"T_157d4_level0_row4\" class=\"row_heading level0 row4\" >AnyChronicDiseases</th>\n",
       "      <td id=\"T_157d4_row4_col0\" class=\"data row4 col0\" >0.051072</td>\n",
       "      <td id=\"T_157d4_row4_col1\" class=\"data row4 col1\" >-0.089428</td>\n",
       "      <td id=\"T_157d4_row4_col2\" class=\"data row4 col2\" >0.045424</td>\n",
       "      <td id=\"T_157d4_row4_col3\" class=\"data row4 col3\" >0.035285</td>\n",
       "      <td id=\"T_157d4_row4_col4\" class=\"data row4 col4\" >1.000000</td>\n",
       "      <td id=\"T_157d4_row4_col5\" class=\"data row4 col5\" >0.047419</td>\n",
       "      <td id=\"T_157d4_row4_col6\" class=\"data row4 col6\" >-0.033318</td>\n",
       "      <td id=\"T_157d4_row4_col7\" class=\"data row4 col7\" >-0.027418</td>\n",
       "      <td id=\"T_157d4_row4_col8\" class=\"data row4 col8\" >0.008666</td>\n",
       "      <td id=\"T_157d4_row4_col9\" class=\"data row4 col9\" >0.014835</td>\n",
       "      <td id=\"T_157d4_row4_col10\" class=\"data row4 col10\" >0.208610</td>\n",
       "    </tr>\n",
       "    <tr>\n",
       "      <th id=\"T_157d4_level0_row5\" class=\"row_heading level0 row5\" >Height</th>\n",
       "      <td id=\"T_157d4_row5_col0\" class=\"data row5 col0\" >0.039879</td>\n",
       "      <td id=\"T_157d4_row5_col1\" class=\"data row5 col1\" >-0.003783</td>\n",
       "      <td id=\"T_157d4_row5_col2\" class=\"data row5 col2\" >-0.037926</td>\n",
       "      <td id=\"T_157d4_row5_col3\" class=\"data row5 col3\" >-0.031543</td>\n",
       "      <td id=\"T_157d4_row5_col4\" class=\"data row5 col4\" >0.047419</td>\n",
       "      <td id=\"T_157d4_row5_col5\" class=\"data row5 col5\" >1.000000</td>\n",
       "      <td id=\"T_157d4_row5_col6\" class=\"data row5 col6\" >0.066946</td>\n",
       "      <td id=\"T_157d4_row5_col7\" class=\"data row5 col7\" >-0.010200</td>\n",
       "      <td id=\"T_157d4_row5_col8\" class=\"data row5 col8\" >0.010549</td>\n",
       "      <td id=\"T_157d4_row5_col9\" class=\"data row5 col9\" >0.037289</td>\n",
       "      <td id=\"T_157d4_row5_col10\" class=\"data row5 col10\" >0.026910</td>\n",
       "    </tr>\n",
       "    <tr>\n",
       "      <th id=\"T_157d4_level0_row6\" class=\"row_heading level0 row6\" >Weight</th>\n",
       "      <td id=\"T_157d4_row6_col0\" class=\"data row6 col0\" >-0.018590</td>\n",
       "      <td id=\"T_157d4_row6_col1\" class=\"data row6 col1\" >-0.024563</td>\n",
       "      <td id=\"T_157d4_row6_col2\" class=\"data row6 col2\" >-0.061016</td>\n",
       "      <td id=\"T_157d4_row6_col3\" class=\"data row6 col3\" >0.002087</td>\n",
       "      <td id=\"T_157d4_row6_col4\" class=\"data row6 col4\" >-0.033318</td>\n",
       "      <td id=\"T_157d4_row6_col5\" class=\"data row6 col5\" >0.066946</td>\n",
       "      <td id=\"T_157d4_row6_col6\" class=\"data row6 col6\" >1.000000</td>\n",
       "      <td id=\"T_157d4_row6_col7\" class=\"data row6 col7\" >0.037492</td>\n",
       "      <td id=\"T_157d4_row6_col8\" class=\"data row6 col8\" >0.003481</td>\n",
       "      <td id=\"T_157d4_row6_col9\" class=\"data row6 col9\" >-0.006108</td>\n",
       "      <td id=\"T_157d4_row6_col10\" class=\"data row6 col10\" >0.141507</td>\n",
       "    </tr>\n",
       "    <tr>\n",
       "      <th id=\"T_157d4_level0_row7\" class=\"row_heading level0 row7\" >KnownAllergies</th>\n",
       "      <td id=\"T_157d4_row7_col0\" class=\"data row7 col0\" >-0.024416</td>\n",
       "      <td id=\"T_157d4_row7_col1\" class=\"data row7 col1\" >-0.080102</td>\n",
       "      <td id=\"T_157d4_row7_col2\" class=\"data row7 col2\" >-0.011550</td>\n",
       "      <td id=\"T_157d4_row7_col3\" class=\"data row7 col3\" >0.001876</td>\n",
       "      <td id=\"T_157d4_row7_col4\" class=\"data row7 col4\" >-0.027418</td>\n",
       "      <td id=\"T_157d4_row7_col5\" class=\"data row7 col5\" >-0.010200</td>\n",
       "      <td id=\"T_157d4_row7_col6\" class=\"data row7 col6\" >0.037492</td>\n",
       "      <td id=\"T_157d4_row7_col7\" class=\"data row7 col7\" >1.000000</td>\n",
       "      <td id=\"T_157d4_row7_col8\" class=\"data row7 col8\" >0.115383</td>\n",
       "      <td id=\"T_157d4_row7_col9\" class=\"data row7 col9\" >0.103923</td>\n",
       "      <td id=\"T_157d4_row7_col10\" class=\"data row7 col10\" >0.012103</td>\n",
       "    </tr>\n",
       "    <tr>\n",
       "      <th id=\"T_157d4_level0_row8\" class=\"row_heading level0 row8\" >HistoryOfCancerInFamily</th>\n",
       "      <td id=\"T_157d4_row8_col0\" class=\"data row8 col0\" >-0.027623</td>\n",
       "      <td id=\"T_157d4_row8_col1\" class=\"data row8 col1\" >-0.055527</td>\n",
       "      <td id=\"T_157d4_row8_col2\" class=\"data row8 col2\" >0.048239</td>\n",
       "      <td id=\"T_157d4_row8_col3\" class=\"data row8 col3\" >-0.020171</td>\n",
       "      <td id=\"T_157d4_row8_col4\" class=\"data row8 col4\" >0.008666</td>\n",
       "      <td id=\"T_157d4_row8_col5\" class=\"data row8 col5\" >0.010549</td>\n",
       "      <td id=\"T_157d4_row8_col6\" class=\"data row8 col6\" >0.003481</td>\n",
       "      <td id=\"T_157d4_row8_col7\" class=\"data row8 col7\" >0.115383</td>\n",
       "      <td id=\"T_157d4_row8_col8\" class=\"data row8 col8\" >1.000000</td>\n",
       "      <td id=\"T_157d4_row8_col9\" class=\"data row8 col9\" >0.212657</td>\n",
       "      <td id=\"T_157d4_row8_col10\" class=\"data row8 col10\" >0.083139</td>\n",
       "    </tr>\n",
       "    <tr>\n",
       "      <th id=\"T_157d4_level0_row9\" class=\"row_heading level0 row9\" >NumberOfMajorSurgeries</th>\n",
       "      <td id=\"T_157d4_row9_col0\" class=\"data row9 col0\" >0.429181</td>\n",
       "      <td id=\"T_157d4_row9_col1\" class=\"data row9 col1\" >0.122722</td>\n",
       "      <td id=\"T_157d4_row9_col2\" class=\"data row9 col2\" >0.251568</td>\n",
       "      <td id=\"T_157d4_row9_col3\" class=\"data row9 col3\" >-0.004154</td>\n",
       "      <td id=\"T_157d4_row9_col4\" class=\"data row9 col4\" >0.014835</td>\n",
       "      <td id=\"T_157d4_row9_col5\" class=\"data row9 col5\" >0.037289</td>\n",
       "      <td id=\"T_157d4_row9_col6\" class=\"data row9 col6\" >-0.006108</td>\n",
       "      <td id=\"T_157d4_row9_col7\" class=\"data row9 col7\" >0.103923</td>\n",
       "      <td id=\"T_157d4_row9_col8\" class=\"data row9 col8\" >0.212657</td>\n",
       "      <td id=\"T_157d4_row9_col9\" class=\"data row9 col9\" >1.000000</td>\n",
       "      <td id=\"T_157d4_row9_col10\" class=\"data row9 col10\" >0.264250</td>\n",
       "    </tr>\n",
       "    <tr>\n",
       "      <th id=\"T_157d4_level0_row10\" class=\"row_heading level0 row10\" >PremiumPrice</th>\n",
       "      <td id=\"T_157d4_row10_col0\" class=\"data row10 col0\" >0.697540</td>\n",
       "      <td id=\"T_157d4_row10_col1\" class=\"data row10 col1\" >0.076209</td>\n",
       "      <td id=\"T_157d4_row10_col2\" class=\"data row10 col2\" >0.167097</td>\n",
       "      <td id=\"T_157d4_row10_col3\" class=\"data row10 col3\" >0.289056</td>\n",
       "      <td id=\"T_157d4_row10_col4\" class=\"data row10 col4\" >0.208610</td>\n",
       "      <td id=\"T_157d4_row10_col5\" class=\"data row10 col5\" >0.026910</td>\n",
       "      <td id=\"T_157d4_row10_col6\" class=\"data row10 col6\" >0.141507</td>\n",
       "      <td id=\"T_157d4_row10_col7\" class=\"data row10 col7\" >0.012103</td>\n",
       "      <td id=\"T_157d4_row10_col8\" class=\"data row10 col8\" >0.083139</td>\n",
       "      <td id=\"T_157d4_row10_col9\" class=\"data row10 col9\" >0.264250</td>\n",
       "      <td id=\"T_157d4_row10_col10\" class=\"data row10 col10\" >1.000000</td>\n",
       "    </tr>\n",
       "  </tbody>\n",
       "</table>\n"
      ],
      "text/plain": [
       "<pandas.io.formats.style.Styler at 0x17e394c9950>"
      ]
     },
     "execution_count": 304,
     "metadata": {},
     "output_type": "execute_result"
    }
   ],
   "source": [
    "corr = df.corr()\n",
    "corr.style.background_gradient(cmap='coolwarm')"
   ]
  },
  {
   "cell_type": "markdown",
   "metadata": {},
   "source": [
    "**Выбор признаков**"
   ]
  },
  {
   "cell_type": "code",
   "execution_count": 305,
   "metadata": {},
   "outputs": [],
   "source": [
    "feature_cols = ['Age', 'Diabetes', 'BloodPressureProblems', 'AnyTransplants', 'AnyChronicDiseases', 'Height', 'Weight', 'KnownAllergies', 'HistoryOfCancerInFamily', 'NumberOfMajorSurgeries']\n",
    "x = df[feature_cols]\n",
    "y = df['PremiumPrice']"
   ]
  },
  {
   "cell_type": "code",
   "execution_count": 306,
   "metadata": {},
   "outputs": [
    {
     "data": {
      "text/html": [
       "<div>\n",
       "<style scoped>\n",
       "    .dataframe tbody tr th:only-of-type {\n",
       "        vertical-align: middle;\n",
       "    }\n",
       "\n",
       "    .dataframe tbody tr th {\n",
       "        vertical-align: top;\n",
       "    }\n",
       "\n",
       "    .dataframe thead th {\n",
       "        text-align: right;\n",
       "    }\n",
       "</style>\n",
       "<table border=\"1\" class=\"dataframe\">\n",
       "  <thead>\n",
       "    <tr style=\"text-align: right;\">\n",
       "      <th></th>\n",
       "      <th>Age</th>\n",
       "      <th>Diabetes</th>\n",
       "      <th>BloodPressureProblems</th>\n",
       "      <th>AnyTransplants</th>\n",
       "      <th>AnyChronicDiseases</th>\n",
       "      <th>Height</th>\n",
       "      <th>Weight</th>\n",
       "      <th>KnownAllergies</th>\n",
       "      <th>HistoryOfCancerInFamily</th>\n",
       "      <th>NumberOfMajorSurgeries</th>\n",
       "    </tr>\n",
       "  </thead>\n",
       "  <tbody>\n",
       "    <tr>\n",
       "      <th>0</th>\n",
       "      <td>45</td>\n",
       "      <td>0</td>\n",
       "      <td>0</td>\n",
       "      <td>0</td>\n",
       "      <td>0</td>\n",
       "      <td>155</td>\n",
       "      <td>57</td>\n",
       "      <td>0</td>\n",
       "      <td>0</td>\n",
       "      <td>0</td>\n",
       "    </tr>\n",
       "    <tr>\n",
       "      <th>1</th>\n",
       "      <td>60</td>\n",
       "      <td>1</td>\n",
       "      <td>0</td>\n",
       "      <td>0</td>\n",
       "      <td>0</td>\n",
       "      <td>180</td>\n",
       "      <td>73</td>\n",
       "      <td>0</td>\n",
       "      <td>0</td>\n",
       "      <td>0</td>\n",
       "    </tr>\n",
       "    <tr>\n",
       "      <th>2</th>\n",
       "      <td>36</td>\n",
       "      <td>1</td>\n",
       "      <td>1</td>\n",
       "      <td>0</td>\n",
       "      <td>0</td>\n",
       "      <td>158</td>\n",
       "      <td>59</td>\n",
       "      <td>0</td>\n",
       "      <td>0</td>\n",
       "      <td>1</td>\n",
       "    </tr>\n",
       "    <tr>\n",
       "      <th>3</th>\n",
       "      <td>52</td>\n",
       "      <td>1</td>\n",
       "      <td>1</td>\n",
       "      <td>0</td>\n",
       "      <td>1</td>\n",
       "      <td>183</td>\n",
       "      <td>93</td>\n",
       "      <td>0</td>\n",
       "      <td>0</td>\n",
       "      <td>2</td>\n",
       "    </tr>\n",
       "    <tr>\n",
       "      <th>4</th>\n",
       "      <td>38</td>\n",
       "      <td>0</td>\n",
       "      <td>0</td>\n",
       "      <td>0</td>\n",
       "      <td>1</td>\n",
       "      <td>166</td>\n",
       "      <td>88</td>\n",
       "      <td>0</td>\n",
       "      <td>0</td>\n",
       "      <td>1</td>\n",
       "    </tr>\n",
       "    <tr>\n",
       "      <th>...</th>\n",
       "      <td>...</td>\n",
       "      <td>...</td>\n",
       "      <td>...</td>\n",
       "      <td>...</td>\n",
       "      <td>...</td>\n",
       "      <td>...</td>\n",
       "      <td>...</td>\n",
       "      <td>...</td>\n",
       "      <td>...</td>\n",
       "      <td>...</td>\n",
       "    </tr>\n",
       "    <tr>\n",
       "      <th>981</th>\n",
       "      <td>18</td>\n",
       "      <td>0</td>\n",
       "      <td>0</td>\n",
       "      <td>0</td>\n",
       "      <td>0</td>\n",
       "      <td>169</td>\n",
       "      <td>67</td>\n",
       "      <td>0</td>\n",
       "      <td>0</td>\n",
       "      <td>0</td>\n",
       "    </tr>\n",
       "    <tr>\n",
       "      <th>982</th>\n",
       "      <td>64</td>\n",
       "      <td>1</td>\n",
       "      <td>1</td>\n",
       "      <td>0</td>\n",
       "      <td>0</td>\n",
       "      <td>153</td>\n",
       "      <td>70</td>\n",
       "      <td>0</td>\n",
       "      <td>0</td>\n",
       "      <td>3</td>\n",
       "    </tr>\n",
       "    <tr>\n",
       "      <th>983</th>\n",
       "      <td>56</td>\n",
       "      <td>0</td>\n",
       "      <td>1</td>\n",
       "      <td>0</td>\n",
       "      <td>0</td>\n",
       "      <td>155</td>\n",
       "      <td>71</td>\n",
       "      <td>0</td>\n",
       "      <td>0</td>\n",
       "      <td>1</td>\n",
       "    </tr>\n",
       "    <tr>\n",
       "      <th>984</th>\n",
       "      <td>47</td>\n",
       "      <td>1</td>\n",
       "      <td>1</td>\n",
       "      <td>0</td>\n",
       "      <td>0</td>\n",
       "      <td>158</td>\n",
       "      <td>73</td>\n",
       "      <td>1</td>\n",
       "      <td>0</td>\n",
       "      <td>1</td>\n",
       "    </tr>\n",
       "    <tr>\n",
       "      <th>985</th>\n",
       "      <td>21</td>\n",
       "      <td>0</td>\n",
       "      <td>0</td>\n",
       "      <td>0</td>\n",
       "      <td>0</td>\n",
       "      <td>158</td>\n",
       "      <td>75</td>\n",
       "      <td>1</td>\n",
       "      <td>0</td>\n",
       "      <td>1</td>\n",
       "    </tr>\n",
       "  </tbody>\n",
       "</table>\n",
       "<p>986 rows × 10 columns</p>\n",
       "</div>"
      ],
      "text/plain": [
       "     Age  Diabetes  BloodPressureProblems  AnyTransplants  AnyChronicDiseases  \\\n",
       "0     45         0                      0               0                   0   \n",
       "1     60         1                      0               0                   0   \n",
       "2     36         1                      1               0                   0   \n",
       "3     52         1                      1               0                   1   \n",
       "4     38         0                      0               0                   1   \n",
       "..   ...       ...                    ...             ...                 ...   \n",
       "981   18         0                      0               0                   0   \n",
       "982   64         1                      1               0                   0   \n",
       "983   56         0                      1               0                   0   \n",
       "984   47         1                      1               0                   0   \n",
       "985   21         0                      0               0                   0   \n",
       "\n",
       "     Height  Weight  KnownAllergies  HistoryOfCancerInFamily  \\\n",
       "0       155      57               0                        0   \n",
       "1       180      73               0                        0   \n",
       "2       158      59               0                        0   \n",
       "3       183      93               0                        0   \n",
       "4       166      88               0                        0   \n",
       "..      ...     ...             ...                      ...   \n",
       "981     169      67               0                        0   \n",
       "982     153      70               0                        0   \n",
       "983     155      71               0                        0   \n",
       "984     158      73               1                        0   \n",
       "985     158      75               1                        0   \n",
       "\n",
       "     NumberOfMajorSurgeries  \n",
       "0                         0  \n",
       "1                         0  \n",
       "2                         1  \n",
       "3                         2  \n",
       "4                         1  \n",
       "..                      ...  \n",
       "981                       0  \n",
       "982                       3  \n",
       "983                       1  \n",
       "984                       1  \n",
       "985                       1  \n",
       "\n",
       "[986 rows x 10 columns]"
      ]
     },
     "execution_count": 306,
     "metadata": {},
     "output_type": "execute_result"
    }
   ],
   "source": [
    "x"
   ]
  },
  {
   "cell_type": "code",
   "execution_count": 307,
   "metadata": {},
   "outputs": [
    {
     "data": {
      "text/plain": [
       "0      25000\n",
       "1      29000\n",
       "2      23000\n",
       "3      28000\n",
       "4      23000\n",
       "       ...  \n",
       "981    15000\n",
       "982    28000\n",
       "983    29000\n",
       "984    39000\n",
       "985    15000\n",
       "Name: PremiumPrice, Length: 986, dtype: int64"
      ]
     },
     "execution_count": 307,
     "metadata": {},
     "output_type": "execute_result"
    }
   ],
   "source": [
    "y"
   ]
  },
  {
   "cell_type": "markdown",
   "metadata": {},
   "source": [
    "**Разделение данных на обучающую и тестовую выборки**"
   ]
  },
  {
   "cell_type": "code",
   "execution_count": 308,
   "metadata": {},
   "outputs": [],
   "source": [
    "x_train, x_test, y_train, y_test = train_test_split(x, y, test_size=0.3, random_state=42)"
   ]
  },
  {
   "cell_type": "markdown",
   "metadata": {},
   "source": [
    "**Обучение моделей**"
   ]
  },
  {
   "cell_type": "code",
   "execution_count": 309,
   "metadata": {},
   "outputs": [
    {
     "data": {
      "text/plain": [
       "<catboost.core.CatBoostRegressor at 0x17e3945b6d0>"
      ]
     },
     "execution_count": 309,
     "metadata": {},
     "output_type": "execute_result"
    }
   ],
   "source": [
    "model_LR = LinearRegression()\n",
    "model_LR.fit(x_train, y_train)\n",
    "\n",
    "model_tree = DecisionTreeRegressor(max_depth=4)\n",
    "model_tree.fit(x_train, y_train)\n",
    "\n",
    "model_cb = CatBoostRegressor(verbose=False)\n",
    "model_cb.fit(x_train, y_train)"
   ]
  },
  {
   "cell_type": "markdown",
   "metadata": {},
   "source": [
    "**Добавление подбора гиперпараметров с помощью Optuna**"
   ]
  },
  {
   "cell_type": "code",
   "execution_count": 310,
   "metadata": {},
   "outputs": [
    {
     "name": "stderr",
     "output_type": "stream",
     "text": [
      "[I 2023-12-13 03:10:38,523] A new study created in memory with name: no-name-6c25ba3b-d994-4488-b35f-6bfb0cbe38b2\n",
      "C:\\Users\\steepday\\AppData\\Local\\Temp\\ipykernel_7732\\1905136038.py:5: FutureWarning:\n",
      "\n",
      "suggest_uniform has been deprecated in v3.0.0. This feature will be removed in v6.0.0. See https://github.com/optuna/optuna/releases/tag/v3.0.0. Use suggest_float instead.\n",
      "\n",
      "C:\\Users\\steepday\\AppData\\Local\\Temp\\ipykernel_7732\\1905136038.py:7: FutureWarning:\n",
      "\n",
      "suggest_loguniform has been deprecated in v3.0.0. This feature will be removed in v6.0.0. See https://github.com/optuna/optuna/releases/tag/v3.0.0. Use suggest_float(..., log=True) instead.\n",
      "\n",
      "[I 2023-12-13 03:10:38,717] Trial 0 finished with value: 10177759.615814833 and parameters: {'iterations': 145, 'depth': 9, 'learning_rate': 0.09530643572229577, 'random_strength': 55, 'bagging_temperature': 0.7066437666550861}. Best is trial 0 with value: 10177759.615814833.\n",
      "C:\\Users\\steepday\\AppData\\Local\\Temp\\ipykernel_7732\\1905136038.py:5: FutureWarning:\n",
      "\n",
      "suggest_uniform has been deprecated in v3.0.0. This feature will be removed in v6.0.0. See https://github.com/optuna/optuna/releases/tag/v3.0.0. Use suggest_float instead.\n",
      "\n",
      "C:\\Users\\steepday\\AppData\\Local\\Temp\\ipykernel_7732\\1905136038.py:7: FutureWarning:\n",
      "\n",
      "suggest_loguniform has been deprecated in v3.0.0. This feature will be removed in v6.0.0. See https://github.com/optuna/optuna/releases/tag/v3.0.0. Use suggest_float(..., log=True) instead.\n",
      "\n",
      "[I 2023-12-13 03:10:39,170] Trial 1 finished with value: 14203003.137630278 and parameters: {'iterations': 278, 'depth': 10, 'learning_rate': 0.019132616161553956, 'random_strength': 86, 'bagging_temperature': 7.492634015276619}. Best is trial 0 with value: 10177759.615814833.\n",
      "C:\\Users\\steepday\\AppData\\Local\\Temp\\ipykernel_7732\\1905136038.py:5: FutureWarning:\n",
      "\n",
      "suggest_uniform has been deprecated in v3.0.0. This feature will be removed in v6.0.0. See https://github.com/optuna/optuna/releases/tag/v3.0.0. Use suggest_float instead.\n",
      "\n",
      "C:\\Users\\steepday\\AppData\\Local\\Temp\\ipykernel_7732\\1905136038.py:7: FutureWarning:\n",
      "\n",
      "suggest_loguniform has been deprecated in v3.0.0. This feature will be removed in v6.0.0. See https://github.com/optuna/optuna/releases/tag/v3.0.0. Use suggest_float(..., log=True) instead.\n",
      "\n",
      "[I 2023-12-13 03:10:39,256] Trial 2 finished with value: 17021789.608000502 and parameters: {'iterations': 67, 'depth': 9, 'learning_rate': 0.05164187386208418, 'random_strength': 72, 'bagging_temperature': 37.54053355202563}. Best is trial 0 with value: 10177759.615814833.\n",
      "C:\\Users\\steepday\\AppData\\Local\\Temp\\ipykernel_7732\\1905136038.py:5: FutureWarning:\n",
      "\n",
      "suggest_uniform has been deprecated in v3.0.0. This feature will be removed in v6.0.0. See https://github.com/optuna/optuna/releases/tag/v3.0.0. Use suggest_float instead.\n",
      "\n",
      "C:\\Users\\steepday\\AppData\\Local\\Temp\\ipykernel_7732\\1905136038.py:7: FutureWarning:\n",
      "\n",
      "suggest_loguniform has been deprecated in v3.0.0. This feature will be removed in v6.0.0. See https://github.com/optuna/optuna/releases/tag/v3.0.0. Use suggest_float(..., log=True) instead.\n",
      "\n",
      "[I 2023-12-13 03:10:39,476] Trial 3 finished with value: 13933260.353460561 and parameters: {'iterations': 185, 'depth': 9, 'learning_rate': 0.014670646921375399, 'random_strength': 4, 'bagging_temperature': 1.6382313472908363}. Best is trial 0 with value: 10177759.615814833.\n",
      "C:\\Users\\steepday\\AppData\\Local\\Temp\\ipykernel_7732\\1905136038.py:5: FutureWarning:\n",
      "\n",
      "suggest_uniform has been deprecated in v3.0.0. This feature will be removed in v6.0.0. See https://github.com/optuna/optuna/releases/tag/v3.0.0. Use suggest_float instead.\n",
      "\n",
      "C:\\Users\\steepday\\AppData\\Local\\Temp\\ipykernel_7732\\1905136038.py:7: FutureWarning:\n",
      "\n",
      "suggest_loguniform has been deprecated in v3.0.0. This feature will be removed in v6.0.0. See https://github.com/optuna/optuna/releases/tag/v3.0.0. Use suggest_float(..., log=True) instead.\n",
      "\n",
      "[I 2023-12-13 03:10:39,535] Trial 4 finished with value: 14701511.18206472 and parameters: {'iterations': 98, 'depth': 4, 'learning_rate': 0.05454322349330719, 'random_strength': 32, 'bagging_temperature': 0.8625618399783993}. Best is trial 0 with value: 10177759.615814833.\n",
      "C:\\Users\\steepday\\AppData\\Local\\Temp\\ipykernel_7732\\1905136038.py:5: FutureWarning:\n",
      "\n",
      "suggest_uniform has been deprecated in v3.0.0. This feature will be removed in v6.0.0. See https://github.com/optuna/optuna/releases/tag/v3.0.0. Use suggest_float instead.\n",
      "\n",
      "C:\\Users\\steepday\\AppData\\Local\\Temp\\ipykernel_7732\\1905136038.py:7: FutureWarning:\n",
      "\n",
      "suggest_loguniform has been deprecated in v3.0.0. This feature will be removed in v6.0.0. See https://github.com/optuna/optuna/releases/tag/v3.0.0. Use suggest_float(..., log=True) instead.\n",
      "\n",
      "[I 2023-12-13 03:10:39,631] Trial 5 finished with value: 10238107.09622253 and parameters: {'iterations': 148, 'depth': 6, 'learning_rate': 0.06910675399554543, 'random_strength': 78, 'bagging_temperature': 3.909150560251422}. Best is trial 0 with value: 10177759.615814833.\n",
      "C:\\Users\\steepday\\AppData\\Local\\Temp\\ipykernel_7732\\1905136038.py:5: FutureWarning:\n",
      "\n",
      "suggest_uniform has been deprecated in v3.0.0. This feature will be removed in v6.0.0. See https://github.com/optuna/optuna/releases/tag/v3.0.0. Use suggest_float instead.\n",
      "\n",
      "C:\\Users\\steepday\\AppData\\Local\\Temp\\ipykernel_7732\\1905136038.py:7: FutureWarning:\n",
      "\n",
      "suggest_loguniform has been deprecated in v3.0.0. This feature will be removed in v6.0.0. See https://github.com/optuna/optuna/releases/tag/v3.0.0. Use suggest_float(..., log=True) instead.\n",
      "\n",
      "[I 2023-12-13 03:10:39,743] Trial 6 finished with value: 8532526.234477514 and parameters: {'iterations': 204, 'depth': 5, 'learning_rate': 0.07228366298029695, 'random_strength': 65, 'bagging_temperature': 76.12894545683193}. Best is trial 6 with value: 8532526.234477514.\n",
      "C:\\Users\\steepday\\AppData\\Local\\Temp\\ipykernel_7732\\1905136038.py:5: FutureWarning:\n",
      "\n",
      "suggest_uniform has been deprecated in v3.0.0. This feature will be removed in v6.0.0. See https://github.com/optuna/optuna/releases/tag/v3.0.0. Use suggest_float instead.\n",
      "\n",
      "C:\\Users\\steepday\\AppData\\Local\\Temp\\ipykernel_7732\\1905136038.py:7: FutureWarning:\n",
      "\n",
      "suggest_loguniform has been deprecated in v3.0.0. This feature will be removed in v6.0.0. See https://github.com/optuna/optuna/releases/tag/v3.0.0. Use suggest_float(..., log=True) instead.\n",
      "\n",
      "[I 2023-12-13 03:10:39,804] Trial 7 finished with value: 19709563.399850167 and parameters: {'iterations': 101, 'depth': 4, 'learning_rate': 0.030333446057383834, 'random_strength': 33, 'bagging_temperature': 99.87291754718817}. Best is trial 6 with value: 8532526.234477514.\n",
      "C:\\Users\\steepday\\AppData\\Local\\Temp\\ipykernel_7732\\1905136038.py:5: FutureWarning:\n",
      "\n",
      "suggest_uniform has been deprecated in v3.0.0. This feature will be removed in v6.0.0. See https://github.com/optuna/optuna/releases/tag/v3.0.0. Use suggest_float instead.\n",
      "\n",
      "C:\\Users\\steepday\\AppData\\Local\\Temp\\ipykernel_7732\\1905136038.py:7: FutureWarning:\n",
      "\n",
      "suggest_loguniform has been deprecated in v3.0.0. This feature will be removed in v6.0.0. See https://github.com/optuna/optuna/releases/tag/v3.0.0. Use suggest_float(..., log=True) instead.\n",
      "\n",
      "[I 2023-12-13 03:10:39,870] Trial 8 finished with value: 11161385.13958834 and parameters: {'iterations': 118, 'depth': 4, 'learning_rate': 0.08756961546970825, 'random_strength': 71, 'bagging_temperature': 0.02361416791816253}. Best is trial 6 with value: 8532526.234477514.\n",
      "C:\\Users\\steepday\\AppData\\Local\\Temp\\ipykernel_7732\\1905136038.py:5: FutureWarning:\n",
      "\n",
      "suggest_uniform has been deprecated in v3.0.0. This feature will be removed in v6.0.0. See https://github.com/optuna/optuna/releases/tag/v3.0.0. Use suggest_float instead.\n",
      "\n",
      "C:\\Users\\steepday\\AppData\\Local\\Temp\\ipykernel_7732\\1905136038.py:7: FutureWarning:\n",
      "\n",
      "suggest_loguniform has been deprecated in v3.0.0. This feature will be removed in v6.0.0. See https://github.com/optuna/optuna/releases/tag/v3.0.0. Use suggest_float(..., log=True) instead.\n",
      "\n",
      "[I 2023-12-13 03:10:40,336] Trial 9 finished with value: 11707391.616055619 and parameters: {'iterations': 287, 'depth': 10, 'learning_rate': 0.0250091480127924, 'random_strength': 16, 'bagging_temperature': 65.65249310480553}. Best is trial 6 with value: 8532526.234477514.\n",
      "C:\\Users\\steepday\\AppData\\Local\\Temp\\ipykernel_7732\\1905136038.py:5: FutureWarning:\n",
      "\n",
      "suggest_uniform has been deprecated in v3.0.0. This feature will be removed in v6.0.0. See https://github.com/optuna/optuna/releases/tag/v3.0.0. Use suggest_float instead.\n",
      "\n",
      "C:\\Users\\steepday\\AppData\\Local\\Temp\\ipykernel_7732\\1905136038.py:7: FutureWarning:\n",
      "\n",
      "suggest_loguniform has been deprecated in v3.0.0. This feature will be removed in v6.0.0. See https://github.com/optuna/optuna/releases/tag/v3.0.0. Use suggest_float(..., log=True) instead.\n",
      "\n",
      "[I 2023-12-13 03:10:40,482] Trial 10 finished with value: 8904791.670952935 and parameters: {'iterations': 212, 'depth': 6, 'learning_rate': 0.07587218554074046, 'random_strength': 49, 'bagging_temperature': 0.08350792330049037}. Best is trial 6 with value: 8532526.234477514.\n",
      "C:\\Users\\steepday\\AppData\\Local\\Temp\\ipykernel_7732\\1905136038.py:5: FutureWarning:\n",
      "\n",
      "suggest_uniform has been deprecated in v3.0.0. This feature will be removed in v6.0.0. See https://github.com/optuna/optuna/releases/tag/v3.0.0. Use suggest_float instead.\n",
      "\n",
      "C:\\Users\\steepday\\AppData\\Local\\Temp\\ipykernel_7732\\1905136038.py:7: FutureWarning:\n",
      "\n",
      "suggest_loguniform has been deprecated in v3.0.0. This feature will be removed in v6.0.0. See https://github.com/optuna/optuna/releases/tag/v3.0.0. Use suggest_float(..., log=True) instead.\n",
      "\n",
      "[I 2023-12-13 03:10:40,635] Trial 11 finished with value: 8842364.426448232 and parameters: {'iterations': 223, 'depth': 6, 'learning_rate': 0.07615320882952363, 'random_strength': 53, 'bagging_temperature': 0.07295964881055765}. Best is trial 6 with value: 8532526.234477514.\n",
      "C:\\Users\\steepday\\AppData\\Local\\Temp\\ipykernel_7732\\1905136038.py:5: FutureWarning:\n",
      "\n",
      "suggest_uniform has been deprecated in v3.0.0. This feature will be removed in v6.0.0. See https://github.com/optuna/optuna/releases/tag/v3.0.0. Use suggest_float instead.\n",
      "\n",
      "C:\\Users\\steepday\\AppData\\Local\\Temp\\ipykernel_7732\\1905136038.py:7: FutureWarning:\n",
      "\n",
      "suggest_loguniform has been deprecated in v3.0.0. This feature will be removed in v6.0.0. See https://github.com/optuna/optuna/releases/tag/v3.0.0. Use suggest_float(..., log=True) instead.\n",
      "\n",
      "[I 2023-12-13 03:10:40,797] Trial 12 finished with value: 8892389.552323906 and parameters: {'iterations': 244, 'depth': 6, 'learning_rate': 0.07328251885391539, 'random_strength': 98, 'bagging_temperature': 0.1100648151767714}. Best is trial 6 with value: 8532526.234477514.\n",
      "C:\\Users\\steepday\\AppData\\Local\\Temp\\ipykernel_7732\\1905136038.py:5: FutureWarning:\n",
      "\n",
      "suggest_uniform has been deprecated in v3.0.0. This feature will be removed in v6.0.0. See https://github.com/optuna/optuna/releases/tag/v3.0.0. Use suggest_float instead.\n",
      "\n",
      "C:\\Users\\steepday\\AppData\\Local\\Temp\\ipykernel_7732\\1905136038.py:7: FutureWarning:\n",
      "\n",
      "suggest_loguniform has been deprecated in v3.0.0. This feature will be removed in v6.0.0. See https://github.com/optuna/optuna/releases/tag/v3.0.0. Use suggest_float(..., log=True) instead.\n",
      "\n",
      "[I 2023-12-13 03:10:40,974] Trial 13 finished with value: 11097431.318053823 and parameters: {'iterations': 221, 'depth': 7, 'learning_rate': 0.04435554564812008, 'random_strength': 57, 'bagging_temperature': 0.010516228152500754}. Best is trial 6 with value: 8532526.234477514.\n",
      "C:\\Users\\steepday\\AppData\\Local\\Temp\\ipykernel_7732\\1905136038.py:5: FutureWarning:\n",
      "\n",
      "suggest_uniform has been deprecated in v3.0.0. This feature will be removed in v6.0.0. See https://github.com/optuna/optuna/releases/tag/v3.0.0. Use suggest_float instead.\n",
      "\n",
      "C:\\Users\\steepday\\AppData\\Local\\Temp\\ipykernel_7732\\1905136038.py:7: FutureWarning:\n",
      "\n",
      "suggest_loguniform has been deprecated in v3.0.0. This feature will be removed in v6.0.0. See https://github.com/optuna/optuna/releases/tag/v3.0.0. Use suggest_float(..., log=True) instead.\n",
      "\n",
      "[I 2023-12-13 03:10:41,092] Trial 14 finished with value: 8936301.558830207 and parameters: {'iterations': 186, 'depth': 5, 'learning_rate': 0.06520156431373123, 'random_strength': 42, 'bagging_temperature': 0.16028293690649956}. Best is trial 6 with value: 8532526.234477514.\n",
      "C:\\Users\\steepday\\AppData\\Local\\Temp\\ipykernel_7732\\1905136038.py:5: FutureWarning:\n",
      "\n",
      "suggest_uniform has been deprecated in v3.0.0. This feature will be removed in v6.0.0. See https://github.com/optuna/optuna/releases/tag/v3.0.0. Use suggest_float instead.\n",
      "\n",
      "C:\\Users\\steepday\\AppData\\Local\\Temp\\ipykernel_7732\\1905136038.py:7: FutureWarning:\n",
      "\n",
      "suggest_loguniform has been deprecated in v3.0.0. This feature will be removed in v6.0.0. See https://github.com/optuna/optuna/releases/tag/v3.0.0. Use suggest_float(..., log=True) instead.\n",
      "\n",
      "[I 2023-12-13 03:10:41,292] Trial 15 finished with value: 9432624.750527106 and parameters: {'iterations': 248, 'depth': 7, 'learning_rate': 0.08455100756805595, 'random_strength': 63, 'bagging_temperature': 19.817601309489046}. Best is trial 6 with value: 8532526.234477514.\n",
      "C:\\Users\\steepday\\AppData\\Local\\Temp\\ipykernel_7732\\1905136038.py:5: FutureWarning:\n",
      "\n",
      "suggest_uniform has been deprecated in v3.0.0. This feature will be removed in v6.0.0. See https://github.com/optuna/optuna/releases/tag/v3.0.0. Use suggest_float instead.\n",
      "\n",
      "C:\\Users\\steepday\\AppData\\Local\\Temp\\ipykernel_7732\\1905136038.py:7: FutureWarning:\n",
      "\n",
      "suggest_loguniform has been deprecated in v3.0.0. This feature will be removed in v6.0.0. See https://github.com/optuna/optuna/releases/tag/v3.0.0. Use suggest_float(..., log=True) instead.\n",
      "\n",
      "[I 2023-12-13 03:10:41,425] Trial 16 finished with value: 11327793.581944425 and parameters: {'iterations': 210, 'depth': 5, 'learning_rate': 0.04028298950981368, 'random_strength': 42, 'bagging_temperature': 0.33419431810862227}. Best is trial 6 with value: 8532526.234477514.\n",
      "C:\\Users\\steepday\\AppData\\Local\\Temp\\ipykernel_7732\\1905136038.py:5: FutureWarning:\n",
      "\n",
      "suggest_uniform has been deprecated in v3.0.0. This feature will be removed in v6.0.0. See https://github.com/optuna/optuna/releases/tag/v3.0.0. Use suggest_float instead.\n",
      "\n",
      "C:\\Users\\steepday\\AppData\\Local\\Temp\\ipykernel_7732\\1905136038.py:7: FutureWarning:\n",
      "\n",
      "suggest_loguniform has been deprecated in v3.0.0. This feature will be removed in v6.0.0. See https://github.com/optuna/optuna/releases/tag/v3.0.0. Use suggest_float(..., log=True) instead.\n",
      "\n",
      "[I 2023-12-13 03:10:41,579] Trial 17 finished with value: 8736128.425528111 and parameters: {'iterations': 247, 'depth': 5, 'learning_rate': 0.06046374245171346, 'random_strength': 90, 'bagging_temperature': 0.03636426677374493}. Best is trial 6 with value: 8532526.234477514.\n",
      "C:\\Users\\steepday\\AppData\\Local\\Temp\\ipykernel_7732\\1905136038.py:5: FutureWarning:\n",
      "\n",
      "suggest_uniform has been deprecated in v3.0.0. This feature will be removed in v6.0.0. See https://github.com/optuna/optuna/releases/tag/v3.0.0. Use suggest_float instead.\n",
      "\n",
      "C:\\Users\\steepday\\AppData\\Local\\Temp\\ipykernel_7732\\1905136038.py:7: FutureWarning:\n",
      "\n",
      "suggest_loguniform has been deprecated in v3.0.0. This feature will be removed in v6.0.0. See https://github.com/optuna/optuna/releases/tag/v3.0.0. Use suggest_float(..., log=True) instead.\n",
      "\n",
      "[I 2023-12-13 03:10:41,736] Trial 18 finished with value: 8467327.702981878 and parameters: {'iterations': 262, 'depth': 5, 'learning_rate': 0.06289879988271291, 'random_strength': 99, 'bagging_temperature': 8.897169528881681}. Best is trial 18 with value: 8467327.702981878.\n",
      "C:\\Users\\steepday\\AppData\\Local\\Temp\\ipykernel_7732\\1905136038.py:5: FutureWarning:\n",
      "\n",
      "suggest_uniform has been deprecated in v3.0.0. This feature will be removed in v6.0.0. See https://github.com/optuna/optuna/releases/tag/v3.0.0. Use suggest_float instead.\n",
      "\n",
      "C:\\Users\\steepday\\AppData\\Local\\Temp\\ipykernel_7732\\1905136038.py:7: FutureWarning:\n",
      "\n",
      "suggest_loguniform has been deprecated in v3.0.0. This feature will be removed in v6.0.0. See https://github.com/optuna/optuna/releases/tag/v3.0.0. Use suggest_float(..., log=True) instead.\n",
      "\n",
      "[I 2023-12-13 03:10:42,009] Trial 19 finished with value: 9942373.796089057 and parameters: {'iterations': 266, 'depth': 8, 'learning_rate': 0.09837100989715214, 'random_strength': 99, 'bagging_temperature': 13.793963000207139}. Best is trial 18 with value: 8467327.702981878.\n",
      "C:\\Users\\steepday\\AppData\\Local\\Temp\\ipykernel_7732\\1905136038.py:5: FutureWarning:\n",
      "\n",
      "suggest_uniform has been deprecated in v3.0.0. This feature will be removed in v6.0.0. See https://github.com/optuna/optuna/releases/tag/v3.0.0. Use suggest_float instead.\n",
      "\n",
      "C:\\Users\\steepday\\AppData\\Local\\Temp\\ipykernel_7732\\1905136038.py:7: FutureWarning:\n",
      "\n",
      "suggest_loguniform has been deprecated in v3.0.0. This feature will be removed in v6.0.0. See https://github.com/optuna/optuna/releases/tag/v3.0.0. Use suggest_float(..., log=True) instead.\n",
      "\n",
      "[I 2023-12-13 03:10:42,131] Trial 20 finished with value: 12491290.416278925 and parameters: {'iterations': 164, 'depth': 5, 'learning_rate': 0.04486639264254433, 'random_strength': 85, 'bagging_temperature': 4.259552613905247}. Best is trial 18 with value: 8467327.702981878.\n",
      "C:\\Users\\steepday\\AppData\\Local\\Temp\\ipykernel_7732\\1905136038.py:5: FutureWarning:\n",
      "\n",
      "suggest_uniform has been deprecated in v3.0.0. This feature will be removed in v6.0.0. See https://github.com/optuna/optuna/releases/tag/v3.0.0. Use suggest_float instead.\n",
      "\n",
      "C:\\Users\\steepday\\AppData\\Local\\Temp\\ipykernel_7732\\1905136038.py:7: FutureWarning:\n",
      "\n",
      "suggest_loguniform has been deprecated in v3.0.0. This feature will be removed in v6.0.0. See https://github.com/optuna/optuna/releases/tag/v3.0.0. Use suggest_float(..., log=True) instead.\n",
      "\n",
      "[I 2023-12-13 03:10:42,302] Trial 21 finished with value: 8451615.228854168 and parameters: {'iterations': 299, 'depth': 5, 'learning_rate': 0.06252370403734232, 'random_strength': 90, 'bagging_temperature': 34.0599502955972}. Best is trial 21 with value: 8451615.228854168.\n",
      "C:\\Users\\steepday\\AppData\\Local\\Temp\\ipykernel_7732\\1905136038.py:5: FutureWarning:\n",
      "\n",
      "suggest_uniform has been deprecated in v3.0.0. This feature will be removed in v6.0.0. See https://github.com/optuna/optuna/releases/tag/v3.0.0. Use suggest_float instead.\n",
      "\n",
      "C:\\Users\\steepday\\AppData\\Local\\Temp\\ipykernel_7732\\1905136038.py:7: FutureWarning:\n",
      "\n",
      "suggest_loguniform has been deprecated in v3.0.0. This feature will be removed in v6.0.0. See https://github.com/optuna/optuna/releases/tag/v3.0.0. Use suggest_float(..., log=True) instead.\n",
      "\n",
      "[I 2023-12-13 03:10:42,536] Trial 22 finished with value: 9206132.710087983 and parameters: {'iterations': 295, 'depth': 7, 'learning_rate': 0.05796339133381066, 'random_strength': 92, 'bagging_temperature': 31.44002020846502}. Best is trial 21 with value: 8451615.228854168.\n",
      "C:\\Users\\steepday\\AppData\\Local\\Temp\\ipykernel_7732\\1905136038.py:5: FutureWarning:\n",
      "\n",
      "suggest_uniform has been deprecated in v3.0.0. This feature will be removed in v6.0.0. See https://github.com/optuna/optuna/releases/tag/v3.0.0. Use suggest_float instead.\n",
      "\n",
      "C:\\Users\\steepday\\AppData\\Local\\Temp\\ipykernel_7732\\1905136038.py:7: FutureWarning:\n",
      "\n",
      "suggest_loguniform has been deprecated in v3.0.0. This feature will be removed in v6.0.0. See https://github.com/optuna/optuna/releases/tag/v3.0.0. Use suggest_float(..., log=True) instead.\n",
      "\n",
      "[I 2023-12-13 03:10:42,706] Trial 23 finished with value: 8337084.143412735 and parameters: {'iterations': 266, 'depth': 5, 'learning_rate': 0.08392525241048063, 'random_strength': 74, 'bagging_temperature': 10.873131188690243}. Best is trial 23 with value: 8337084.143412735.\n",
      "C:\\Users\\steepday\\AppData\\Local\\Temp\\ipykernel_7732\\1905136038.py:5: FutureWarning:\n",
      "\n",
      "suggest_uniform has been deprecated in v3.0.0. This feature will be removed in v6.0.0. See https://github.com/optuna/optuna/releases/tag/v3.0.0. Use suggest_float instead.\n",
      "\n",
      "C:\\Users\\steepday\\AppData\\Local\\Temp\\ipykernel_7732\\1905136038.py:7: FutureWarning:\n",
      "\n",
      "suggest_loguniform has been deprecated in v3.0.0. This feature will be removed in v6.0.0. See https://github.com/optuna/optuna/releases/tag/v3.0.0. Use suggest_float(..., log=True) instead.\n",
      "\n",
      "[I 2023-12-13 03:10:42,855] Trial 24 finished with value: 8680236.33285976 and parameters: {'iterations': 264, 'depth': 4, 'learning_rate': 0.08466402334472257, 'random_strength': 82, 'bagging_temperature': 9.886288352366186}. Best is trial 23 with value: 8337084.143412735.\n",
      "C:\\Users\\steepday\\AppData\\Local\\Temp\\ipykernel_7732\\1905136038.py:5: FutureWarning:\n",
      "\n",
      "suggest_uniform has been deprecated in v3.0.0. This feature will be removed in v6.0.0. See https://github.com/optuna/optuna/releases/tag/v3.0.0. Use suggest_float instead.\n",
      "\n",
      "C:\\Users\\steepday\\AppData\\Local\\Temp\\ipykernel_7732\\1905136038.py:7: FutureWarning:\n",
      "\n",
      "suggest_loguniform has been deprecated in v3.0.0. This feature will be removed in v6.0.0. See https://github.com/optuna/optuna/releases/tag/v3.0.0. Use suggest_float(..., log=True) instead.\n",
      "\n",
      "[I 2023-12-13 03:10:43,050] Trial 25 finished with value: 8946315.566370957 and parameters: {'iterations': 293, 'depth': 6, 'learning_rate': 0.06379918528726035, 'random_strength': 77, 'bagging_temperature': 2.3297292521183417}. Best is trial 23 with value: 8337084.143412735.\n",
      "C:\\Users\\steepday\\AppData\\Local\\Temp\\ipykernel_7732\\1905136038.py:5: FutureWarning:\n",
      "\n",
      "suggest_uniform has been deprecated in v3.0.0. This feature will be removed in v6.0.0. See https://github.com/optuna/optuna/releases/tag/v3.0.0. Use suggest_float instead.\n",
      "\n",
      "C:\\Users\\steepday\\AppData\\Local\\Temp\\ipykernel_7732\\1905136038.py:7: FutureWarning:\n",
      "\n",
      "suggest_loguniform has been deprecated in v3.0.0. This feature will be removed in v6.0.0. See https://github.com/optuna/optuna/releases/tag/v3.0.0. Use suggest_float(..., log=True) instead.\n",
      "\n",
      "[I 2023-12-13 03:10:43,214] Trial 26 finished with value: 8490973.698156698 and parameters: {'iterations': 266, 'depth': 5, 'learning_rate': 0.0903780486862855, 'random_strength': 94, 'bagging_temperature': 22.278758734299636}. Best is trial 23 with value: 8337084.143412735.\n",
      "C:\\Users\\steepday\\AppData\\Local\\Temp\\ipykernel_7732\\1905136038.py:5: FutureWarning:\n",
      "\n",
      "suggest_uniform has been deprecated in v3.0.0. This feature will be removed in v6.0.0. See https://github.com/optuna/optuna/releases/tag/v3.0.0. Use suggest_float instead.\n",
      "\n",
      "C:\\Users\\steepday\\AppData\\Local\\Temp\\ipykernel_7732\\1905136038.py:7: FutureWarning:\n",
      "\n",
      "suggest_loguniform has been deprecated in v3.0.0. This feature will be removed in v6.0.0. See https://github.com/optuna/optuna/releases/tag/v3.0.0. Use suggest_float(..., log=True) instead.\n",
      "\n",
      "[I 2023-12-13 03:10:43,343] Trial 27 finished with value: 8455785.70648879 and parameters: {'iterations': 234, 'depth': 4, 'learning_rate': 0.08306808787450992, 'random_strength': 99, 'bagging_temperature': 6.447297256756231}. Best is trial 23 with value: 8337084.143412735.\n",
      "C:\\Users\\steepday\\AppData\\Local\\Temp\\ipykernel_7732\\1905136038.py:5: FutureWarning:\n",
      "\n",
      "suggest_uniform has been deprecated in v3.0.0. This feature will be removed in v6.0.0. See https://github.com/optuna/optuna/releases/tag/v3.0.0. Use suggest_float instead.\n",
      "\n",
      "C:\\Users\\steepday\\AppData\\Local\\Temp\\ipykernel_7732\\1905136038.py:7: FutureWarning:\n",
      "\n",
      "suggest_loguniform has been deprecated in v3.0.0. This feature will be removed in v6.0.0. See https://github.com/optuna/optuna/releases/tag/v3.0.0. Use suggest_float(..., log=True) instead.\n",
      "\n",
      "[I 2023-12-13 03:10:43,476] Trial 28 finished with value: 8627568.362904975 and parameters: {'iterations': 233, 'depth': 4, 'learning_rate': 0.07961524859402504, 'random_strength': 73, 'bagging_temperature': 3.7296185584012926}. Best is trial 23 with value: 8337084.143412735.\n",
      "C:\\Users\\steepday\\AppData\\Local\\Temp\\ipykernel_7732\\1905136038.py:5: FutureWarning:\n",
      "\n",
      "suggest_uniform has been deprecated in v3.0.0. This feature will be removed in v6.0.0. See https://github.com/optuna/optuna/releases/tag/v3.0.0. Use suggest_float instead.\n",
      "\n",
      "C:\\Users\\steepday\\AppData\\Local\\Temp\\ipykernel_7732\\1905136038.py:7: FutureWarning:\n",
      "\n",
      "suggest_loguniform has been deprecated in v3.0.0. This feature will be removed in v6.0.0. See https://github.com/optuna/optuna/releases/tag/v3.0.0. Use suggest_float(..., log=True) instead.\n",
      "\n",
      "[I 2023-12-13 03:10:43,631] Trial 29 finished with value: 8749578.929120364 and parameters: {'iterations': 299, 'depth': 4, 'learning_rate': 0.095406684521636, 'random_strength': 88, 'bagging_temperature': 0.4154606693048455}. Best is trial 23 with value: 8337084.143412735.\n",
      "C:\\Users\\steepday\\AppData\\Local\\Temp\\ipykernel_7732\\1905136038.py:5: FutureWarning:\n",
      "\n",
      "suggest_uniform has been deprecated in v3.0.0. This feature will be removed in v6.0.0. See https://github.com/optuna/optuna/releases/tag/v3.0.0. Use suggest_float instead.\n",
      "\n",
      "C:\\Users\\steepday\\AppData\\Local\\Temp\\ipykernel_7732\\1905136038.py:7: FutureWarning:\n",
      "\n",
      "suggest_loguniform has been deprecated in v3.0.0. This feature will be removed in v6.0.0. See https://github.com/optuna/optuna/releases/tag/v3.0.0. Use suggest_float(..., log=True) instead.\n",
      "\n",
      "[I 2023-12-13 03:10:43,918] Trial 30 finished with value: 9404252.589396425 and parameters: {'iterations': 278, 'depth': 8, 'learning_rate': 0.0813298740430724, 'random_strength': 65, 'bagging_temperature': 1.6563036973038294}. Best is trial 23 with value: 8337084.143412735.\n",
      "C:\\Users\\steepday\\AppData\\Local\\Temp\\ipykernel_7732\\1905136038.py:5: FutureWarning:\n",
      "\n",
      "suggest_uniform has been deprecated in v3.0.0. This feature will be removed in v6.0.0. See https://github.com/optuna/optuna/releases/tag/v3.0.0. Use suggest_float instead.\n",
      "\n",
      "C:\\Users\\steepday\\AppData\\Local\\Temp\\ipykernel_7732\\1905136038.py:7: FutureWarning:\n",
      "\n",
      "suggest_loguniform has been deprecated in v3.0.0. This feature will be removed in v6.0.0. See https://github.com/optuna/optuna/releases/tag/v3.0.0. Use suggest_float(..., log=True) instead.\n",
      "\n",
      "[I 2023-12-13 03:10:44,077] Trial 31 finished with value: 8483678.356052438 and parameters: {'iterations': 259, 'depth': 5, 'learning_rate': 0.0909462312765486, 'random_strength': 100, 'bagging_temperature': 7.875780790107324}. Best is trial 23 with value: 8337084.143412735.\n",
      "C:\\Users\\steepday\\AppData\\Local\\Temp\\ipykernel_7732\\1905136038.py:5: FutureWarning:\n",
      "\n",
      "suggest_uniform has been deprecated in v3.0.0. This feature will be removed in v6.0.0. See https://github.com/optuna/optuna/releases/tag/v3.0.0. Use suggest_float instead.\n",
      "\n",
      "C:\\Users\\steepday\\AppData\\Local\\Temp\\ipykernel_7732\\1905136038.py:7: FutureWarning:\n",
      "\n",
      "suggest_loguniform has been deprecated in v3.0.0. This feature will be removed in v6.0.0. See https://github.com/optuna/optuna/releases/tag/v3.0.0. Use suggest_float(..., log=True) instead.\n",
      "\n",
      "[I 2023-12-13 03:10:44,229] Trial 32 finished with value: 8790096.81359485 and parameters: {'iterations': 276, 'depth': 4, 'learning_rate': 0.06594939725531404, 'random_strength': 83, 'bagging_temperature': 41.956086150214986}. Best is trial 23 with value: 8337084.143412735.\n",
      "C:\\Users\\steepday\\AppData\\Local\\Temp\\ipykernel_7732\\1905136038.py:5: FutureWarning:\n",
      "\n",
      "suggest_uniform has been deprecated in v3.0.0. This feature will be removed in v6.0.0. See https://github.com/optuna/optuna/releases/tag/v3.0.0. Use suggest_float instead.\n",
      "\n",
      "C:\\Users\\steepday\\AppData\\Local\\Temp\\ipykernel_7732\\1905136038.py:7: FutureWarning:\n",
      "\n",
      "suggest_loguniform has been deprecated in v3.0.0. This feature will be removed in v6.0.0. See https://github.com/optuna/optuna/releases/tag/v3.0.0. Use suggest_float(..., log=True) instead.\n",
      "\n",
      "[I 2023-12-13 03:10:44,380] Trial 33 finished with value: 8429068.485594628 and parameters: {'iterations': 238, 'depth': 5, 'learning_rate': 0.09986024396644413, 'random_strength': 93, 'bagging_temperature': 10.7069275167923}. Best is trial 23 with value: 8337084.143412735.\n",
      "C:\\Users\\steepday\\AppData\\Local\\Temp\\ipykernel_7732\\1905136038.py:5: FutureWarning:\n",
      "\n",
      "suggest_uniform has been deprecated in v3.0.0. This feature will be removed in v6.0.0. See https://github.com/optuna/optuna/releases/tag/v3.0.0. Use suggest_float instead.\n",
      "\n",
      "C:\\Users\\steepday\\AppData\\Local\\Temp\\ipykernel_7732\\1905136038.py:7: FutureWarning:\n",
      "\n",
      "suggest_loguniform has been deprecated in v3.0.0. This feature will be removed in v6.0.0. See https://github.com/optuna/optuna/releases/tag/v3.0.0. Use suggest_float(..., log=True) instead.\n",
      "\n",
      "[I 2023-12-13 03:10:44,522] Trial 34 finished with value: 9012737.181767734 and parameters: {'iterations': 194, 'depth': 6, 'learning_rate': 0.09892704595806343, 'random_strength': 93, 'bagging_temperature': 20.936254292872622}. Best is trial 23 with value: 8337084.143412735.\n",
      "C:\\Users\\steepday\\AppData\\Local\\Temp\\ipykernel_7732\\1905136038.py:5: FutureWarning:\n",
      "\n",
      "suggest_uniform has been deprecated in v3.0.0. This feature will be removed in v6.0.0. See https://github.com/optuna/optuna/releases/tag/v3.0.0. Use suggest_float instead.\n",
      "\n",
      "C:\\Users\\steepday\\AppData\\Local\\Temp\\ipykernel_7732\\1905136038.py:7: FutureWarning:\n",
      "\n",
      "suggest_loguniform has been deprecated in v3.0.0. This feature will be removed in v6.0.0. See https://github.com/optuna/optuna/releases/tag/v3.0.0. Use suggest_float(..., log=True) instead.\n",
      "\n",
      "[I 2023-12-13 03:10:44,654] Trial 35 finished with value: 8889997.302766707 and parameters: {'iterations': 235, 'depth': 4, 'learning_rate': 0.09310702527675921, 'random_strength': 79, 'bagging_temperature': 5.44352040244273}. Best is trial 23 with value: 8337084.143412735.\n",
      "C:\\Users\\steepday\\AppData\\Local\\Temp\\ipykernel_7732\\1905136038.py:5: FutureWarning:\n",
      "\n",
      "suggest_uniform has been deprecated in v3.0.0. This feature will be removed in v6.0.0. See https://github.com/optuna/optuna/releases/tag/v3.0.0. Use suggest_float instead.\n",
      "\n",
      "C:\\Users\\steepday\\AppData\\Local\\Temp\\ipykernel_7732\\1905136038.py:7: FutureWarning:\n",
      "\n",
      "suggest_loguniform has been deprecated in v3.0.0. This feature will be removed in v6.0.0. See https://github.com/optuna/optuna/releases/tag/v3.0.0. Use suggest_float(..., log=True) instead.\n",
      "\n",
      "[I 2023-12-13 03:10:44,836] Trial 36 finished with value: 8250306.58418707 and parameters: {'iterations': 277, 'depth': 5, 'learning_rate': 0.08044170609623244, 'random_strength': 88, 'bagging_temperature': 44.55280040871845}. Best is trial 36 with value: 8250306.58418707.\n",
      "C:\\Users\\steepday\\AppData\\Local\\Temp\\ipykernel_7732\\1905136038.py:5: FutureWarning:\n",
      "\n",
      "suggest_uniform has been deprecated in v3.0.0. This feature will be removed in v6.0.0. See https://github.com/optuna/optuna/releases/tag/v3.0.0. Use suggest_float instead.\n",
      "\n",
      "C:\\Users\\steepday\\AppData\\Local\\Temp\\ipykernel_7732\\1905136038.py:7: FutureWarning:\n",
      "\n",
      "suggest_loguniform has been deprecated in v3.0.0. This feature will be removed in v6.0.0. See https://github.com/optuna/optuna/releases/tag/v3.0.0. Use suggest_float(..., log=True) instead.\n",
      "\n",
      "[I 2023-12-13 03:10:44,909] Trial 37 finished with value: 16819648.847837076 and parameters: {'iterations': 58, 'depth': 6, 'learning_rate': 0.05119680619980857, 'random_strength': 72, 'bagging_temperature': 49.83488464618477}. Best is trial 36 with value: 8250306.58418707.\n",
      "C:\\Users\\steepday\\AppData\\Local\\Temp\\ipykernel_7732\\1905136038.py:5: FutureWarning:\n",
      "\n",
      "suggest_uniform has been deprecated in v3.0.0. This feature will be removed in v6.0.0. See https://github.com/optuna/optuna/releases/tag/v3.0.0. Use suggest_float instead.\n",
      "\n",
      "C:\\Users\\steepday\\AppData\\Local\\Temp\\ipykernel_7732\\1905136038.py:7: FutureWarning:\n",
      "\n",
      "suggest_loguniform has been deprecated in v3.0.0. This feature will be removed in v6.0.0. See https://github.com/optuna/optuna/releases/tag/v3.0.0. Use suggest_float(..., log=True) instead.\n",
      "\n",
      "[I 2023-12-13 03:10:45,087] Trial 38 finished with value: 8189423.68207888 and parameters: {'iterations': 279, 'depth': 5, 'learning_rate': 0.07128477154387106, 'random_strength': 85, 'bagging_temperature': 29.33829053194733}. Best is trial 38 with value: 8189423.68207888.\n",
      "C:\\Users\\steepday\\AppData\\Local\\Temp\\ipykernel_7732\\1905136038.py:5: FutureWarning:\n",
      "\n",
      "suggest_uniform has been deprecated in v3.0.0. This feature will be removed in v6.0.0. See https://github.com/optuna/optuna/releases/tag/v3.0.0. Use suggest_float instead.\n",
      "\n",
      "C:\\Users\\steepday\\AppData\\Local\\Temp\\ipykernel_7732\\1905136038.py:7: FutureWarning:\n",
      "\n",
      "suggest_loguniform has been deprecated in v3.0.0. This feature will be removed in v6.0.0. See https://github.com/optuna/optuna/releases/tag/v3.0.0. Use suggest_float(..., log=True) instead.\n",
      "\n",
      "[I 2023-12-13 03:10:45,366] Trial 39 finished with value: 9588640.458229374 and parameters: {'iterations': 278, 'depth': 8, 'learning_rate': 0.07003696421969056, 'random_strength': 77, 'bagging_temperature': 13.247969695301471}. Best is trial 38 with value: 8189423.68207888.\n",
      "C:\\Users\\steepday\\AppData\\Local\\Temp\\ipykernel_7732\\1905136038.py:5: FutureWarning:\n",
      "\n",
      "suggest_uniform has been deprecated in v3.0.0. This feature will be removed in v6.0.0. See https://github.com/optuna/optuna/releases/tag/v3.0.0. Use suggest_float instead.\n",
      "\n",
      "C:\\Users\\steepday\\AppData\\Local\\Temp\\ipykernel_7732\\1905136038.py:7: FutureWarning:\n",
      "\n",
      "suggest_loguniform has been deprecated in v3.0.0. This feature will be removed in v6.0.0. See https://github.com/optuna/optuna/releases/tag/v3.0.0. Use suggest_float(..., log=True) instead.\n",
      "\n",
      "[I 2023-12-13 03:10:45,542] Trial 40 finished with value: 8641110.351823643 and parameters: {'iterations': 253, 'depth': 6, 'learning_rate': 0.08870118487781373, 'random_strength': 84, 'bagging_temperature': 71.22986638613799}. Best is trial 38 with value: 8189423.68207888.\n",
      "C:\\Users\\steepday\\AppData\\Local\\Temp\\ipykernel_7732\\1905136038.py:5: FutureWarning:\n",
      "\n",
      "suggest_uniform has been deprecated in v3.0.0. This feature will be removed in v6.0.0. See https://github.com/optuna/optuna/releases/tag/v3.0.0. Use suggest_float instead.\n",
      "\n",
      "C:\\Users\\steepday\\AppData\\Local\\Temp\\ipykernel_7732\\1905136038.py:7: FutureWarning:\n",
      "\n",
      "suggest_loguniform has been deprecated in v3.0.0. This feature will be removed in v6.0.0. See https://github.com/optuna/optuna/releases/tag/v3.0.0. Use suggest_float(..., log=True) instead.\n",
      "\n",
      "[I 2023-12-13 03:10:45,743] Trial 41 finished with value: 8340531.112062196 and parameters: {'iterations': 280, 'depth': 5, 'learning_rate': 0.07704910077306998, 'random_strength': 89, 'bagging_temperature': 29.132252654484425}. Best is trial 38 with value: 8189423.68207888.\n",
      "C:\\Users\\steepday\\AppData\\Local\\Temp\\ipykernel_7732\\1905136038.py:5: FutureWarning:\n",
      "\n",
      "suggest_uniform has been deprecated in v3.0.0. This feature will be removed in v6.0.0. See https://github.com/optuna/optuna/releases/tag/v3.0.0. Use suggest_float instead.\n",
      "\n",
      "C:\\Users\\steepday\\AppData\\Local\\Temp\\ipykernel_7732\\1905136038.py:7: FutureWarning:\n",
      "\n",
      "suggest_loguniform has been deprecated in v3.0.0. This feature will be removed in v6.0.0. See https://github.com/optuna/optuna/releases/tag/v3.0.0. Use suggest_float(..., log=True) instead.\n",
      "\n",
      "[I 2023-12-13 03:10:45,907] Trial 42 finished with value: 8439182.055555582 and parameters: {'iterations': 279, 'depth': 5, 'learning_rate': 0.07893285705408498, 'random_strength': 68, 'bagging_temperature': 15.118638820136262}. Best is trial 38 with value: 8189423.68207888.\n",
      "C:\\Users\\steepday\\AppData\\Local\\Temp\\ipykernel_7732\\1905136038.py:5: FutureWarning:\n",
      "\n",
      "suggest_uniform has been deprecated in v3.0.0. This feature will be removed in v6.0.0. See https://github.com/optuna/optuna/releases/tag/v3.0.0. Use suggest_float instead.\n",
      "\n",
      "C:\\Users\\steepday\\AppData\\Local\\Temp\\ipykernel_7732\\1905136038.py:7: FutureWarning:\n",
      "\n",
      "suggest_loguniform has been deprecated in v3.0.0. This feature will be removed in v6.0.0. See https://github.com/optuna/optuna/releases/tag/v3.0.0. Use suggest_float(..., log=True) instead.\n",
      "\n",
      "[I 2023-12-13 03:10:46,083] Trial 43 finished with value: 8258683.825509522 and parameters: {'iterations': 285, 'depth': 5, 'learning_rate': 0.0751927709120515, 'random_strength': 87, 'bagging_temperature': 30.25498713229322}. Best is trial 38 with value: 8189423.68207888.\n",
      "C:\\Users\\steepday\\AppData\\Local\\Temp\\ipykernel_7732\\1905136038.py:5: FutureWarning:\n",
      "\n",
      "suggest_uniform has been deprecated in v3.0.0. This feature will be removed in v6.0.0. See https://github.com/optuna/optuna/releases/tag/v3.0.0. Use suggest_float instead.\n",
      "\n",
      "C:\\Users\\steepday\\AppData\\Local\\Temp\\ipykernel_7732\\1905136038.py:7: FutureWarning:\n",
      "\n",
      "suggest_loguniform has been deprecated in v3.0.0. This feature will be removed in v6.0.0. See https://github.com/optuna/optuna/releases/tag/v3.0.0. Use suggest_float(..., log=True) instead.\n",
      "\n",
      "[I 2023-12-13 03:10:46,326] Trial 44 finished with value: 9003040.078839362 and parameters: {'iterations': 285, 'depth': 6, 'learning_rate': 0.07517875430409232, 'random_strength': 86, 'bagging_temperature': 95.11614453538257}. Best is trial 38 with value: 8189423.68207888.\n",
      "C:\\Users\\steepday\\AppData\\Local\\Temp\\ipykernel_7732\\1905136038.py:5: FutureWarning:\n",
      "\n",
      "suggest_uniform has been deprecated in v3.0.0. This feature will be removed in v6.0.0. See https://github.com/optuna/optuna/releases/tag/v3.0.0. Use suggest_float instead.\n",
      "\n",
      "C:\\Users\\steepday\\AppData\\Local\\Temp\\ipykernel_7732\\1905136038.py:7: FutureWarning:\n",
      "\n",
      "suggest_loguniform has been deprecated in v3.0.0. This feature will be removed in v6.0.0. See https://github.com/optuna/optuna/releases/tag/v3.0.0. Use suggest_float(..., log=True) instead.\n",
      "\n",
      "[I 2023-12-13 03:10:46,494] Trial 45 finished with value: 8183315.196993918 and parameters: {'iterations': 272, 'depth': 5, 'learning_rate': 0.07027599157729998, 'random_strength': 80, 'bagging_temperature': 27.44113984370508}. Best is trial 45 with value: 8183315.196993918.\n",
      "C:\\Users\\steepday\\AppData\\Local\\Temp\\ipykernel_7732\\1905136038.py:5: FutureWarning:\n",
      "\n",
      "suggest_uniform has been deprecated in v3.0.0. This feature will be removed in v6.0.0. See https://github.com/optuna/optuna/releases/tag/v3.0.0. Use suggest_float instead.\n",
      "\n",
      "C:\\Users\\steepday\\AppData\\Local\\Temp\\ipykernel_7732\\1905136038.py:7: FutureWarning:\n",
      "\n",
      "suggest_loguniform has been deprecated in v3.0.0. This feature will be removed in v6.0.0. See https://github.com/optuna/optuna/releases/tag/v3.0.0. Use suggest_float(..., log=True) instead.\n",
      "\n",
      "[I 2023-12-13 03:10:46,760] Trial 46 finished with value: 12240174.354597034 and parameters: {'iterations': 117, 'depth': 10, 'learning_rate': 0.06869423231851292, 'random_strength': 58, 'bagging_temperature': 50.927496811392075}. Best is trial 45 with value: 8183315.196993918.\n",
      "C:\\Users\\steepday\\AppData\\Local\\Temp\\ipykernel_7732\\1905136038.py:5: FutureWarning:\n",
      "\n",
      "suggest_uniform has been deprecated in v3.0.0. This feature will be removed in v6.0.0. See https://github.com/optuna/optuna/releases/tag/v3.0.0. Use suggest_float instead.\n",
      "\n",
      "C:\\Users\\steepday\\AppData\\Local\\Temp\\ipykernel_7732\\1905136038.py:7: FutureWarning:\n",
      "\n",
      "suggest_loguniform has been deprecated in v3.0.0. This feature will be removed in v6.0.0. See https://github.com/optuna/optuna/releases/tag/v3.0.0. Use suggest_float(..., log=True) instead.\n",
      "\n",
      "[I 2023-12-13 03:10:46,953] Trial 47 finished with value: 8713571.908056557 and parameters: {'iterations': 271, 'depth': 6, 'learning_rate': 0.07260536214779152, 'random_strength': 76, 'bagging_temperature': 53.91035393149304}. Best is trial 45 with value: 8183315.196993918.\n",
      "C:\\Users\\steepday\\AppData\\Local\\Temp\\ipykernel_7732\\1905136038.py:5: FutureWarning:\n",
      "\n",
      "suggest_uniform has been deprecated in v3.0.0. This feature will be removed in v6.0.0. See https://github.com/optuna/optuna/releases/tag/v3.0.0. Use suggest_float instead.\n",
      "\n",
      "C:\\Users\\steepday\\AppData\\Local\\Temp\\ipykernel_7732\\1905136038.py:7: FutureWarning:\n",
      "\n",
      "suggest_loguniform has been deprecated in v3.0.0. This feature will be removed in v6.0.0. See https://github.com/optuna/optuna/releases/tag/v3.0.0. Use suggest_float(..., log=True) instead.\n",
      "\n",
      "[I 2023-12-13 03:10:47,024] Trial 48 finished with value: 15825669.59132509 and parameters: {'iterations': 79, 'depth': 4, 'learning_rate': 0.05468756976621484, 'random_strength': 22, 'bagging_temperature': 24.514634908704547}. Best is trial 45 with value: 8183315.196993918.\n",
      "C:\\Users\\steepday\\AppData\\Local\\Temp\\ipykernel_7732\\1905136038.py:5: FutureWarning:\n",
      "\n",
      "suggest_uniform has been deprecated in v3.0.0. This feature will be removed in v6.0.0. See https://github.com/optuna/optuna/releases/tag/v3.0.0. Use suggest_float instead.\n",
      "\n",
      "C:\\Users\\steepday\\AppData\\Local\\Temp\\ipykernel_7732\\1905136038.py:7: FutureWarning:\n",
      "\n",
      "suggest_loguniform has been deprecated in v3.0.0. This feature will be removed in v6.0.0. See https://github.com/optuna/optuna/releases/tag/v3.0.0. Use suggest_float(..., log=True) instead.\n",
      "\n",
      "[I 2023-12-13 03:10:47,237] Trial 49 finished with value: 9510180.507647038 and parameters: {'iterations': 257, 'depth': 7, 'learning_rate': 0.08614158042169523, 'random_strength': 81, 'bagging_temperature': 40.06248007049688}. Best is trial 45 with value: 8183315.196993918.\n",
      "C:\\Users\\steepday\\AppData\\Local\\Temp\\ipykernel_7732\\1905136038.py:5: FutureWarning:\n",
      "\n",
      "suggest_uniform has been deprecated in v3.0.0. This feature will be removed in v6.0.0. See https://github.com/optuna/optuna/releases/tag/v3.0.0. Use suggest_float instead.\n",
      "\n",
      "C:\\Users\\steepday\\AppData\\Local\\Temp\\ipykernel_7732\\1905136038.py:7: FutureWarning:\n",
      "\n",
      "suggest_loguniform has been deprecated in v3.0.0. This feature will be removed in v6.0.0. See https://github.com/optuna/optuna/releases/tag/v3.0.0. Use suggest_float(..., log=True) instead.\n",
      "\n",
      "[I 2023-12-13 03:10:47,380] Trial 50 finished with value: 8459877.250862686 and parameters: {'iterations': 222, 'depth': 5, 'learning_rate': 0.06857349153045096, 'random_strength': 62, 'bagging_temperature': 16.619657497068275}. Best is trial 45 with value: 8183315.196993918.\n",
      "C:\\Users\\steepday\\AppData\\Local\\Temp\\ipykernel_7732\\1905136038.py:5: FutureWarning:\n",
      "\n",
      "suggest_uniform has been deprecated in v3.0.0. This feature will be removed in v6.0.0. See https://github.com/optuna/optuna/releases/tag/v3.0.0. Use suggest_float instead.\n",
      "\n",
      "C:\\Users\\steepday\\AppData\\Local\\Temp\\ipykernel_7732\\1905136038.py:7: FutureWarning:\n",
      "\n",
      "suggest_loguniform has been deprecated in v3.0.0. This feature will be removed in v6.0.0. See https://github.com/optuna/optuna/releases/tag/v3.0.0. Use suggest_float(..., log=True) instead.\n",
      "\n",
      "[I 2023-12-13 03:10:47,560] Trial 51 finished with value: 8286950.934402387 and parameters: {'iterations': 289, 'depth': 5, 'learning_rate': 0.07791900031701553, 'random_strength': 87, 'bagging_temperature': 27.946414995988828}. Best is trial 45 with value: 8183315.196993918.\n",
      "C:\\Users\\steepday\\AppData\\Local\\Temp\\ipykernel_7732\\1905136038.py:5: FutureWarning:\n",
      "\n",
      "suggest_uniform has been deprecated in v3.0.0. This feature will be removed in v6.0.0. See https://github.com/optuna/optuna/releases/tag/v3.0.0. Use suggest_float instead.\n",
      "\n",
      "C:\\Users\\steepday\\AppData\\Local\\Temp\\ipykernel_7732\\1905136038.py:7: FutureWarning:\n",
      "\n",
      "suggest_loguniform has been deprecated in v3.0.0. This feature will be removed in v6.0.0. See https://github.com/optuna/optuna/releases/tag/v3.0.0. Use suggest_float(..., log=True) instead.\n",
      "\n",
      "[I 2023-12-13 03:10:47,746] Trial 52 finished with value: 8243304.499497283 and parameters: {'iterations': 288, 'depth': 5, 'learning_rate': 0.08089425809968433, 'random_strength': 69, 'bagging_temperature': 95.59533203398007}. Best is trial 45 with value: 8183315.196993918.\n",
      "C:\\Users\\steepday\\AppData\\Local\\Temp\\ipykernel_7732\\1905136038.py:5: FutureWarning:\n",
      "\n",
      "suggest_uniform has been deprecated in v3.0.0. This feature will be removed in v6.0.0. See https://github.com/optuna/optuna/releases/tag/v3.0.0. Use suggest_float instead.\n",
      "\n",
      "C:\\Users\\steepday\\AppData\\Local\\Temp\\ipykernel_7732\\1905136038.py:7: FutureWarning:\n",
      "\n",
      "suggest_loguniform has been deprecated in v3.0.0. This feature will be removed in v6.0.0. See https://github.com/optuna/optuna/releases/tag/v3.0.0. Use suggest_float(..., log=True) instead.\n",
      "\n",
      "[I 2023-12-13 03:10:47,915] Trial 53 finished with value: 17305425.561407667 and parameters: {'iterations': 291, 'depth': 5, 'learning_rate': 0.011909065839161834, 'random_strength': 69, 'bagging_temperature': 77.44189043434518}. Best is trial 45 with value: 8183315.196993918.\n",
      "C:\\Users\\steepday\\AppData\\Local\\Temp\\ipykernel_7732\\1905136038.py:5: FutureWarning:\n",
      "\n",
      "suggest_uniform has been deprecated in v3.0.0. This feature will be removed in v6.0.0. See https://github.com/optuna/optuna/releases/tag/v3.0.0. Use suggest_float instead.\n",
      "\n",
      "C:\\Users\\steepday\\AppData\\Local\\Temp\\ipykernel_7732\\1905136038.py:7: FutureWarning:\n",
      "\n",
      "suggest_loguniform has been deprecated in v3.0.0. This feature will be removed in v6.0.0. See https://github.com/optuna/optuna/releases/tag/v3.0.0. Use suggest_float(..., log=True) instead.\n",
      "\n",
      "[I 2023-12-13 03:10:48,088] Trial 54 finished with value: 8415414.653579913 and parameters: {'iterations': 288, 'depth': 5, 'learning_rate': 0.07138377680732295, 'random_strength': 95, 'bagging_temperature': 63.4742359899507}. Best is trial 45 with value: 8183315.196993918.\n",
      "C:\\Users\\steepday\\AppData\\Local\\Temp\\ipykernel_7732\\1905136038.py:5: FutureWarning:\n",
      "\n",
      "suggest_uniform has been deprecated in v3.0.0. This feature will be removed in v6.0.0. See https://github.com/optuna/optuna/releases/tag/v3.0.0. Use suggest_float instead.\n",
      "\n",
      "C:\\Users\\steepday\\AppData\\Local\\Temp\\ipykernel_7732\\1905136038.py:7: FutureWarning:\n",
      "\n",
      "suggest_loguniform has been deprecated in v3.0.0. This feature will be removed in v6.0.0. See https://github.com/optuna/optuna/releases/tag/v3.0.0. Use suggest_float(..., log=True) instead.\n",
      "\n",
      "[I 2023-12-13 03:10:48,298] Trial 55 finished with value: 8916003.536258062 and parameters: {'iterations': 300, 'depth': 6, 'learning_rate': 0.07786844435216936, 'random_strength': 80, 'bagging_temperature': 98.66701396626236}. Best is trial 45 with value: 8183315.196993918.\n",
      "C:\\Users\\steepday\\AppData\\Local\\Temp\\ipykernel_7732\\1905136038.py:5: FutureWarning:\n",
      "\n",
      "suggest_uniform has been deprecated in v3.0.0. This feature will be removed in v6.0.0. See https://github.com/optuna/optuna/releases/tag/v3.0.0. Use suggest_float instead.\n",
      "\n",
      "C:\\Users\\steepday\\AppData\\Local\\Temp\\ipykernel_7732\\1905136038.py:7: FutureWarning:\n",
      "\n",
      "suggest_loguniform has been deprecated in v3.0.0. This feature will be removed in v6.0.0. See https://github.com/optuna/optuna/releases/tag/v3.0.0. Use suggest_float(..., log=True) instead.\n",
      "\n",
      "[I 2023-12-13 03:10:48,433] Trial 56 finished with value: 7791283.016409326 and parameters: {'iterations': 249, 'depth': 4, 'learning_rate': 0.07380543785673732, 'random_strength': 2, 'bagging_temperature': 30.539795612827966}. Best is trial 56 with value: 7791283.016409326.\n",
      "C:\\Users\\steepday\\AppData\\Local\\Temp\\ipykernel_7732\\1905136038.py:5: FutureWarning:\n",
      "\n",
      "suggest_uniform has been deprecated in v3.0.0. This feature will be removed in v6.0.0. See https://github.com/optuna/optuna/releases/tag/v3.0.0. Use suggest_float instead.\n",
      "\n",
      "C:\\Users\\steepday\\AppData\\Local\\Temp\\ipykernel_7732\\1905136038.py:7: FutureWarning:\n",
      "\n",
      "suggest_loguniform has been deprecated in v3.0.0. This feature will be removed in v6.0.0. See https://github.com/optuna/optuna/releases/tag/v3.0.0. Use suggest_float(..., log=True) instead.\n",
      "\n",
      "[I 2023-12-13 03:10:48,569] Trial 57 finished with value: 8657371.35869279 and parameters: {'iterations': 249, 'depth': 4, 'learning_rate': 0.05840162640173044, 'random_strength': 21, 'bagging_temperature': 39.80992158742807}. Best is trial 56 with value: 7791283.016409326.\n",
      "C:\\Users\\steepday\\AppData\\Local\\Temp\\ipykernel_7732\\1905136038.py:5: FutureWarning:\n",
      "\n",
      "suggest_uniform has been deprecated in v3.0.0. This feature will be removed in v6.0.0. See https://github.com/optuna/optuna/releases/tag/v3.0.0. Use suggest_float instead.\n",
      "\n",
      "C:\\Users\\steepday\\AppData\\Local\\Temp\\ipykernel_7732\\1905136038.py:7: FutureWarning:\n",
      "\n",
      "suggest_loguniform has been deprecated in v3.0.0. This feature will be removed in v6.0.0. See https://github.com/optuna/optuna/releases/tag/v3.0.0. Use suggest_float(..., log=True) instead.\n",
      "\n",
      "[I 2023-12-13 03:10:48,679] Trial 58 finished with value: 8065434.977751028 and parameters: {'iterations': 171, 'depth': 4, 'learning_rate': 0.07391148381205075, 'random_strength': 3, 'bagging_temperature': 20.128599281911477}. Best is trial 56 with value: 7791283.016409326.\n",
      "C:\\Users\\steepday\\AppData\\Local\\Temp\\ipykernel_7732\\1905136038.py:5: FutureWarning:\n",
      "\n",
      "suggest_uniform has been deprecated in v3.0.0. This feature will be removed in v6.0.0. See https://github.com/optuna/optuna/releases/tag/v3.0.0. Use suggest_float instead.\n",
      "\n",
      "C:\\Users\\steepday\\AppData\\Local\\Temp\\ipykernel_7732\\1905136038.py:7: FutureWarning:\n",
      "\n",
      "suggest_loguniform has been deprecated in v3.0.0. This feature will be removed in v6.0.0. See https://github.com/optuna/optuna/releases/tag/v3.0.0. Use suggest_float(..., log=True) instead.\n",
      "\n",
      "[I 2023-12-13 03:10:48,783] Trial 59 finished with value: 7492669.330314279 and parameters: {'iterations': 168, 'depth': 4, 'learning_rate': 0.0669566952389966, 'random_strength': 0, 'bagging_temperature': 18.7406727950908}. Best is trial 59 with value: 7492669.330314279.\n",
      "C:\\Users\\steepday\\AppData\\Local\\Temp\\ipykernel_7732\\1905136038.py:5: FutureWarning:\n",
      "\n",
      "suggest_uniform has been deprecated in v3.0.0. This feature will be removed in v6.0.0. See https://github.com/optuna/optuna/releases/tag/v3.0.0. Use suggest_float instead.\n",
      "\n",
      "C:\\Users\\steepday\\AppData\\Local\\Temp\\ipykernel_7732\\1905136038.py:7: FutureWarning:\n",
      "\n",
      "suggest_loguniform has been deprecated in v3.0.0. This feature will be removed in v6.0.0. See https://github.com/optuna/optuna/releases/tag/v3.0.0. Use suggest_float(..., log=True) instead.\n",
      "\n",
      "[I 2023-12-13 03:10:48,885] Trial 60 finished with value: 7806533.964279828 and parameters: {'iterations': 167, 'depth': 4, 'learning_rate': 0.06666546312591508, 'random_strength': 2, 'bagging_temperature': 2.4083963946717177}. Best is trial 59 with value: 7492669.330314279.\n",
      "C:\\Users\\steepday\\AppData\\Local\\Temp\\ipykernel_7732\\1905136038.py:5: FutureWarning:\n",
      "\n",
      "suggest_uniform has been deprecated in v3.0.0. This feature will be removed in v6.0.0. See https://github.com/optuna/optuna/releases/tag/v3.0.0. Use suggest_float instead.\n",
      "\n",
      "C:\\Users\\steepday\\AppData\\Local\\Temp\\ipykernel_7732\\1905136038.py:7: FutureWarning:\n",
      "\n",
      "suggest_loguniform has been deprecated in v3.0.0. This feature will be removed in v6.0.0. See https://github.com/optuna/optuna/releases/tag/v3.0.0. Use suggest_float(..., log=True) instead.\n",
      "\n",
      "[I 2023-12-13 03:10:48,986] Trial 61 finished with value: 7482994.400639086 and parameters: {'iterations': 166, 'depth': 4, 'learning_rate': 0.06744414517330016, 'random_strength': 0, 'bagging_temperature': 0.5176430016280169}. Best is trial 61 with value: 7482994.400639086.\n",
      "C:\\Users\\steepday\\AppData\\Local\\Temp\\ipykernel_7732\\1905136038.py:5: FutureWarning:\n",
      "\n",
      "suggest_uniform has been deprecated in v3.0.0. This feature will be removed in v6.0.0. See https://github.com/optuna/optuna/releases/tag/v3.0.0. Use suggest_float instead.\n",
      "\n",
      "C:\\Users\\steepday\\AppData\\Local\\Temp\\ipykernel_7732\\1905136038.py:7: FutureWarning:\n",
      "\n",
      "suggest_loguniform has been deprecated in v3.0.0. This feature will be removed in v6.0.0. See https://github.com/optuna/optuna/releases/tag/v3.0.0. Use suggest_float(..., log=True) instead.\n",
      "\n",
      "[I 2023-12-13 03:10:49,091] Trial 62 finished with value: 7936005.351416934 and parameters: {'iterations': 167, 'depth': 4, 'learning_rate': 0.06621332428632543, 'random_strength': 1, 'bagging_temperature': 1.064230199519641}. Best is trial 61 with value: 7482994.400639086.\n",
      "C:\\Users\\steepday\\AppData\\Local\\Temp\\ipykernel_7732\\1905136038.py:5: FutureWarning:\n",
      "\n",
      "suggest_uniform has been deprecated in v3.0.0. This feature will be removed in v6.0.0. See https://github.com/optuna/optuna/releases/tag/v3.0.0. Use suggest_float instead.\n",
      "\n",
      "C:\\Users\\steepday\\AppData\\Local\\Temp\\ipykernel_7732\\1905136038.py:7: FutureWarning:\n",
      "\n",
      "suggest_loguniform has been deprecated in v3.0.0. This feature will be removed in v6.0.0. See https://github.com/optuna/optuna/releases/tag/v3.0.0. Use suggest_float(..., log=True) instead.\n",
      "\n",
      "[I 2023-12-13 03:10:49,212] Trial 63 finished with value: 7437876.2855846975 and parameters: {'iterations': 166, 'depth': 4, 'learning_rate': 0.05034392005281933, 'random_strength': 0, 'bagging_temperature': 0.81235708729659}. Best is trial 63 with value: 7437876.2855846975.\n",
      "C:\\Users\\steepday\\AppData\\Local\\Temp\\ipykernel_7732\\1905136038.py:5: FutureWarning:\n",
      "\n",
      "suggest_uniform has been deprecated in v3.0.0. This feature will be removed in v6.0.0. See https://github.com/optuna/optuna/releases/tag/v3.0.0. Use suggest_float instead.\n",
      "\n",
      "C:\\Users\\steepday\\AppData\\Local\\Temp\\ipykernel_7732\\1905136038.py:7: FutureWarning:\n",
      "\n",
      "suggest_loguniform has been deprecated in v3.0.0. This feature will be removed in v6.0.0. See https://github.com/optuna/optuna/releases/tag/v3.0.0. Use suggest_float(..., log=True) instead.\n",
      "\n",
      "[I 2023-12-13 03:10:49,312] Trial 64 finished with value: 8292081.103579881 and parameters: {'iterations': 164, 'depth': 4, 'learning_rate': 0.0513785571543364, 'random_strength': 2, 'bagging_temperature': 0.7622009275290722}. Best is trial 63 with value: 7437876.2855846975.\n",
      "C:\\Users\\steepday\\AppData\\Local\\Temp\\ipykernel_7732\\1905136038.py:5: FutureWarning:\n",
      "\n",
      "suggest_uniform has been deprecated in v3.0.0. This feature will be removed in v6.0.0. See https://github.com/optuna/optuna/releases/tag/v3.0.0. Use suggest_float instead.\n",
      "\n",
      "C:\\Users\\steepday\\AppData\\Local\\Temp\\ipykernel_7732\\1905136038.py:7: FutureWarning:\n",
      "\n",
      "suggest_loguniform has been deprecated in v3.0.0. This feature will be removed in v6.0.0. See https://github.com/optuna/optuna/releases/tag/v3.0.0. Use suggest_float(..., log=True) instead.\n",
      "\n",
      "[I 2023-12-13 03:10:49,409] Trial 65 finished with value: 9152356.667606434 and parameters: {'iterations': 156, 'depth': 4, 'learning_rate': 0.060568843072456996, 'random_strength': 8, 'bagging_temperature': 0.48180642599695955}. Best is trial 63 with value: 7437876.2855846975.\n",
      "C:\\Users\\steepday\\AppData\\Local\\Temp\\ipykernel_7732\\1905136038.py:5: FutureWarning:\n",
      "\n",
      "suggest_uniform has been deprecated in v3.0.0. This feature will be removed in v6.0.0. See https://github.com/optuna/optuna/releases/tag/v3.0.0. Use suggest_float instead.\n",
      "\n",
      "C:\\Users\\steepday\\AppData\\Local\\Temp\\ipykernel_7732\\1905136038.py:7: FutureWarning:\n",
      "\n",
      "suggest_loguniform has been deprecated in v3.0.0. This feature will be removed in v6.0.0. See https://github.com/optuna/optuna/releases/tag/v3.0.0. Use suggest_float(..., log=True) instead.\n",
      "\n",
      "[I 2023-12-13 03:10:49,502] Trial 66 finished with value: 9400599.95060797 and parameters: {'iterations': 137, 'depth': 4, 'learning_rate': 0.06609498190884878, 'random_strength': 8, 'bagging_temperature': 0.18241287060075928}. Best is trial 63 with value: 7437876.2855846975.\n",
      "C:\\Users\\steepday\\AppData\\Local\\Temp\\ipykernel_7732\\1905136038.py:5: FutureWarning:\n",
      "\n",
      "suggest_uniform has been deprecated in v3.0.0. This feature will be removed in v6.0.0. See https://github.com/optuna/optuna/releases/tag/v3.0.0. Use suggest_float instead.\n",
      "\n",
      "C:\\Users\\steepday\\AppData\\Local\\Temp\\ipykernel_7732\\1905136038.py:7: FutureWarning:\n",
      "\n",
      "suggest_loguniform has been deprecated in v3.0.0. This feature will be removed in v6.0.0. See https://github.com/optuna/optuna/releases/tag/v3.0.0. Use suggest_float(..., log=True) instead.\n",
      "\n",
      "[I 2023-12-13 03:10:49,609] Trial 67 finished with value: 7435773.724096391 and parameters: {'iterations': 176, 'depth': 4, 'learning_rate': 0.04776543612571375, 'random_strength': 0, 'bagging_temperature': 1.2537869466711755}. Best is trial 67 with value: 7435773.724096391.\n",
      "C:\\Users\\steepday\\AppData\\Local\\Temp\\ipykernel_7732\\1905136038.py:5: FutureWarning:\n",
      "\n",
      "suggest_uniform has been deprecated in v3.0.0. This feature will be removed in v6.0.0. See https://github.com/optuna/optuna/releases/tag/v3.0.0. Use suggest_float instead.\n",
      "\n",
      "C:\\Users\\steepday\\AppData\\Local\\Temp\\ipykernel_7732\\1905136038.py:7: FutureWarning:\n",
      "\n",
      "suggest_loguniform has been deprecated in v3.0.0. This feature will be removed in v6.0.0. See https://github.com/optuna/optuna/releases/tag/v3.0.0. Use suggest_float(..., log=True) instead.\n",
      "\n",
      "[I 2023-12-13 03:10:49,710] Trial 68 finished with value: 11160289.80823531 and parameters: {'iterations': 142, 'depth': 4, 'learning_rate': 0.04548605186421356, 'random_strength': 8, 'bagging_temperature': 1.1134928206341783}. Best is trial 67 with value: 7435773.724096391.\n",
      "C:\\Users\\steepday\\AppData\\Local\\Temp\\ipykernel_7732\\1905136038.py:5: FutureWarning:\n",
      "\n",
      "suggest_uniform has been deprecated in v3.0.0. This feature will be removed in v6.0.0. See https://github.com/optuna/optuna/releases/tag/v3.0.0. Use suggest_float instead.\n",
      "\n",
      "C:\\Users\\steepday\\AppData\\Local\\Temp\\ipykernel_7732\\1905136038.py:7: FutureWarning:\n",
      "\n",
      "suggest_loguniform has been deprecated in v3.0.0. This feature will be removed in v6.0.0. See https://github.com/optuna/optuna/releases/tag/v3.0.0. Use suggest_float(..., log=True) instead.\n",
      "\n",
      "[I 2023-12-13 03:10:49,837] Trial 69 finished with value: 7871537.782267677 and parameters: {'iterations': 184, 'depth': 4, 'learning_rate': 0.034991437290707236, 'random_strength': 0, 'bagging_temperature': 1.2480922137505666}. Best is trial 67 with value: 7435773.724096391.\n",
      "C:\\Users\\steepday\\AppData\\Local\\Temp\\ipykernel_7732\\1905136038.py:5: FutureWarning:\n",
      "\n",
      "suggest_uniform has been deprecated in v3.0.0. This feature will be removed in v6.0.0. See https://github.com/optuna/optuna/releases/tag/v3.0.0. Use suggest_float instead.\n",
      "\n",
      "C:\\Users\\steepday\\AppData\\Local\\Temp\\ipykernel_7732\\1905136038.py:7: FutureWarning:\n",
      "\n",
      "suggest_loguniform has been deprecated in v3.0.0. This feature will be removed in v6.0.0. See https://github.com/optuna/optuna/releases/tag/v3.0.0. Use suggest_float(..., log=True) instead.\n",
      "\n",
      "[I 2023-12-13 03:10:49,946] Trial 70 finished with value: 12648070.150489539 and parameters: {'iterations': 181, 'depth': 4, 'learning_rate': 0.034146343699923615, 'random_strength': 15, 'bagging_temperature': 2.394232939344908}. Best is trial 67 with value: 7435773.724096391.\n",
      "C:\\Users\\steepday\\AppData\\Local\\Temp\\ipykernel_7732\\1905136038.py:5: FutureWarning:\n",
      "\n",
      "suggest_uniform has been deprecated in v3.0.0. This feature will be removed in v6.0.0. See https://github.com/optuna/optuna/releases/tag/v3.0.0. Use suggest_float instead.\n",
      "\n",
      "C:\\Users\\steepday\\AppData\\Local\\Temp\\ipykernel_7732\\1905136038.py:7: FutureWarning:\n",
      "\n",
      "suggest_loguniform has been deprecated in v3.0.0. This feature will be removed in v6.0.0. See https://github.com/optuna/optuna/releases/tag/v3.0.0. Use suggest_float(..., log=True) instead.\n",
      "\n",
      "[I 2023-12-13 03:10:50,059] Trial 71 finished with value: 8294839.982247671 and parameters: {'iterations': 192, 'depth': 4, 'learning_rate': 0.02236525300628455, 'random_strength': 0, 'bagging_temperature': 1.215863193478995}. Best is trial 67 with value: 7435773.724096391.\n",
      "C:\\Users\\steepday\\AppData\\Local\\Temp\\ipykernel_7732\\1905136038.py:5: FutureWarning:\n",
      "\n",
      "suggest_uniform has been deprecated in v3.0.0. This feature will be removed in v6.0.0. See https://github.com/optuna/optuna/releases/tag/v3.0.0. Use suggest_float instead.\n",
      "\n",
      "C:\\Users\\steepday\\AppData\\Local\\Temp\\ipykernel_7732\\1905136038.py:7: FutureWarning:\n",
      "\n",
      "suggest_loguniform has been deprecated in v3.0.0. This feature will be removed in v6.0.0. See https://github.com/optuna/optuna/releases/tag/v3.0.0. Use suggest_float(..., log=True) instead.\n",
      "\n",
      "[I 2023-12-13 03:10:50,159] Trial 72 finished with value: 12818978.206701826 and parameters: {'iterations': 150, 'depth': 4, 'learning_rate': 0.036330368787962884, 'random_strength': 12, 'bagging_temperature': 0.5670559324415224}. Best is trial 67 with value: 7435773.724096391.\n",
      "C:\\Users\\steepday\\AppData\\Local\\Temp\\ipykernel_7732\\1905136038.py:5: FutureWarning:\n",
      "\n",
      "suggest_uniform has been deprecated in v3.0.0. This feature will be removed in v6.0.0. See https://github.com/optuna/optuna/releases/tag/v3.0.0. Use suggest_float instead.\n",
      "\n",
      "C:\\Users\\steepday\\AppData\\Local\\Temp\\ipykernel_7732\\1905136038.py:7: FutureWarning:\n",
      "\n",
      "suggest_loguniform has been deprecated in v3.0.0. This feature will be removed in v6.0.0. See https://github.com/optuna/optuna/releases/tag/v3.0.0. Use suggest_float(..., log=True) instead.\n",
      "\n",
      "[I 2023-12-13 03:10:50,267] Trial 73 finished with value: 9856008.371532053 and parameters: {'iterations': 172, 'depth': 4, 'learning_rate': 0.04026068956005945, 'random_strength': 5, 'bagging_temperature': 1.5992241420048123}. Best is trial 67 with value: 7435773.724096391.\n",
      "C:\\Users\\steepday\\AppData\\Local\\Temp\\ipykernel_7732\\1905136038.py:5: FutureWarning:\n",
      "\n",
      "suggest_uniform has been deprecated in v3.0.0. This feature will be removed in v6.0.0. See https://github.com/optuna/optuna/releases/tag/v3.0.0. Use suggest_float instead.\n",
      "\n",
      "C:\\Users\\steepday\\AppData\\Local\\Temp\\ipykernel_7732\\1905136038.py:7: FutureWarning:\n",
      "\n",
      "suggest_loguniform has been deprecated in v3.0.0. This feature will be removed in v6.0.0. See https://github.com/optuna/optuna/releases/tag/v3.0.0. Use suggest_float(..., log=True) instead.\n",
      "\n",
      "[I 2023-12-13 03:10:50,382] Trial 74 finished with value: 7491466.943058275 and parameters: {'iterations': 200, 'depth': 4, 'learning_rate': 0.047304778443841504, 'random_strength': 0, 'bagging_temperature': 0.27244061595004126}. Best is trial 67 with value: 7435773.724096391.\n",
      "C:\\Users\\steepday\\AppData\\Local\\Temp\\ipykernel_7732\\1905136038.py:5: FutureWarning:\n",
      "\n",
      "suggest_uniform has been deprecated in v3.0.0. This feature will be removed in v6.0.0. See https://github.com/optuna/optuna/releases/tag/v3.0.0. Use suggest_float instead.\n",
      "\n",
      "C:\\Users\\steepday\\AppData\\Local\\Temp\\ipykernel_7732\\1905136038.py:7: FutureWarning:\n",
      "\n",
      "suggest_loguniform has been deprecated in v3.0.0. This feature will be removed in v6.0.0. See https://github.com/optuna/optuna/releases/tag/v3.0.0. Use suggest_float(..., log=True) instead.\n",
      "\n",
      "[I 2023-12-13 03:10:50,498] Trial 75 finished with value: 8684858.127549682 and parameters: {'iterations': 202, 'depth': 4, 'learning_rate': 0.047654789490554766, 'random_strength': 5, 'bagging_temperature': 0.24302141417714854}. Best is trial 67 with value: 7435773.724096391.\n",
      "C:\\Users\\steepday\\AppData\\Local\\Temp\\ipykernel_7732\\1905136038.py:5: FutureWarning:\n",
      "\n",
      "suggest_uniform has been deprecated in v3.0.0. This feature will be removed in v6.0.0. See https://github.com/optuna/optuna/releases/tag/v3.0.0. Use suggest_float instead.\n",
      "\n",
      "C:\\Users\\steepday\\AppData\\Local\\Temp\\ipykernel_7732\\1905136038.py:7: FutureWarning:\n",
      "\n",
      "suggest_loguniform has been deprecated in v3.0.0. This feature will be removed in v6.0.0. See https://github.com/optuna/optuna/releases/tag/v3.0.0. Use suggest_float(..., log=True) instead.\n",
      "\n",
      "[I 2023-12-13 03:10:50,604] Trial 76 finished with value: 12982891.468397617 and parameters: {'iterations': 180, 'depth': 4, 'learning_rate': 0.02858508098535395, 'random_strength': 11, 'bagging_temperature': 0.3003212684474459}. Best is trial 67 with value: 7435773.724096391.\n",
      "C:\\Users\\steepday\\AppData\\Local\\Temp\\ipykernel_7732\\1905136038.py:5: FutureWarning:\n",
      "\n",
      "suggest_uniform has been deprecated in v3.0.0. This feature will be removed in v6.0.0. See https://github.com/optuna/optuna/releases/tag/v3.0.0. Use suggest_float instead.\n",
      "\n",
      "C:\\Users\\steepday\\AppData\\Local\\Temp\\ipykernel_7732\\1905136038.py:7: FutureWarning:\n",
      "\n",
      "suggest_loguniform has been deprecated in v3.0.0. This feature will be removed in v6.0.0. See https://github.com/optuna/optuna/releases/tag/v3.0.0. Use suggest_float(..., log=True) instead.\n",
      "\n",
      "[I 2023-12-13 03:10:50,694] Trial 77 finished with value: 8085129.52675638 and parameters: {'iterations': 132, 'depth': 4, 'learning_rate': 0.04121859958076883, 'random_strength': 0, 'bagging_temperature': 0.6006556740482378}. Best is trial 67 with value: 7435773.724096391.\n",
      "C:\\Users\\steepday\\AppData\\Local\\Temp\\ipykernel_7732\\1905136038.py:5: FutureWarning:\n",
      "\n",
      "suggest_uniform has been deprecated in v3.0.0. This feature will be removed in v6.0.0. See https://github.com/optuna/optuna/releases/tag/v3.0.0. Use suggest_float instead.\n",
      "\n",
      "C:\\Users\\steepday\\AppData\\Local\\Temp\\ipykernel_7732\\1905136038.py:7: FutureWarning:\n",
      "\n",
      "suggest_loguniform has been deprecated in v3.0.0. This feature will be removed in v6.0.0. See https://github.com/optuna/optuna/releases/tag/v3.0.0. Use suggest_float(..., log=True) instead.\n",
      "\n",
      "[I 2023-12-13 03:10:50,793] Trial 78 finished with value: 9543924.665511852 and parameters: {'iterations': 159, 'depth': 4, 'learning_rate': 0.048300541548281714, 'random_strength': 5, 'bagging_temperature': 2.6607964908803448}. Best is trial 67 with value: 7435773.724096391.\n",
      "C:\\Users\\steepday\\AppData\\Local\\Temp\\ipykernel_7732\\1905136038.py:5: FutureWarning:\n",
      "\n",
      "suggest_uniform has been deprecated in v3.0.0. This feature will be removed in v6.0.0. See https://github.com/optuna/optuna/releases/tag/v3.0.0. Use suggest_float instead.\n",
      "\n",
      "C:\\Users\\steepday\\AppData\\Local\\Temp\\ipykernel_7732\\1905136038.py:7: FutureWarning:\n",
      "\n",
      "suggest_loguniform has been deprecated in v3.0.0. This feature will be removed in v6.0.0. See https://github.com/optuna/optuna/releases/tag/v3.0.0. Use suggest_float(..., log=True) instead.\n",
      "\n",
      "[I 2023-12-13 03:10:50,903] Trial 79 finished with value: 9916932.410778856 and parameters: {'iterations': 189, 'depth': 4, 'learning_rate': 0.05296961474446912, 'random_strength': 19, 'bagging_temperature': 0.11645793888345389}. Best is trial 67 with value: 7435773.724096391.\n",
      "C:\\Users\\steepday\\AppData\\Local\\Temp\\ipykernel_7732\\1905136038.py:5: FutureWarning:\n",
      "\n",
      "suggest_uniform has been deprecated in v3.0.0. This feature will be removed in v6.0.0. See https://github.com/optuna/optuna/releases/tag/v3.0.0. Use suggest_float instead.\n",
      "\n",
      "C:\\Users\\steepday\\AppData\\Local\\Temp\\ipykernel_7732\\1905136038.py:7: FutureWarning:\n",
      "\n",
      "suggest_loguniform has been deprecated in v3.0.0. This feature will be removed in v6.0.0. See https://github.com/optuna/optuna/releases/tag/v3.0.0. Use suggest_float(..., log=True) instead.\n",
      "\n",
      "[I 2023-12-13 03:10:51,019] Trial 80 finished with value: 8970962.162366627 and parameters: {'iterations': 199, 'depth': 4, 'learning_rate': 0.05870544442968868, 'random_strength': 11, 'bagging_temperature': 1.5682865212999726}. Best is trial 67 with value: 7435773.724096391.\n",
      "C:\\Users\\steepday\\AppData\\Local\\Temp\\ipykernel_7732\\1905136038.py:5: FutureWarning:\n",
      "\n",
      "suggest_uniform has been deprecated in v3.0.0. This feature will be removed in v6.0.0. See https://github.com/optuna/optuna/releases/tag/v3.0.0. Use suggest_float instead.\n",
      "\n",
      "C:\\Users\\steepday\\AppData\\Local\\Temp\\ipykernel_7732\\1905136038.py:7: FutureWarning:\n",
      "\n",
      "suggest_loguniform has been deprecated in v3.0.0. This feature will be removed in v6.0.0. See https://github.com/optuna/optuna/releases/tag/v3.0.0. Use suggest_float(..., log=True) instead.\n",
      "\n",
      "[I 2023-12-13 03:10:51,141] Trial 81 finished with value: 7598816.879823728 and parameters: {'iterations': 211, 'depth': 4, 'learning_rate': 0.05650868043192989, 'random_strength': 0, 'bagging_temperature': 0.8672405164501502}. Best is trial 67 with value: 7435773.724096391.\n",
      "C:\\Users\\steepday\\AppData\\Local\\Temp\\ipykernel_7732\\1905136038.py:5: FutureWarning:\n",
      "\n",
      "suggest_uniform has been deprecated in v3.0.0. This feature will be removed in v6.0.0. See https://github.com/optuna/optuna/releases/tag/v3.0.0. Use suggest_float instead.\n",
      "\n",
      "C:\\Users\\steepday\\AppData\\Local\\Temp\\ipykernel_7732\\1905136038.py:7: FutureWarning:\n",
      "\n",
      "suggest_loguniform has been deprecated in v3.0.0. This feature will be removed in v6.0.0. See https://github.com/optuna/optuna/releases/tag/v3.0.0. Use suggest_float(..., log=True) instead.\n",
      "\n",
      "[I 2023-12-13 03:10:51,259] Trial 82 finished with value: 8836233.272836141 and parameters: {'iterations': 210, 'depth': 4, 'learning_rate': 0.04788277445153861, 'random_strength': 7, 'bagging_temperature': 0.4020393206073601}. Best is trial 67 with value: 7435773.724096391.\n",
      "C:\\Users\\steepday\\AppData\\Local\\Temp\\ipykernel_7732\\1905136038.py:5: FutureWarning:\n",
      "\n",
      "suggest_uniform has been deprecated in v3.0.0. This feature will be removed in v6.0.0. See https://github.com/optuna/optuna/releases/tag/v3.0.0. Use suggest_float instead.\n",
      "\n",
      "C:\\Users\\steepday\\AppData\\Local\\Temp\\ipykernel_7732\\1905136038.py:7: FutureWarning:\n",
      "\n",
      "suggest_loguniform has been deprecated in v3.0.0. This feature will be removed in v6.0.0. See https://github.com/optuna/optuna/releases/tag/v3.0.0. Use suggest_float(..., log=True) instead.\n",
      "\n",
      "[I 2023-12-13 03:10:51,366] Trial 83 finished with value: 8421767.277556814 and parameters: {'iterations': 179, 'depth': 4, 'learning_rate': 0.056942384812367776, 'random_strength': 3, 'bagging_temperature': 0.7068519619274553}. Best is trial 67 with value: 7435773.724096391.\n",
      "C:\\Users\\steepday\\AppData\\Local\\Temp\\ipykernel_7732\\1905136038.py:5: FutureWarning:\n",
      "\n",
      "suggest_uniform has been deprecated in v3.0.0. This feature will be removed in v6.0.0. See https://github.com/optuna/optuna/releases/tag/v3.0.0. Use suggest_float instead.\n",
      "\n",
      "C:\\Users\\steepday\\AppData\\Local\\Temp\\ipykernel_7732\\1905136038.py:7: FutureWarning:\n",
      "\n",
      "suggest_loguniform has been deprecated in v3.0.0. This feature will be removed in v6.0.0. See https://github.com/optuna/optuna/releases/tag/v3.0.0. Use suggest_float(..., log=True) instead.\n",
      "\n",
      "[I 2023-12-13 03:10:51,487] Trial 84 finished with value: 8672191.039972583 and parameters: {'iterations': 215, 'depth': 4, 'learning_rate': 0.060839353080759453, 'random_strength': 13, 'bagging_temperature': 0.895822888395092}. Best is trial 67 with value: 7435773.724096391.\n",
      "C:\\Users\\steepday\\AppData\\Local\\Temp\\ipykernel_7732\\1905136038.py:5: FutureWarning:\n",
      "\n",
      "suggest_uniform has been deprecated in v3.0.0. This feature will be removed in v6.0.0. See https://github.com/optuna/optuna/releases/tag/v3.0.0. Use suggest_float instead.\n",
      "\n",
      "C:\\Users\\steepday\\AppData\\Local\\Temp\\ipykernel_7732\\1905136038.py:7: FutureWarning:\n",
      "\n",
      "suggest_loguniform has been deprecated in v3.0.0. This feature will be removed in v6.0.0. See https://github.com/optuna/optuna/releases/tag/v3.0.0. Use suggest_float(..., log=True) instead.\n",
      "\n",
      "[I 2023-12-13 03:10:51,586] Trial 85 finished with value: 7972683.655194292 and parameters: {'iterations': 155, 'depth': 4, 'learning_rate': 0.03609812534344138, 'random_strength': 0, 'bagging_temperature': 0.25632934993685125}. Best is trial 67 with value: 7435773.724096391.\n",
      "C:\\Users\\steepday\\AppData\\Local\\Temp\\ipykernel_7732\\1905136038.py:5: FutureWarning:\n",
      "\n",
      "suggest_uniform has been deprecated in v3.0.0. This feature will be removed in v6.0.0. See https://github.com/optuna/optuna/releases/tag/v3.0.0. Use suggest_float instead.\n",
      "\n",
      "C:\\Users\\steepday\\AppData\\Local\\Temp\\ipykernel_7732\\1905136038.py:7: FutureWarning:\n",
      "\n",
      "suggest_loguniform has been deprecated in v3.0.0. This feature will be removed in v6.0.0. See https://github.com/optuna/optuna/releases/tag/v3.0.0. Use suggest_float(..., log=True) instead.\n",
      "\n",
      "[I 2023-12-13 03:10:51,694] Trial 86 finished with value: 12318989.275845043 and parameters: {'iterations': 184, 'depth': 4, 'learning_rate': 0.04310392443691211, 'random_strength': 26, 'bagging_temperature': 3.46373412788395}. Best is trial 67 with value: 7435773.724096391.\n",
      "C:\\Users\\steepday\\AppData\\Local\\Temp\\ipykernel_7732\\1905136038.py:5: FutureWarning:\n",
      "\n",
      "suggest_uniform has been deprecated in v3.0.0. This feature will be removed in v6.0.0. See https://github.com/optuna/optuna/releases/tag/v3.0.0. Use suggest_float instead.\n",
      "\n",
      "C:\\Users\\steepday\\AppData\\Local\\Temp\\ipykernel_7732\\1905136038.py:7: FutureWarning:\n",
      "\n",
      "suggest_loguniform has been deprecated in v3.0.0. This feature will be removed in v6.0.0. See https://github.com/optuna/optuna/releases/tag/v3.0.0. Use suggest_float(..., log=True) instead.\n",
      "\n",
      "[I 2023-12-13 03:10:51,809] Trial 87 finished with value: 8663737.98794465 and parameters: {'iterations': 197, 'depth': 4, 'learning_rate': 0.04935034107303193, 'random_strength': 6, 'bagging_temperature': 1.273946840564633}. Best is trial 67 with value: 7435773.724096391.\n",
      "C:\\Users\\steepday\\AppData\\Local\\Temp\\ipykernel_7732\\1905136038.py:5: FutureWarning:\n",
      "\n",
      "suggest_uniform has been deprecated in v3.0.0. This feature will be removed in v6.0.0. See https://github.com/optuna/optuna/releases/tag/v3.0.0. Use suggest_float instead.\n",
      "\n",
      "C:\\Users\\steepday\\AppData\\Local\\Temp\\ipykernel_7732\\1905136038.py:7: FutureWarning:\n",
      "\n",
      "suggest_loguniform has been deprecated in v3.0.0. This feature will be removed in v6.0.0. See https://github.com/optuna/optuna/releases/tag/v3.0.0. Use suggest_float(..., log=True) instead.\n",
      "\n",
      "[I 2023-12-13 03:10:51,925] Trial 88 finished with value: 8791437.590164727 and parameters: {'iterations': 205, 'depth': 4, 'learning_rate': 0.05641555494953713, 'random_strength': 10, 'bagging_temperature': 0.5573121633398118}. Best is trial 67 with value: 7435773.724096391.\n",
      "C:\\Users\\steepday\\AppData\\Local\\Temp\\ipykernel_7732\\1905136038.py:5: FutureWarning:\n",
      "\n",
      "suggest_uniform has been deprecated in v3.0.0. This feature will be removed in v6.0.0. See https://github.com/optuna/optuna/releases/tag/v3.0.0. Use suggest_float instead.\n",
      "\n",
      "C:\\Users\\steepday\\AppData\\Local\\Temp\\ipykernel_7732\\1905136038.py:7: FutureWarning:\n",
      "\n",
      "suggest_loguniform has been deprecated in v3.0.0. This feature will be removed in v6.0.0. See https://github.com/optuna/optuna/releases/tag/v3.0.0. Use suggest_float(..., log=True) instead.\n",
      "\n",
      "[I 2023-12-13 03:10:52,032] Trial 89 finished with value: 8192189.7557463385 and parameters: {'iterations': 173, 'depth': 4, 'learning_rate': 0.06337135271259917, 'random_strength': 3, 'bagging_temperature': 0.3611372987715603}. Best is trial 67 with value: 7435773.724096391.\n",
      "C:\\Users\\steepday\\AppData\\Local\\Temp\\ipykernel_7732\\1905136038.py:5: FutureWarning:\n",
      "\n",
      "suggest_uniform has been deprecated in v3.0.0. This feature will be removed in v6.0.0. See https://github.com/optuna/optuna/releases/tag/v3.0.0. Use suggest_float instead.\n",
      "\n",
      "C:\\Users\\steepday\\AppData\\Local\\Temp\\ipykernel_7732\\1905136038.py:7: FutureWarning:\n",
      "\n",
      "suggest_loguniform has been deprecated in v3.0.0. This feature will be removed in v6.0.0. See https://github.com/optuna/optuna/releases/tag/v3.0.0. Use suggest_float(..., log=True) instead.\n",
      "\n",
      "[I 2023-12-13 03:10:52,135] Trial 90 finished with value: 10831447.018804666 and parameters: {'iterations': 163, 'depth': 4, 'learning_rate': 0.0526093591986669, 'random_strength': 15, 'bagging_temperature': 1.83866088059176}. Best is trial 67 with value: 7435773.724096391.\n",
      "C:\\Users\\steepday\\AppData\\Local\\Temp\\ipykernel_7732\\1905136038.py:5: FutureWarning:\n",
      "\n",
      "suggest_uniform has been deprecated in v3.0.0. This feature will be removed in v6.0.0. See https://github.com/optuna/optuna/releases/tag/v3.0.0. Use suggest_float instead.\n",
      "\n",
      "C:\\Users\\steepday\\AppData\\Local\\Temp\\ipykernel_7732\\1905136038.py:7: FutureWarning:\n",
      "\n",
      "suggest_loguniform has been deprecated in v3.0.0. This feature will be removed in v6.0.0. See https://github.com/optuna/optuna/releases/tag/v3.0.0. Use suggest_float(..., log=True) instead.\n",
      "\n",
      "[I 2023-12-13 03:10:52,392] Trial 91 finished with value: 9568455.823775752 and parameters: {'iterations': 169, 'depth': 9, 'learning_rate': 0.06492963239284406, 'random_strength': 1, 'bagging_temperature': 0.9407735269263829}. Best is trial 67 with value: 7435773.724096391.\n",
      "C:\\Users\\steepday\\AppData\\Local\\Temp\\ipykernel_7732\\1905136038.py:5: FutureWarning:\n",
      "\n",
      "suggest_uniform has been deprecated in v3.0.0. This feature will be removed in v6.0.0. See https://github.com/optuna/optuna/releases/tag/v3.0.0. Use suggest_float instead.\n",
      "\n",
      "C:\\Users\\steepday\\AppData\\Local\\Temp\\ipykernel_7732\\1905136038.py:7: FutureWarning:\n",
      "\n",
      "suggest_loguniform has been deprecated in v3.0.0. This feature will be removed in v6.0.0. See https://github.com/optuna/optuna/releases/tag/v3.0.0. Use suggest_float(..., log=True) instead.\n",
      "\n",
      "[I 2023-12-13 03:10:52,496] Trial 92 finished with value: 8283129.143313223 and parameters: {'iterations': 167, 'depth': 4, 'learning_rate': 0.06672666291912757, 'random_strength': 3, 'bagging_temperature': 1.9073539201954157}. Best is trial 67 with value: 7435773.724096391.\n",
      "C:\\Users\\steepday\\AppData\\Local\\Temp\\ipykernel_7732\\1905136038.py:5: FutureWarning:\n",
      "\n",
      "suggest_uniform has been deprecated in v3.0.0. This feature will be removed in v6.0.0. See https://github.com/optuna/optuna/releases/tag/v3.0.0. Use suggest_float instead.\n",
      "\n",
      "C:\\Users\\steepday\\AppData\\Local\\Temp\\ipykernel_7732\\1905136038.py:7: FutureWarning:\n",
      "\n",
      "suggest_loguniform has been deprecated in v3.0.0. This feature will be removed in v6.0.0. See https://github.com/optuna/optuna/releases/tag/v3.0.0. Use suggest_float(..., log=True) instead.\n",
      "\n",
      "[I 2023-12-13 03:10:52,593] Trial 93 finished with value: 7617114.864283394 and parameters: {'iterations': 148, 'depth': 4, 'learning_rate': 0.06754164358588656, 'random_strength': 0, 'bagging_temperature': 2.9409307939811677}. Best is trial 67 with value: 7435773.724096391.\n",
      "C:\\Users\\steepday\\AppData\\Local\\Temp\\ipykernel_7732\\1905136038.py:5: FutureWarning:\n",
      "\n",
      "suggest_uniform has been deprecated in v3.0.0. This feature will be removed in v6.0.0. See https://github.com/optuna/optuna/releases/tag/v3.0.0. Use suggest_float instead.\n",
      "\n",
      "C:\\Users\\steepday\\AppData\\Local\\Temp\\ipykernel_7732\\1905136038.py:7: FutureWarning:\n",
      "\n",
      "suggest_loguniform has been deprecated in v3.0.0. This feature will be removed in v6.0.0. See https://github.com/optuna/optuna/releases/tag/v3.0.0. Use suggest_float(..., log=True) instead.\n",
      "\n",
      "[I 2023-12-13 03:10:52,699] Trial 94 finished with value: 8983874.446327697 and parameters: {'iterations': 147, 'depth': 4, 'learning_rate': 0.06140195569638297, 'random_strength': 6, 'bagging_temperature': 4.219312748823337}. Best is trial 67 with value: 7435773.724096391.\n",
      "C:\\Users\\steepday\\AppData\\Local\\Temp\\ipykernel_7732\\1905136038.py:5: FutureWarning:\n",
      "\n",
      "suggest_uniform has been deprecated in v3.0.0. This feature will be removed in v6.0.0. See https://github.com/optuna/optuna/releases/tag/v3.0.0. Use suggest_float instead.\n",
      "\n",
      "C:\\Users\\steepday\\AppData\\Local\\Temp\\ipykernel_7732\\1905136038.py:7: FutureWarning:\n",
      "\n",
      "suggest_loguniform has been deprecated in v3.0.0. This feature will be removed in v6.0.0. See https://github.com/optuna/optuna/releases/tag/v3.0.0. Use suggest_float(..., log=True) instead.\n",
      "\n",
      "[I 2023-12-13 03:10:52,812] Trial 95 finished with value: 9478913.368293472 and parameters: {'iterations': 177, 'depth': 4, 'learning_rate': 0.06814978790349745, 'random_strength': 48, 'bagging_temperature': 5.780056567310104}. Best is trial 67 with value: 7435773.724096391.\n",
      "C:\\Users\\steepday\\AppData\\Local\\Temp\\ipykernel_7732\\1905136038.py:5: FutureWarning:\n",
      "\n",
      "suggest_uniform has been deprecated in v3.0.0. This feature will be removed in v6.0.0. See https://github.com/optuna/optuna/releases/tag/v3.0.0. Use suggest_float instead.\n",
      "\n",
      "C:\\Users\\steepday\\AppData\\Local\\Temp\\ipykernel_7732\\1905136038.py:7: FutureWarning:\n",
      "\n",
      "suggest_loguniform has been deprecated in v3.0.0. This feature will be removed in v6.0.0. See https://github.com/optuna/optuna/releases/tag/v3.0.0. Use suggest_float(..., log=True) instead.\n",
      "\n",
      "[I 2023-12-13 03:10:52,900] Trial 96 finished with value: 11417492.683736967 and parameters: {'iterations': 126, 'depth': 4, 'learning_rate': 0.05369794755517432, 'random_strength': 10, 'bagging_temperature': 0.8302217293417699}. Best is trial 67 with value: 7435773.724096391.\n",
      "C:\\Users\\steepday\\AppData\\Local\\Temp\\ipykernel_7732\\1905136038.py:5: FutureWarning:\n",
      "\n",
      "suggest_uniform has been deprecated in v3.0.0. This feature will be removed in v6.0.0. See https://github.com/optuna/optuna/releases/tag/v3.0.0. Use suggest_float instead.\n",
      "\n",
      "C:\\Users\\steepday\\AppData\\Local\\Temp\\ipykernel_7732\\1905136038.py:7: FutureWarning:\n",
      "\n",
      "suggest_loguniform has been deprecated in v3.0.0. This feature will be removed in v6.0.0. See https://github.com/optuna/optuna/releases/tag/v3.0.0. Use suggest_float(..., log=True) instead.\n",
      "\n",
      "[I 2023-12-13 03:10:52,996] Trial 97 finished with value: 9324373.037541574 and parameters: {'iterations': 150, 'depth': 4, 'learning_rate': 0.04966065860416593, 'random_strength': 4, 'bagging_temperature': 2.9820629579993385}. Best is trial 67 with value: 7435773.724096391.\n",
      "C:\\Users\\steepday\\AppData\\Local\\Temp\\ipykernel_7732\\1905136038.py:5: FutureWarning:\n",
      "\n",
      "suggest_uniform has been deprecated in v3.0.0. This feature will be removed in v6.0.0. See https://github.com/optuna/optuna/releases/tag/v3.0.0. Use suggest_float instead.\n",
      "\n",
      "C:\\Users\\steepday\\AppData\\Local\\Temp\\ipykernel_7732\\1905136038.py:7: FutureWarning:\n",
      "\n",
      "suggest_loguniform has been deprecated in v3.0.0. This feature will be removed in v6.0.0. See https://github.com/optuna/optuna/releases/tag/v3.0.0. Use suggest_float(..., log=True) instead.\n",
      "\n",
      "[I 2023-12-13 03:10:53,152] Trial 98 finished with value: 8045120.631064982 and parameters: {'iterations': 188, 'depth': 5, 'learning_rate': 0.045659921921083306, 'random_strength': 0, 'bagging_temperature': 1.3244833936313511}. Best is trial 67 with value: 7435773.724096391.\n",
      "C:\\Users\\steepday\\AppData\\Local\\Temp\\ipykernel_7732\\1905136038.py:5: FutureWarning:\n",
      "\n",
      "suggest_uniform has been deprecated in v3.0.0. This feature will be removed in v6.0.0. See https://github.com/optuna/optuna/releases/tag/v3.0.0. Use suggest_float instead.\n",
      "\n",
      "C:\\Users\\steepday\\AppData\\Local\\Temp\\ipykernel_7732\\1905136038.py:7: FutureWarning:\n",
      "\n",
      "suggest_loguniform has been deprecated in v3.0.0. This feature will be removed in v6.0.0. See https://github.com/optuna/optuna/releases/tag/v3.0.0. Use suggest_float(..., log=True) instead.\n",
      "\n",
      "[I 2023-12-13 03:10:53,295] Trial 99 finished with value: 8547945.938742667 and parameters: {'iterations': 216, 'depth': 4, 'learning_rate': 0.05525799293027765, 'random_strength': 9, 'bagging_temperature': 2.210759542250754}. Best is trial 67 with value: 7435773.724096391.\n"
     ]
    }
   ],
   "source": [
    "def objective(trial):\n",
    "    param = {\n",
    "        'iterations': trial.suggest_int('iterations', 50, 300),\n",
    "        'depth': trial.suggest_int('depth', 4, 10),\n",
    "        'learning_rate': trial.suggest_uniform('learning_rate', 0.01, 0.1),\n",
    "        'random_strength': trial.suggest_int('random_strength', 0, 100),\n",
    "        'bagging_temperature': trial.suggest_loguniform('bagging_temperature', 0.01, 100.00),\n",
    "    }\n",
    "    \n",
    "    model = CatBoostRegressor(**param)\n",
    "    \n",
    "    model.fit(x_train, y_train, eval_set=[(x_test, y_test)], verbose=0, early_stopping_rounds=100)\n",
    "    \n",
    "    preds = model.predict(x_test)\n",
    "    \n",
    "    return metrics.mean_squared_error(y_test, preds)\n",
    "\n",
    "study = optuna.create_study(direction='minimize')\n",
    "study.optimize(objective, n_trials=100)"
   ]
  },
  {
   "cell_type": "code",
   "execution_count": 311,
   "metadata": {},
   "outputs": [
    {
     "name": "stdout",
     "output_type": "stream",
     "text": [
      "Number of finished trials: 100\n",
      "Best trial: {'iterations': 176, 'depth': 4, 'learning_rate': 0.04776543612571375, 'random_strength': 0, 'bagging_temperature': 1.2537869466711755}\n"
     ]
    }
   ],
   "source": [
    "print('Number of finished trials:', len(study.trials))\n",
    "print('Best trial:', study.best_trial.params)"
   ]
  },
  {
   "cell_type": "markdown",
   "metadata": {},
   "source": [
    "**Визуализация результатов оптимизации**"
   ]
  },
  {
   "cell_type": "code",
   "execution_count": 312,
   "metadata": {},
   "outputs": [
    {
     "data": {
      "application/vnd.plotly.v1+json": {
       "config": {
        "plotlyServerURL": "https://plot.ly"
       },
       "data": [
        {
         "mode": "markers",
         "name": "Objective Value",
         "type": "scatter",
         "x": [
          0,
          1,
          2,
          3,
          4,
          5,
          6,
          7,
          8,
          9,
          10,
          11,
          12,
          13,
          14,
          15,
          16,
          17,
          18,
          19,
          20,
          21,
          22,
          23,
          24,
          25,
          26,
          27,
          28,
          29,
          30,
          31,
          32,
          33,
          34,
          35,
          36,
          37,
          38,
          39,
          40,
          41,
          42,
          43,
          44,
          45,
          46,
          47,
          48,
          49,
          50,
          51,
          52,
          53,
          54,
          55,
          56,
          57,
          58,
          59,
          60,
          61,
          62,
          63,
          64,
          65,
          66,
          67,
          68,
          69,
          70,
          71,
          72,
          73,
          74,
          75,
          76,
          77,
          78,
          79,
          80,
          81,
          82,
          83,
          84,
          85,
          86,
          87,
          88,
          89,
          90,
          91,
          92,
          93,
          94,
          95,
          96,
          97,
          98,
          99
         ],
         "y": [
          10177759.615814833,
          14203003.137630278,
          17021789.608000502,
          13933260.353460561,
          14701511.18206472,
          10238107.09622253,
          8532526.234477514,
          19709563.399850167,
          11161385.13958834,
          11707391.616055619,
          8904791.670952935,
          8842364.426448232,
          8892389.552323906,
          11097431.318053823,
          8936301.558830207,
          9432624.750527106,
          11327793.581944425,
          8736128.425528111,
          8467327.702981878,
          9942373.796089057,
          12491290.416278925,
          8451615.228854168,
          9206132.710087983,
          8337084.143412735,
          8680236.33285976,
          8946315.566370957,
          8490973.698156698,
          8455785.70648879,
          8627568.362904975,
          8749578.929120364,
          9404252.589396425,
          8483678.356052438,
          8790096.81359485,
          8429068.485594628,
          9012737.181767734,
          8889997.302766707,
          8250306.58418707,
          16819648.847837076,
          8189423.68207888,
          9588640.458229374,
          8641110.351823643,
          8340531.112062196,
          8439182.055555582,
          8258683.825509522,
          9003040.078839362,
          8183315.196993918,
          12240174.354597034,
          8713571.908056557,
          15825669.59132509,
          9510180.507647038,
          8459877.250862686,
          8286950.934402387,
          8243304.499497283,
          17305425.561407667,
          8415414.653579913,
          8916003.536258062,
          7791283.016409326,
          8657371.35869279,
          8065434.977751028,
          7492669.330314279,
          7806533.964279828,
          7482994.400639086,
          7936005.351416934,
          7437876.2855846975,
          8292081.103579881,
          9152356.667606434,
          9400599.95060797,
          7435773.724096391,
          11160289.80823531,
          7871537.782267677,
          12648070.150489539,
          8294839.982247671,
          12818978.206701826,
          9856008.371532053,
          7491466.943058275,
          8684858.127549682,
          12982891.468397617,
          8085129.52675638,
          9543924.665511852,
          9916932.410778856,
          8970962.162366627,
          7598816.879823728,
          8836233.272836141,
          8421767.277556814,
          8672191.039972583,
          7972683.655194292,
          12318989.275845043,
          8663737.98794465,
          8791437.590164727,
          8192189.7557463385,
          10831447.018804666,
          9568455.823775752,
          8283129.143313223,
          7617114.864283394,
          8983874.446327697,
          9478913.368293472,
          11417492.683736967,
          9324373.037541574,
          8045120.631064982,
          8547945.938742667
         ]
        },
        {
         "mode": "lines",
         "name": "Best Value",
         "type": "scatter",
         "x": [
          0,
          1,
          2,
          3,
          4,
          5,
          6,
          7,
          8,
          9,
          10,
          11,
          12,
          13,
          14,
          15,
          16,
          17,
          18,
          19,
          20,
          21,
          22,
          23,
          24,
          25,
          26,
          27,
          28,
          29,
          30,
          31,
          32,
          33,
          34,
          35,
          36,
          37,
          38,
          39,
          40,
          41,
          42,
          43,
          44,
          45,
          46,
          47,
          48,
          49,
          50,
          51,
          52,
          53,
          54,
          55,
          56,
          57,
          58,
          59,
          60,
          61,
          62,
          63,
          64,
          65,
          66,
          67,
          68,
          69,
          70,
          71,
          72,
          73,
          74,
          75,
          76,
          77,
          78,
          79,
          80,
          81,
          82,
          83,
          84,
          85,
          86,
          87,
          88,
          89,
          90,
          91,
          92,
          93,
          94,
          95,
          96,
          97,
          98,
          99
         ],
         "y": [
          10177759.615814833,
          10177759.615814833,
          10177759.615814833,
          10177759.615814833,
          10177759.615814833,
          10177759.615814833,
          8532526.234477514,
          8532526.234477514,
          8532526.234477514,
          8532526.234477514,
          8532526.234477514,
          8532526.234477514,
          8532526.234477514,
          8532526.234477514,
          8532526.234477514,
          8532526.234477514,
          8532526.234477514,
          8532526.234477514,
          8467327.702981878,
          8467327.702981878,
          8467327.702981878,
          8451615.228854168,
          8451615.228854168,
          8337084.143412735,
          8337084.143412735,
          8337084.143412735,
          8337084.143412735,
          8337084.143412735,
          8337084.143412735,
          8337084.143412735,
          8337084.143412735,
          8337084.143412735,
          8337084.143412735,
          8337084.143412735,
          8337084.143412735,
          8337084.143412735,
          8250306.58418707,
          8250306.58418707,
          8189423.68207888,
          8189423.68207888,
          8189423.68207888,
          8189423.68207888,
          8189423.68207888,
          8189423.68207888,
          8189423.68207888,
          8183315.196993918,
          8183315.196993918,
          8183315.196993918,
          8183315.196993918,
          8183315.196993918,
          8183315.196993918,
          8183315.196993918,
          8183315.196993918,
          8183315.196993918,
          8183315.196993918,
          8183315.196993918,
          7791283.016409326,
          7791283.016409326,
          7791283.016409326,
          7492669.330314279,
          7492669.330314279,
          7482994.400639086,
          7482994.400639086,
          7437876.2855846975,
          7437876.2855846975,
          7437876.2855846975,
          7437876.2855846975,
          7435773.724096391,
          7435773.724096391,
          7435773.724096391,
          7435773.724096391,
          7435773.724096391,
          7435773.724096391,
          7435773.724096391,
          7435773.724096391,
          7435773.724096391,
          7435773.724096391,
          7435773.724096391,
          7435773.724096391,
          7435773.724096391,
          7435773.724096391,
          7435773.724096391,
          7435773.724096391,
          7435773.724096391,
          7435773.724096391,
          7435773.724096391,
          7435773.724096391,
          7435773.724096391,
          7435773.724096391,
          7435773.724096391,
          7435773.724096391,
          7435773.724096391,
          7435773.724096391,
          7435773.724096391,
          7435773.724096391,
          7435773.724096391,
          7435773.724096391,
          7435773.724096391,
          7435773.724096391,
          7435773.724096391
         ]
        },
        {
         "marker": {
          "color": "#cccccc"
         },
         "mode": "markers",
         "name": "Infeasible Trial",
         "showlegend": false,
         "type": "scatter",
         "x": [],
         "y": []
        }
       ],
       "layout": {
        "template": {
         "data": {
          "bar": [
           {
            "error_x": {
             "color": "#2a3f5f"
            },
            "error_y": {
             "color": "#2a3f5f"
            },
            "marker": {
             "line": {
              "color": "#E5ECF6",
              "width": 0.5
             },
             "pattern": {
              "fillmode": "overlay",
              "size": 10,
              "solidity": 0.2
             }
            },
            "type": "bar"
           }
          ],
          "barpolar": [
           {
            "marker": {
             "line": {
              "color": "#E5ECF6",
              "width": 0.5
             },
             "pattern": {
              "fillmode": "overlay",
              "size": 10,
              "solidity": 0.2
             }
            },
            "type": "barpolar"
           }
          ],
          "carpet": [
           {
            "aaxis": {
             "endlinecolor": "#2a3f5f",
             "gridcolor": "white",
             "linecolor": "white",
             "minorgridcolor": "white",
             "startlinecolor": "#2a3f5f"
            },
            "baxis": {
             "endlinecolor": "#2a3f5f",
             "gridcolor": "white",
             "linecolor": "white",
             "minorgridcolor": "white",
             "startlinecolor": "#2a3f5f"
            },
            "type": "carpet"
           }
          ],
          "choropleth": [
           {
            "colorbar": {
             "outlinewidth": 0,
             "ticks": ""
            },
            "type": "choropleth"
           }
          ],
          "contour": [
           {
            "colorbar": {
             "outlinewidth": 0,
             "ticks": ""
            },
            "colorscale": [
             [
              0,
              "#0d0887"
             ],
             [
              0.1111111111111111,
              "#46039f"
             ],
             [
              0.2222222222222222,
              "#7201a8"
             ],
             [
              0.3333333333333333,
              "#9c179e"
             ],
             [
              0.4444444444444444,
              "#bd3786"
             ],
             [
              0.5555555555555556,
              "#d8576b"
             ],
             [
              0.6666666666666666,
              "#ed7953"
             ],
             [
              0.7777777777777778,
              "#fb9f3a"
             ],
             [
              0.8888888888888888,
              "#fdca26"
             ],
             [
              1,
              "#f0f921"
             ]
            ],
            "type": "contour"
           }
          ],
          "contourcarpet": [
           {
            "colorbar": {
             "outlinewidth": 0,
             "ticks": ""
            },
            "type": "contourcarpet"
           }
          ],
          "heatmap": [
           {
            "colorbar": {
             "outlinewidth": 0,
             "ticks": ""
            },
            "colorscale": [
             [
              0,
              "#0d0887"
             ],
             [
              0.1111111111111111,
              "#46039f"
             ],
             [
              0.2222222222222222,
              "#7201a8"
             ],
             [
              0.3333333333333333,
              "#9c179e"
             ],
             [
              0.4444444444444444,
              "#bd3786"
             ],
             [
              0.5555555555555556,
              "#d8576b"
             ],
             [
              0.6666666666666666,
              "#ed7953"
             ],
             [
              0.7777777777777778,
              "#fb9f3a"
             ],
             [
              0.8888888888888888,
              "#fdca26"
             ],
             [
              1,
              "#f0f921"
             ]
            ],
            "type": "heatmap"
           }
          ],
          "heatmapgl": [
           {
            "colorbar": {
             "outlinewidth": 0,
             "ticks": ""
            },
            "colorscale": [
             [
              0,
              "#0d0887"
             ],
             [
              0.1111111111111111,
              "#46039f"
             ],
             [
              0.2222222222222222,
              "#7201a8"
             ],
             [
              0.3333333333333333,
              "#9c179e"
             ],
             [
              0.4444444444444444,
              "#bd3786"
             ],
             [
              0.5555555555555556,
              "#d8576b"
             ],
             [
              0.6666666666666666,
              "#ed7953"
             ],
             [
              0.7777777777777778,
              "#fb9f3a"
             ],
             [
              0.8888888888888888,
              "#fdca26"
             ],
             [
              1,
              "#f0f921"
             ]
            ],
            "type": "heatmapgl"
           }
          ],
          "histogram": [
           {
            "marker": {
             "pattern": {
              "fillmode": "overlay",
              "size": 10,
              "solidity": 0.2
             }
            },
            "type": "histogram"
           }
          ],
          "histogram2d": [
           {
            "colorbar": {
             "outlinewidth": 0,
             "ticks": ""
            },
            "colorscale": [
             [
              0,
              "#0d0887"
             ],
             [
              0.1111111111111111,
              "#46039f"
             ],
             [
              0.2222222222222222,
              "#7201a8"
             ],
             [
              0.3333333333333333,
              "#9c179e"
             ],
             [
              0.4444444444444444,
              "#bd3786"
             ],
             [
              0.5555555555555556,
              "#d8576b"
             ],
             [
              0.6666666666666666,
              "#ed7953"
             ],
             [
              0.7777777777777778,
              "#fb9f3a"
             ],
             [
              0.8888888888888888,
              "#fdca26"
             ],
             [
              1,
              "#f0f921"
             ]
            ],
            "type": "histogram2d"
           }
          ],
          "histogram2dcontour": [
           {
            "colorbar": {
             "outlinewidth": 0,
             "ticks": ""
            },
            "colorscale": [
             [
              0,
              "#0d0887"
             ],
             [
              0.1111111111111111,
              "#46039f"
             ],
             [
              0.2222222222222222,
              "#7201a8"
             ],
             [
              0.3333333333333333,
              "#9c179e"
             ],
             [
              0.4444444444444444,
              "#bd3786"
             ],
             [
              0.5555555555555556,
              "#d8576b"
             ],
             [
              0.6666666666666666,
              "#ed7953"
             ],
             [
              0.7777777777777778,
              "#fb9f3a"
             ],
             [
              0.8888888888888888,
              "#fdca26"
             ],
             [
              1,
              "#f0f921"
             ]
            ],
            "type": "histogram2dcontour"
           }
          ],
          "mesh3d": [
           {
            "colorbar": {
             "outlinewidth": 0,
             "ticks": ""
            },
            "type": "mesh3d"
           }
          ],
          "parcoords": [
           {
            "line": {
             "colorbar": {
              "outlinewidth": 0,
              "ticks": ""
             }
            },
            "type": "parcoords"
           }
          ],
          "pie": [
           {
            "automargin": true,
            "type": "pie"
           }
          ],
          "scatter": [
           {
            "fillpattern": {
             "fillmode": "overlay",
             "size": 10,
             "solidity": 0.2
            },
            "type": "scatter"
           }
          ],
          "scatter3d": [
           {
            "line": {
             "colorbar": {
              "outlinewidth": 0,
              "ticks": ""
             }
            },
            "marker": {
             "colorbar": {
              "outlinewidth": 0,
              "ticks": ""
             }
            },
            "type": "scatter3d"
           }
          ],
          "scattercarpet": [
           {
            "marker": {
             "colorbar": {
              "outlinewidth": 0,
              "ticks": ""
             }
            },
            "type": "scattercarpet"
           }
          ],
          "scattergeo": [
           {
            "marker": {
             "colorbar": {
              "outlinewidth": 0,
              "ticks": ""
             }
            },
            "type": "scattergeo"
           }
          ],
          "scattergl": [
           {
            "marker": {
             "colorbar": {
              "outlinewidth": 0,
              "ticks": ""
             }
            },
            "type": "scattergl"
           }
          ],
          "scattermapbox": [
           {
            "marker": {
             "colorbar": {
              "outlinewidth": 0,
              "ticks": ""
             }
            },
            "type": "scattermapbox"
           }
          ],
          "scatterpolar": [
           {
            "marker": {
             "colorbar": {
              "outlinewidth": 0,
              "ticks": ""
             }
            },
            "type": "scatterpolar"
           }
          ],
          "scatterpolargl": [
           {
            "marker": {
             "colorbar": {
              "outlinewidth": 0,
              "ticks": ""
             }
            },
            "type": "scatterpolargl"
           }
          ],
          "scatterternary": [
           {
            "marker": {
             "colorbar": {
              "outlinewidth": 0,
              "ticks": ""
             }
            },
            "type": "scatterternary"
           }
          ],
          "surface": [
           {
            "colorbar": {
             "outlinewidth": 0,
             "ticks": ""
            },
            "colorscale": [
             [
              0,
              "#0d0887"
             ],
             [
              0.1111111111111111,
              "#46039f"
             ],
             [
              0.2222222222222222,
              "#7201a8"
             ],
             [
              0.3333333333333333,
              "#9c179e"
             ],
             [
              0.4444444444444444,
              "#bd3786"
             ],
             [
              0.5555555555555556,
              "#d8576b"
             ],
             [
              0.6666666666666666,
              "#ed7953"
             ],
             [
              0.7777777777777778,
              "#fb9f3a"
             ],
             [
              0.8888888888888888,
              "#fdca26"
             ],
             [
              1,
              "#f0f921"
             ]
            ],
            "type": "surface"
           }
          ],
          "table": [
           {
            "cells": {
             "fill": {
              "color": "#EBF0F8"
             },
             "line": {
              "color": "white"
             }
            },
            "header": {
             "fill": {
              "color": "#C8D4E3"
             },
             "line": {
              "color": "white"
             }
            },
            "type": "table"
           }
          ]
         },
         "layout": {
          "annotationdefaults": {
           "arrowcolor": "#2a3f5f",
           "arrowhead": 0,
           "arrowwidth": 1
          },
          "autotypenumbers": "strict",
          "coloraxis": {
           "colorbar": {
            "outlinewidth": 0,
            "ticks": ""
           }
          },
          "colorscale": {
           "diverging": [
            [
             0,
             "#8e0152"
            ],
            [
             0.1,
             "#c51b7d"
            ],
            [
             0.2,
             "#de77ae"
            ],
            [
             0.3,
             "#f1b6da"
            ],
            [
             0.4,
             "#fde0ef"
            ],
            [
             0.5,
             "#f7f7f7"
            ],
            [
             0.6,
             "#e6f5d0"
            ],
            [
             0.7,
             "#b8e186"
            ],
            [
             0.8,
             "#7fbc41"
            ],
            [
             0.9,
             "#4d9221"
            ],
            [
             1,
             "#276419"
            ]
           ],
           "sequential": [
            [
             0,
             "#0d0887"
            ],
            [
             0.1111111111111111,
             "#46039f"
            ],
            [
             0.2222222222222222,
             "#7201a8"
            ],
            [
             0.3333333333333333,
             "#9c179e"
            ],
            [
             0.4444444444444444,
             "#bd3786"
            ],
            [
             0.5555555555555556,
             "#d8576b"
            ],
            [
             0.6666666666666666,
             "#ed7953"
            ],
            [
             0.7777777777777778,
             "#fb9f3a"
            ],
            [
             0.8888888888888888,
             "#fdca26"
            ],
            [
             1,
             "#f0f921"
            ]
           ],
           "sequentialminus": [
            [
             0,
             "#0d0887"
            ],
            [
             0.1111111111111111,
             "#46039f"
            ],
            [
             0.2222222222222222,
             "#7201a8"
            ],
            [
             0.3333333333333333,
             "#9c179e"
            ],
            [
             0.4444444444444444,
             "#bd3786"
            ],
            [
             0.5555555555555556,
             "#d8576b"
            ],
            [
             0.6666666666666666,
             "#ed7953"
            ],
            [
             0.7777777777777778,
             "#fb9f3a"
            ],
            [
             0.8888888888888888,
             "#fdca26"
            ],
            [
             1,
             "#f0f921"
            ]
           ]
          },
          "colorway": [
           "#636efa",
           "#EF553B",
           "#00cc96",
           "#ab63fa",
           "#FFA15A",
           "#19d3f3",
           "#FF6692",
           "#B6E880",
           "#FF97FF",
           "#FECB52"
          ],
          "font": {
           "color": "#2a3f5f"
          },
          "geo": {
           "bgcolor": "white",
           "lakecolor": "white",
           "landcolor": "#E5ECF6",
           "showlakes": true,
           "showland": true,
           "subunitcolor": "white"
          },
          "hoverlabel": {
           "align": "left"
          },
          "hovermode": "closest",
          "mapbox": {
           "style": "light"
          },
          "paper_bgcolor": "white",
          "plot_bgcolor": "#E5ECF6",
          "polar": {
           "angularaxis": {
            "gridcolor": "white",
            "linecolor": "white",
            "ticks": ""
           },
           "bgcolor": "#E5ECF6",
           "radialaxis": {
            "gridcolor": "white",
            "linecolor": "white",
            "ticks": ""
           }
          },
          "scene": {
           "xaxis": {
            "backgroundcolor": "#E5ECF6",
            "gridcolor": "white",
            "gridwidth": 2,
            "linecolor": "white",
            "showbackground": true,
            "ticks": "",
            "zerolinecolor": "white"
           },
           "yaxis": {
            "backgroundcolor": "#E5ECF6",
            "gridcolor": "white",
            "gridwidth": 2,
            "linecolor": "white",
            "showbackground": true,
            "ticks": "",
            "zerolinecolor": "white"
           },
           "zaxis": {
            "backgroundcolor": "#E5ECF6",
            "gridcolor": "white",
            "gridwidth": 2,
            "linecolor": "white",
            "showbackground": true,
            "ticks": "",
            "zerolinecolor": "white"
           }
          },
          "shapedefaults": {
           "line": {
            "color": "#2a3f5f"
           }
          },
          "ternary": {
           "aaxis": {
            "gridcolor": "white",
            "linecolor": "white",
            "ticks": ""
           },
           "baxis": {
            "gridcolor": "white",
            "linecolor": "white",
            "ticks": ""
           },
           "bgcolor": "#E5ECF6",
           "caxis": {
            "gridcolor": "white",
            "linecolor": "white",
            "ticks": ""
           }
          },
          "title": {
           "x": 0.05
          },
          "xaxis": {
           "automargin": true,
           "gridcolor": "white",
           "linecolor": "white",
           "ticks": "",
           "title": {
            "standoff": 15
           },
           "zerolinecolor": "white",
           "zerolinewidth": 2
          },
          "yaxis": {
           "automargin": true,
           "gridcolor": "white",
           "linecolor": "white",
           "ticks": "",
           "title": {
            "standoff": 15
           },
           "zerolinecolor": "white",
           "zerolinewidth": 2
          }
         }
        },
        "title": {
         "text": "Optimization History Plot"
        },
        "xaxis": {
         "title": {
          "text": "Trial"
         }
        },
        "yaxis": {
         "title": {
          "text": "Objective Value"
         }
        }
       }
      }
     },
     "metadata": {},
     "output_type": "display_data"
    },
    {
     "data": {
      "application/vnd.plotly.v1+json": {
       "config": {
        "plotlyServerURL": "https://plot.ly"
       },
       "data": [
        {
         "cliponaxis": false,
         "hovertemplate": [
          "depth (IntDistribution): 0.004409021285118627<extra></extra>",
          "bagging_temperature (FloatDistribution): 0.013023571690201708<extra></extra>",
          "random_strength (IntDistribution): 0.01499665791503003<extra></extra>",
          "learning_rate (FloatDistribution): 0.33800158975141464<extra></extra>",
          "iterations (IntDistribution): 0.629569159358235<extra></extra>"
         ],
         "name": "Objective Value",
         "orientation": "h",
         "text": [
          "<0.01",
          "0.01",
          "0.01",
          "0.34",
          "0.63"
         ],
         "textposition": "outside",
         "type": "bar",
         "x": [
          0.004409021285118627,
          0.013023571690201708,
          0.01499665791503003,
          0.33800158975141464,
          0.629569159358235
         ],
         "y": [
          "depth",
          "bagging_temperature",
          "random_strength",
          "learning_rate",
          "iterations"
         ]
        }
       ],
       "layout": {
        "template": {
         "data": {
          "bar": [
           {
            "error_x": {
             "color": "#2a3f5f"
            },
            "error_y": {
             "color": "#2a3f5f"
            },
            "marker": {
             "line": {
              "color": "#E5ECF6",
              "width": 0.5
             },
             "pattern": {
              "fillmode": "overlay",
              "size": 10,
              "solidity": 0.2
             }
            },
            "type": "bar"
           }
          ],
          "barpolar": [
           {
            "marker": {
             "line": {
              "color": "#E5ECF6",
              "width": 0.5
             },
             "pattern": {
              "fillmode": "overlay",
              "size": 10,
              "solidity": 0.2
             }
            },
            "type": "barpolar"
           }
          ],
          "carpet": [
           {
            "aaxis": {
             "endlinecolor": "#2a3f5f",
             "gridcolor": "white",
             "linecolor": "white",
             "minorgridcolor": "white",
             "startlinecolor": "#2a3f5f"
            },
            "baxis": {
             "endlinecolor": "#2a3f5f",
             "gridcolor": "white",
             "linecolor": "white",
             "minorgridcolor": "white",
             "startlinecolor": "#2a3f5f"
            },
            "type": "carpet"
           }
          ],
          "choropleth": [
           {
            "colorbar": {
             "outlinewidth": 0,
             "ticks": ""
            },
            "type": "choropleth"
           }
          ],
          "contour": [
           {
            "colorbar": {
             "outlinewidth": 0,
             "ticks": ""
            },
            "colorscale": [
             [
              0,
              "#0d0887"
             ],
             [
              0.1111111111111111,
              "#46039f"
             ],
             [
              0.2222222222222222,
              "#7201a8"
             ],
             [
              0.3333333333333333,
              "#9c179e"
             ],
             [
              0.4444444444444444,
              "#bd3786"
             ],
             [
              0.5555555555555556,
              "#d8576b"
             ],
             [
              0.6666666666666666,
              "#ed7953"
             ],
             [
              0.7777777777777778,
              "#fb9f3a"
             ],
             [
              0.8888888888888888,
              "#fdca26"
             ],
             [
              1,
              "#f0f921"
             ]
            ],
            "type": "contour"
           }
          ],
          "contourcarpet": [
           {
            "colorbar": {
             "outlinewidth": 0,
             "ticks": ""
            },
            "type": "contourcarpet"
           }
          ],
          "heatmap": [
           {
            "colorbar": {
             "outlinewidth": 0,
             "ticks": ""
            },
            "colorscale": [
             [
              0,
              "#0d0887"
             ],
             [
              0.1111111111111111,
              "#46039f"
             ],
             [
              0.2222222222222222,
              "#7201a8"
             ],
             [
              0.3333333333333333,
              "#9c179e"
             ],
             [
              0.4444444444444444,
              "#bd3786"
             ],
             [
              0.5555555555555556,
              "#d8576b"
             ],
             [
              0.6666666666666666,
              "#ed7953"
             ],
             [
              0.7777777777777778,
              "#fb9f3a"
             ],
             [
              0.8888888888888888,
              "#fdca26"
             ],
             [
              1,
              "#f0f921"
             ]
            ],
            "type": "heatmap"
           }
          ],
          "heatmapgl": [
           {
            "colorbar": {
             "outlinewidth": 0,
             "ticks": ""
            },
            "colorscale": [
             [
              0,
              "#0d0887"
             ],
             [
              0.1111111111111111,
              "#46039f"
             ],
             [
              0.2222222222222222,
              "#7201a8"
             ],
             [
              0.3333333333333333,
              "#9c179e"
             ],
             [
              0.4444444444444444,
              "#bd3786"
             ],
             [
              0.5555555555555556,
              "#d8576b"
             ],
             [
              0.6666666666666666,
              "#ed7953"
             ],
             [
              0.7777777777777778,
              "#fb9f3a"
             ],
             [
              0.8888888888888888,
              "#fdca26"
             ],
             [
              1,
              "#f0f921"
             ]
            ],
            "type": "heatmapgl"
           }
          ],
          "histogram": [
           {
            "marker": {
             "pattern": {
              "fillmode": "overlay",
              "size": 10,
              "solidity": 0.2
             }
            },
            "type": "histogram"
           }
          ],
          "histogram2d": [
           {
            "colorbar": {
             "outlinewidth": 0,
             "ticks": ""
            },
            "colorscale": [
             [
              0,
              "#0d0887"
             ],
             [
              0.1111111111111111,
              "#46039f"
             ],
             [
              0.2222222222222222,
              "#7201a8"
             ],
             [
              0.3333333333333333,
              "#9c179e"
             ],
             [
              0.4444444444444444,
              "#bd3786"
             ],
             [
              0.5555555555555556,
              "#d8576b"
             ],
             [
              0.6666666666666666,
              "#ed7953"
             ],
             [
              0.7777777777777778,
              "#fb9f3a"
             ],
             [
              0.8888888888888888,
              "#fdca26"
             ],
             [
              1,
              "#f0f921"
             ]
            ],
            "type": "histogram2d"
           }
          ],
          "histogram2dcontour": [
           {
            "colorbar": {
             "outlinewidth": 0,
             "ticks": ""
            },
            "colorscale": [
             [
              0,
              "#0d0887"
             ],
             [
              0.1111111111111111,
              "#46039f"
             ],
             [
              0.2222222222222222,
              "#7201a8"
             ],
             [
              0.3333333333333333,
              "#9c179e"
             ],
             [
              0.4444444444444444,
              "#bd3786"
             ],
             [
              0.5555555555555556,
              "#d8576b"
             ],
             [
              0.6666666666666666,
              "#ed7953"
             ],
             [
              0.7777777777777778,
              "#fb9f3a"
             ],
             [
              0.8888888888888888,
              "#fdca26"
             ],
             [
              1,
              "#f0f921"
             ]
            ],
            "type": "histogram2dcontour"
           }
          ],
          "mesh3d": [
           {
            "colorbar": {
             "outlinewidth": 0,
             "ticks": ""
            },
            "type": "mesh3d"
           }
          ],
          "parcoords": [
           {
            "line": {
             "colorbar": {
              "outlinewidth": 0,
              "ticks": ""
             }
            },
            "type": "parcoords"
           }
          ],
          "pie": [
           {
            "automargin": true,
            "type": "pie"
           }
          ],
          "scatter": [
           {
            "fillpattern": {
             "fillmode": "overlay",
             "size": 10,
             "solidity": 0.2
            },
            "type": "scatter"
           }
          ],
          "scatter3d": [
           {
            "line": {
             "colorbar": {
              "outlinewidth": 0,
              "ticks": ""
             }
            },
            "marker": {
             "colorbar": {
              "outlinewidth": 0,
              "ticks": ""
             }
            },
            "type": "scatter3d"
           }
          ],
          "scattercarpet": [
           {
            "marker": {
             "colorbar": {
              "outlinewidth": 0,
              "ticks": ""
             }
            },
            "type": "scattercarpet"
           }
          ],
          "scattergeo": [
           {
            "marker": {
             "colorbar": {
              "outlinewidth": 0,
              "ticks": ""
             }
            },
            "type": "scattergeo"
           }
          ],
          "scattergl": [
           {
            "marker": {
             "colorbar": {
              "outlinewidth": 0,
              "ticks": ""
             }
            },
            "type": "scattergl"
           }
          ],
          "scattermapbox": [
           {
            "marker": {
             "colorbar": {
              "outlinewidth": 0,
              "ticks": ""
             }
            },
            "type": "scattermapbox"
           }
          ],
          "scatterpolar": [
           {
            "marker": {
             "colorbar": {
              "outlinewidth": 0,
              "ticks": ""
             }
            },
            "type": "scatterpolar"
           }
          ],
          "scatterpolargl": [
           {
            "marker": {
             "colorbar": {
              "outlinewidth": 0,
              "ticks": ""
             }
            },
            "type": "scatterpolargl"
           }
          ],
          "scatterternary": [
           {
            "marker": {
             "colorbar": {
              "outlinewidth": 0,
              "ticks": ""
             }
            },
            "type": "scatterternary"
           }
          ],
          "surface": [
           {
            "colorbar": {
             "outlinewidth": 0,
             "ticks": ""
            },
            "colorscale": [
             [
              0,
              "#0d0887"
             ],
             [
              0.1111111111111111,
              "#46039f"
             ],
             [
              0.2222222222222222,
              "#7201a8"
             ],
             [
              0.3333333333333333,
              "#9c179e"
             ],
             [
              0.4444444444444444,
              "#bd3786"
             ],
             [
              0.5555555555555556,
              "#d8576b"
             ],
             [
              0.6666666666666666,
              "#ed7953"
             ],
             [
              0.7777777777777778,
              "#fb9f3a"
             ],
             [
              0.8888888888888888,
              "#fdca26"
             ],
             [
              1,
              "#f0f921"
             ]
            ],
            "type": "surface"
           }
          ],
          "table": [
           {
            "cells": {
             "fill": {
              "color": "#EBF0F8"
             },
             "line": {
              "color": "white"
             }
            },
            "header": {
             "fill": {
              "color": "#C8D4E3"
             },
             "line": {
              "color": "white"
             }
            },
            "type": "table"
           }
          ]
         },
         "layout": {
          "annotationdefaults": {
           "arrowcolor": "#2a3f5f",
           "arrowhead": 0,
           "arrowwidth": 1
          },
          "autotypenumbers": "strict",
          "coloraxis": {
           "colorbar": {
            "outlinewidth": 0,
            "ticks": ""
           }
          },
          "colorscale": {
           "diverging": [
            [
             0,
             "#8e0152"
            ],
            [
             0.1,
             "#c51b7d"
            ],
            [
             0.2,
             "#de77ae"
            ],
            [
             0.3,
             "#f1b6da"
            ],
            [
             0.4,
             "#fde0ef"
            ],
            [
             0.5,
             "#f7f7f7"
            ],
            [
             0.6,
             "#e6f5d0"
            ],
            [
             0.7,
             "#b8e186"
            ],
            [
             0.8,
             "#7fbc41"
            ],
            [
             0.9,
             "#4d9221"
            ],
            [
             1,
             "#276419"
            ]
           ],
           "sequential": [
            [
             0,
             "#0d0887"
            ],
            [
             0.1111111111111111,
             "#46039f"
            ],
            [
             0.2222222222222222,
             "#7201a8"
            ],
            [
             0.3333333333333333,
             "#9c179e"
            ],
            [
             0.4444444444444444,
             "#bd3786"
            ],
            [
             0.5555555555555556,
             "#d8576b"
            ],
            [
             0.6666666666666666,
             "#ed7953"
            ],
            [
             0.7777777777777778,
             "#fb9f3a"
            ],
            [
             0.8888888888888888,
             "#fdca26"
            ],
            [
             1,
             "#f0f921"
            ]
           ],
           "sequentialminus": [
            [
             0,
             "#0d0887"
            ],
            [
             0.1111111111111111,
             "#46039f"
            ],
            [
             0.2222222222222222,
             "#7201a8"
            ],
            [
             0.3333333333333333,
             "#9c179e"
            ],
            [
             0.4444444444444444,
             "#bd3786"
            ],
            [
             0.5555555555555556,
             "#d8576b"
            ],
            [
             0.6666666666666666,
             "#ed7953"
            ],
            [
             0.7777777777777778,
             "#fb9f3a"
            ],
            [
             0.8888888888888888,
             "#fdca26"
            ],
            [
             1,
             "#f0f921"
            ]
           ]
          },
          "colorway": [
           "#636efa",
           "#EF553B",
           "#00cc96",
           "#ab63fa",
           "#FFA15A",
           "#19d3f3",
           "#FF6692",
           "#B6E880",
           "#FF97FF",
           "#FECB52"
          ],
          "font": {
           "color": "#2a3f5f"
          },
          "geo": {
           "bgcolor": "white",
           "lakecolor": "white",
           "landcolor": "#E5ECF6",
           "showlakes": true,
           "showland": true,
           "subunitcolor": "white"
          },
          "hoverlabel": {
           "align": "left"
          },
          "hovermode": "closest",
          "mapbox": {
           "style": "light"
          },
          "paper_bgcolor": "white",
          "plot_bgcolor": "#E5ECF6",
          "polar": {
           "angularaxis": {
            "gridcolor": "white",
            "linecolor": "white",
            "ticks": ""
           },
           "bgcolor": "#E5ECF6",
           "radialaxis": {
            "gridcolor": "white",
            "linecolor": "white",
            "ticks": ""
           }
          },
          "scene": {
           "xaxis": {
            "backgroundcolor": "#E5ECF6",
            "gridcolor": "white",
            "gridwidth": 2,
            "linecolor": "white",
            "showbackground": true,
            "ticks": "",
            "zerolinecolor": "white"
           },
           "yaxis": {
            "backgroundcolor": "#E5ECF6",
            "gridcolor": "white",
            "gridwidth": 2,
            "linecolor": "white",
            "showbackground": true,
            "ticks": "",
            "zerolinecolor": "white"
           },
           "zaxis": {
            "backgroundcolor": "#E5ECF6",
            "gridcolor": "white",
            "gridwidth": 2,
            "linecolor": "white",
            "showbackground": true,
            "ticks": "",
            "zerolinecolor": "white"
           }
          },
          "shapedefaults": {
           "line": {
            "color": "#2a3f5f"
           }
          },
          "ternary": {
           "aaxis": {
            "gridcolor": "white",
            "linecolor": "white",
            "ticks": ""
           },
           "baxis": {
            "gridcolor": "white",
            "linecolor": "white",
            "ticks": ""
           },
           "bgcolor": "#E5ECF6",
           "caxis": {
            "gridcolor": "white",
            "linecolor": "white",
            "ticks": ""
           }
          },
          "title": {
           "x": 0.05
          },
          "xaxis": {
           "automargin": true,
           "gridcolor": "white",
           "linecolor": "white",
           "ticks": "",
           "title": {
            "standoff": 15
           },
           "zerolinecolor": "white",
           "zerolinewidth": 2
          },
          "yaxis": {
           "automargin": true,
           "gridcolor": "white",
           "linecolor": "white",
           "ticks": "",
           "title": {
            "standoff": 15
           },
           "zerolinecolor": "white",
           "zerolinewidth": 2
          }
         }
        },
        "title": {
         "text": "Hyperparameter Importances"
        },
        "xaxis": {
         "title": {
          "text": "Hyperparameter Importance"
         }
        },
        "yaxis": {
         "title": {
          "text": "Hyperparameter"
         }
        }
       }
      }
     },
     "metadata": {},
     "output_type": "display_data"
    },
    {
     "data": {
      "application/vnd.plotly.v1+json": {
       "config": {
        "plotlyServerURL": "https://plot.ly"
       },
       "data": [
        {
         "colorbar": {
          "title": {
           "text": "Objective Value"
          }
         },
         "colorscale": [
          [
           0,
           "rgb(247,251,255)"
          ],
          [
           0.125,
           "rgb(222,235,247)"
          ],
          [
           0.25,
           "rgb(198,219,239)"
          ],
          [
           0.375,
           "rgb(158,202,225)"
          ],
          [
           0.5,
           "rgb(107,174,214)"
          ],
          [
           0.625,
           "rgb(66,146,198)"
          ],
          [
           0.75,
           "rgb(33,113,181)"
          ],
          [
           0.875,
           "rgb(8,81,156)"
          ],
          [
           1,
           "rgb(8,48,107)"
          ]
         ],
         "connectgaps": true,
         "contours": {
          "coloring": "heatmap"
         },
         "hoverinfo": "none",
         "line": {
          "smoothing": 1.3
         },
         "reversescale": true,
         "type": "contour",
         "x": [
          3.7,
          4,
          5,
          6,
          7,
          8,
          9,
          10,
          10.3
         ],
         "y": [
          0.007511506932797719,
          0.011909065839161834,
          0.014670646921375399,
          0.019132616161553956,
          0.02236525300628455,
          0.0250091480127924,
          0.02858508098535395,
          0.030333446057383834,
          0.034146343699923615,
          0.034991437290707236,
          0.03609812534344138,
          0.036330368787962884,
          0.04026068956005945,
          0.04028298950981368,
          0.04121859958076883,
          0.04310392443691211,
          0.04435554564812008,
          0.04486639264254433,
          0.04548605186421356,
          0.045659921921083306,
          0.047304778443841504,
          0.047654789490554766,
          0.04776543612571375,
          0.04788277445153861,
          0.048300541548281714,
          0.04935034107303193,
          0.04966065860416593,
          0.05034392005281933,
          0.05119680619980857,
          0.0513785571543364,
          0.05164187386208418,
          0.0526093591986669,
          0.05296961474446912,
          0.05369794755517432,
          0.05454322349330719,
          0.05468756976621484,
          0.05525799293027765,
          0.05641555494953713,
          0.05650868043192989,
          0.056942384812367776,
          0.05796339133381066,
          0.05840162640173044,
          0.05870544442968868,
          0.06046374245171346,
          0.060568843072456996,
          0.060839353080759453,
          0.06140195569638297,
          0.06252370403734232,
          0.06289879988271291,
          0.06337135271259917,
          0.06379918528726035,
          0.06492963239284406,
          0.06520156431373123,
          0.06594939725531404,
          0.06609498190884878,
          0.06621332428632543,
          0.06666546312591508,
          0.06672666291912757,
          0.0669566952389966,
          0.06744414517330016,
          0.06754164358588656,
          0.06814978790349745,
          0.06857349153045096,
          0.06869423231851292,
          0.06910675399554543,
          0.07003696421969056,
          0.07027599157729998,
          0.07128477154387106,
          0.07138377680732295,
          0.07228366298029695,
          0.07260536214779152,
          0.07328251885391539,
          0.07380543785673732,
          0.07391148381205075,
          0.07517875430409232,
          0.0751927709120515,
          0.07587218554074046,
          0.07615320882952363,
          0.07704910077306998,
          0.07786844435216936,
          0.07791900031701553,
          0.07893285705408498,
          0.07961524859402504,
          0.08044170609623244,
          0.08089425809968433,
          0.0813298740430724,
          0.08306808787450992,
          0.08392525241048063,
          0.08455100756805595,
          0.08466402334472257,
          0.08614158042169523,
          0.08756961546970825,
          0.08870118487781373,
          0.0903780486862855,
          0.0909462312765486,
          0.09310702527675921,
          0.09530643572229577,
          0.095406684521636,
          0.09837100989715214,
          0.09892704595806343,
          0.09986024396644413,
          0.10425780287280825
         ],
         "z": [
          [
           null,
           null,
           null,
           null,
           null,
           null,
           null,
           null,
           null
          ],
          [
           null,
           null,
           17305425.561407667,
           null,
           null,
           null,
           null,
           null,
           null
          ],
          [
           null,
           null,
           null,
           null,
           null,
           null,
           13933260.353460561,
           null,
           null
          ],
          [
           null,
           null,
           null,
           null,
           null,
           null,
           null,
           14203003.137630278,
           null
          ],
          [
           null,
           8294839.982247671,
           null,
           null,
           null,
           null,
           null,
           null,
           null
          ],
          [
           null,
           null,
           null,
           null,
           null,
           null,
           null,
           11707391.616055619,
           null
          ],
          [
           null,
           12982891.468397617,
           null,
           null,
           null,
           null,
           null,
           null,
           null
          ],
          [
           null,
           19709563.399850167,
           null,
           null,
           null,
           null,
           null,
           null,
           null
          ],
          [
           null,
           12648070.150489539,
           null,
           null,
           null,
           null,
           null,
           null,
           null
          ],
          [
           null,
           7871537.782267677,
           null,
           null,
           null,
           null,
           null,
           null,
           null
          ],
          [
           null,
           7972683.655194292,
           null,
           null,
           null,
           null,
           null,
           null,
           null
          ],
          [
           null,
           12818978.206701826,
           null,
           null,
           null,
           null,
           null,
           null,
           null
          ],
          [
           null,
           9856008.371532053,
           null,
           null,
           null,
           null,
           null,
           null,
           null
          ],
          [
           null,
           null,
           11327793.581944425,
           null,
           null,
           null,
           null,
           null,
           null
          ],
          [
           null,
           8085129.52675638,
           null,
           null,
           null,
           null,
           null,
           null,
           null
          ],
          [
           null,
           12318989.275845043,
           null,
           null,
           null,
           null,
           null,
           null,
           null
          ],
          [
           null,
           null,
           null,
           null,
           11097431.318053823,
           null,
           null,
           null,
           null
          ],
          [
           null,
           null,
           12491290.416278925,
           null,
           null,
           null,
           null,
           null,
           null
          ],
          [
           null,
           11160289.80823531,
           null,
           null,
           null,
           null,
           null,
           null,
           null
          ],
          [
           null,
           null,
           8045120.631064982,
           null,
           null,
           null,
           null,
           null,
           null
          ],
          [
           null,
           7491466.943058275,
           null,
           null,
           null,
           null,
           null,
           null,
           null
          ],
          [
           null,
           8684858.127549682,
           null,
           null,
           null,
           null,
           null,
           null,
           null
          ],
          [
           null,
           7435773.724096391,
           null,
           null,
           null,
           null,
           null,
           null,
           null
          ],
          [
           null,
           8836233.272836141,
           null,
           null,
           null,
           null,
           null,
           null,
           null
          ],
          [
           null,
           9543924.665511852,
           null,
           null,
           null,
           null,
           null,
           null,
           null
          ],
          [
           null,
           8663737.98794465,
           null,
           null,
           null,
           null,
           null,
           null,
           null
          ],
          [
           null,
           9324373.037541574,
           null,
           null,
           null,
           null,
           null,
           null,
           null
          ],
          [
           null,
           7437876.2855846975,
           null,
           null,
           null,
           null,
           null,
           null,
           null
          ],
          [
           null,
           null,
           null,
           16819648.847837076,
           null,
           null,
           null,
           null,
           null
          ],
          [
           null,
           8292081.103579881,
           null,
           null,
           null,
           null,
           null,
           null,
           null
          ],
          [
           null,
           null,
           null,
           null,
           null,
           null,
           17021789.608000502,
           null,
           null
          ],
          [
           null,
           10831447.018804666,
           null,
           null,
           null,
           null,
           null,
           null,
           null
          ],
          [
           null,
           9916932.410778856,
           null,
           null,
           null,
           null,
           null,
           null,
           null
          ],
          [
           null,
           11417492.683736967,
           null,
           null,
           null,
           null,
           null,
           null,
           null
          ],
          [
           null,
           14701511.18206472,
           null,
           null,
           null,
           null,
           null,
           null,
           null
          ],
          [
           null,
           15825669.59132509,
           null,
           null,
           null,
           null,
           null,
           null,
           null
          ],
          [
           null,
           8547945.938742667,
           null,
           null,
           null,
           null,
           null,
           null,
           null
          ],
          [
           null,
           8791437.590164727,
           null,
           null,
           null,
           null,
           null,
           null,
           null
          ],
          [
           null,
           7598816.879823728,
           null,
           null,
           null,
           null,
           null,
           null,
           null
          ],
          [
           null,
           8421767.277556814,
           null,
           null,
           null,
           null,
           null,
           null,
           null
          ],
          [
           null,
           null,
           null,
           null,
           9206132.710087983,
           null,
           null,
           null,
           null
          ],
          [
           null,
           8657371.35869279,
           null,
           null,
           null,
           null,
           null,
           null,
           null
          ],
          [
           null,
           8970962.162366627,
           null,
           null,
           null,
           null,
           null,
           null,
           null
          ],
          [
           null,
           null,
           8736128.425528111,
           null,
           null,
           null,
           null,
           null,
           null
          ],
          [
           null,
           9152356.667606434,
           null,
           null,
           null,
           null,
           null,
           null,
           null
          ],
          [
           null,
           8672191.039972583,
           null,
           null,
           null,
           null,
           null,
           null,
           null
          ],
          [
           null,
           8983874.446327697,
           null,
           null,
           null,
           null,
           null,
           null,
           null
          ],
          [
           null,
           null,
           8451615.228854168,
           null,
           null,
           null,
           null,
           null,
           null
          ],
          [
           null,
           null,
           8467327.702981878,
           null,
           null,
           null,
           null,
           null,
           null
          ],
          [
           null,
           8192189.7557463385,
           null,
           null,
           null,
           null,
           null,
           null,
           null
          ],
          [
           null,
           null,
           null,
           8946315.566370957,
           null,
           null,
           null,
           null,
           null
          ],
          [
           null,
           null,
           null,
           null,
           null,
           null,
           9568455.823775752,
           null,
           null
          ],
          [
           null,
           null,
           8936301.558830207,
           null,
           null,
           null,
           null,
           null,
           null
          ],
          [
           null,
           8790096.81359485,
           null,
           null,
           null,
           null,
           null,
           null,
           null
          ],
          [
           null,
           9400599.95060797,
           null,
           null,
           null,
           null,
           null,
           null,
           null
          ],
          [
           null,
           7936005.351416934,
           null,
           null,
           null,
           null,
           null,
           null,
           null
          ],
          [
           null,
           7806533.964279828,
           null,
           null,
           null,
           null,
           null,
           null,
           null
          ],
          [
           null,
           8283129.143313223,
           null,
           null,
           null,
           null,
           null,
           null,
           null
          ],
          [
           null,
           7492669.330314279,
           null,
           null,
           null,
           null,
           null,
           null,
           null
          ],
          [
           null,
           7482994.400639086,
           null,
           null,
           null,
           null,
           null,
           null,
           null
          ],
          [
           null,
           7617114.864283394,
           null,
           null,
           null,
           null,
           null,
           null,
           null
          ],
          [
           null,
           9478913.368293472,
           null,
           null,
           null,
           null,
           null,
           null,
           null
          ],
          [
           null,
           null,
           8459877.250862686,
           null,
           null,
           null,
           null,
           null,
           null
          ],
          [
           null,
           null,
           null,
           null,
           null,
           null,
           null,
           12240174.354597034,
           null
          ],
          [
           null,
           null,
           null,
           10238107.09622253,
           null,
           null,
           null,
           null,
           null
          ],
          [
           null,
           null,
           null,
           null,
           null,
           9588640.458229374,
           null,
           null,
           null
          ],
          [
           null,
           null,
           8183315.196993918,
           null,
           null,
           null,
           null,
           null,
           null
          ],
          [
           null,
           null,
           8189423.68207888,
           null,
           null,
           null,
           null,
           null,
           null
          ],
          [
           null,
           null,
           8415414.653579913,
           null,
           null,
           null,
           null,
           null,
           null
          ],
          [
           null,
           null,
           8532526.234477514,
           null,
           null,
           null,
           null,
           null,
           null
          ],
          [
           null,
           null,
           null,
           8713571.908056557,
           null,
           null,
           null,
           null,
           null
          ],
          [
           null,
           null,
           null,
           8892389.552323906,
           null,
           null,
           null,
           null,
           null
          ],
          [
           null,
           7791283.016409326,
           null,
           null,
           null,
           null,
           null,
           null,
           null
          ],
          [
           null,
           8065434.977751028,
           null,
           null,
           null,
           null,
           null,
           null,
           null
          ],
          [
           null,
           null,
           null,
           9003040.078839362,
           null,
           null,
           null,
           null,
           null
          ],
          [
           null,
           null,
           8258683.825509522,
           null,
           null,
           null,
           null,
           null,
           null
          ],
          [
           null,
           null,
           null,
           8904791.670952935,
           null,
           null,
           null,
           null,
           null
          ],
          [
           null,
           null,
           null,
           8842364.426448232,
           null,
           null,
           null,
           null,
           null
          ],
          [
           null,
           null,
           8340531.112062196,
           null,
           null,
           null,
           null,
           null,
           null
          ],
          [
           null,
           null,
           null,
           8916003.536258062,
           null,
           null,
           null,
           null,
           null
          ],
          [
           null,
           null,
           8286950.934402387,
           null,
           null,
           null,
           null,
           null,
           null
          ],
          [
           null,
           null,
           8439182.055555582,
           null,
           null,
           null,
           null,
           null,
           null
          ],
          [
           null,
           8627568.362904975,
           null,
           null,
           null,
           null,
           null,
           null,
           null
          ],
          [
           null,
           null,
           8250306.58418707,
           null,
           null,
           null,
           null,
           null,
           null
          ],
          [
           null,
           null,
           8243304.499497283,
           null,
           null,
           null,
           null,
           null,
           null
          ],
          [
           null,
           null,
           null,
           null,
           null,
           9404252.589396425,
           null,
           null,
           null
          ],
          [
           null,
           8455785.70648879,
           null,
           null,
           null,
           null,
           null,
           null,
           null
          ],
          [
           null,
           null,
           8337084.143412735,
           null,
           null,
           null,
           null,
           null,
           null
          ],
          [
           null,
           null,
           null,
           null,
           9432624.750527106,
           null,
           null,
           null,
           null
          ],
          [
           null,
           8680236.33285976,
           null,
           null,
           null,
           null,
           null,
           null,
           null
          ],
          [
           null,
           null,
           null,
           null,
           9510180.507647038,
           null,
           null,
           null,
           null
          ],
          [
           null,
           11161385.13958834,
           null,
           null,
           null,
           null,
           null,
           null,
           null
          ],
          [
           null,
           null,
           null,
           8641110.351823643,
           null,
           null,
           null,
           null,
           null
          ],
          [
           null,
           null,
           8490973.698156698,
           null,
           null,
           null,
           null,
           null,
           null
          ],
          [
           null,
           null,
           8483678.356052438,
           null,
           null,
           null,
           null,
           null,
           null
          ],
          [
           null,
           8889997.302766707,
           null,
           null,
           null,
           null,
           null,
           null,
           null
          ],
          [
           null,
           null,
           null,
           null,
           null,
           null,
           10177759.615814833,
           null,
           null
          ],
          [
           null,
           8749578.929120364,
           null,
           null,
           null,
           null,
           null,
           null,
           null
          ],
          [
           null,
           null,
           null,
           null,
           null,
           9942373.796089057,
           null,
           null,
           null
          ],
          [
           null,
           null,
           null,
           9012737.181767734,
           null,
           null,
           null,
           null,
           null
          ],
          [
           null,
           null,
           8429068.485594628,
           null,
           null,
           null,
           null,
           null,
           null
          ],
          [
           null,
           null,
           null,
           null,
           null,
           null,
           null,
           null,
           null
          ]
         ]
        },
        {
         "marker": {
          "color": "black",
          "line": {
           "color": "Gray",
           "width": 2
          }
         },
         "mode": "markers",
         "name": "Feasible Trial",
         "showlegend": false,
         "type": "scatter",
         "x": [
          9,
          10,
          9,
          9,
          4,
          6,
          5,
          4,
          4,
          10,
          6,
          6,
          6,
          7,
          5,
          7,
          5,
          5,
          5,
          8,
          5,
          5,
          7,
          5,
          4,
          6,
          5,
          4,
          4,
          4,
          8,
          5,
          4,
          5,
          6,
          4,
          5,
          6,
          5,
          8,
          6,
          5,
          5,
          5,
          6,
          5,
          10,
          6,
          4,
          7,
          5,
          5,
          5,
          5,
          5,
          6,
          4,
          4,
          4,
          4,
          4,
          4,
          4,
          4,
          4,
          4,
          4,
          4,
          4,
          4,
          4,
          4,
          4,
          4,
          4,
          4,
          4,
          4,
          4,
          4,
          4,
          4,
          4,
          4,
          4,
          4,
          4,
          4,
          4,
          4,
          4,
          9,
          4,
          4,
          4,
          4,
          4,
          4,
          5,
          4
         ],
         "y": [
          0.09530643572229577,
          0.019132616161553956,
          0.05164187386208418,
          0.014670646921375399,
          0.05454322349330719,
          0.06910675399554543,
          0.07228366298029695,
          0.030333446057383834,
          0.08756961546970825,
          0.0250091480127924,
          0.07587218554074046,
          0.07615320882952363,
          0.07328251885391539,
          0.04435554564812008,
          0.06520156431373123,
          0.08455100756805595,
          0.04028298950981368,
          0.06046374245171346,
          0.06289879988271291,
          0.09837100989715214,
          0.04486639264254433,
          0.06252370403734232,
          0.05796339133381066,
          0.08392525241048063,
          0.08466402334472257,
          0.06379918528726035,
          0.0903780486862855,
          0.08306808787450992,
          0.07961524859402504,
          0.095406684521636,
          0.0813298740430724,
          0.0909462312765486,
          0.06594939725531404,
          0.09986024396644413,
          0.09892704595806343,
          0.09310702527675921,
          0.08044170609623244,
          0.05119680619980857,
          0.07128477154387106,
          0.07003696421969056,
          0.08870118487781373,
          0.07704910077306998,
          0.07893285705408498,
          0.0751927709120515,
          0.07517875430409232,
          0.07027599157729998,
          0.06869423231851292,
          0.07260536214779152,
          0.05468756976621484,
          0.08614158042169523,
          0.06857349153045096,
          0.07791900031701553,
          0.08089425809968433,
          0.011909065839161834,
          0.07138377680732295,
          0.07786844435216936,
          0.07380543785673732,
          0.05840162640173044,
          0.07391148381205075,
          0.0669566952389966,
          0.06666546312591508,
          0.06744414517330016,
          0.06621332428632543,
          0.05034392005281933,
          0.0513785571543364,
          0.060568843072456996,
          0.06609498190884878,
          0.04776543612571375,
          0.04548605186421356,
          0.034991437290707236,
          0.034146343699923615,
          0.02236525300628455,
          0.036330368787962884,
          0.04026068956005945,
          0.047304778443841504,
          0.047654789490554766,
          0.02858508098535395,
          0.04121859958076883,
          0.048300541548281714,
          0.05296961474446912,
          0.05870544442968868,
          0.05650868043192989,
          0.04788277445153861,
          0.056942384812367776,
          0.060839353080759453,
          0.03609812534344138,
          0.04310392443691211,
          0.04935034107303193,
          0.05641555494953713,
          0.06337135271259917,
          0.0526093591986669,
          0.06492963239284406,
          0.06672666291912757,
          0.06754164358588656,
          0.06140195569638297,
          0.06814978790349745,
          0.05369794755517432,
          0.04966065860416593,
          0.045659921921083306,
          0.05525799293027765
         ]
        },
        {
         "marker": {
          "color": "#cccccc",
          "line": {
           "color": "Gray",
           "width": 2
          }
         },
         "mode": "markers",
         "name": "Infeasible Trial",
         "showlegend": false,
         "type": "scatter",
         "x": [],
         "y": []
        }
       ],
       "layout": {
        "template": {
         "data": {
          "bar": [
           {
            "error_x": {
             "color": "#2a3f5f"
            },
            "error_y": {
             "color": "#2a3f5f"
            },
            "marker": {
             "line": {
              "color": "#E5ECF6",
              "width": 0.5
             },
             "pattern": {
              "fillmode": "overlay",
              "size": 10,
              "solidity": 0.2
             }
            },
            "type": "bar"
           }
          ],
          "barpolar": [
           {
            "marker": {
             "line": {
              "color": "#E5ECF6",
              "width": 0.5
             },
             "pattern": {
              "fillmode": "overlay",
              "size": 10,
              "solidity": 0.2
             }
            },
            "type": "barpolar"
           }
          ],
          "carpet": [
           {
            "aaxis": {
             "endlinecolor": "#2a3f5f",
             "gridcolor": "white",
             "linecolor": "white",
             "minorgridcolor": "white",
             "startlinecolor": "#2a3f5f"
            },
            "baxis": {
             "endlinecolor": "#2a3f5f",
             "gridcolor": "white",
             "linecolor": "white",
             "minorgridcolor": "white",
             "startlinecolor": "#2a3f5f"
            },
            "type": "carpet"
           }
          ],
          "choropleth": [
           {
            "colorbar": {
             "outlinewidth": 0,
             "ticks": ""
            },
            "type": "choropleth"
           }
          ],
          "contour": [
           {
            "colorbar": {
             "outlinewidth": 0,
             "ticks": ""
            },
            "colorscale": [
             [
              0,
              "#0d0887"
             ],
             [
              0.1111111111111111,
              "#46039f"
             ],
             [
              0.2222222222222222,
              "#7201a8"
             ],
             [
              0.3333333333333333,
              "#9c179e"
             ],
             [
              0.4444444444444444,
              "#bd3786"
             ],
             [
              0.5555555555555556,
              "#d8576b"
             ],
             [
              0.6666666666666666,
              "#ed7953"
             ],
             [
              0.7777777777777778,
              "#fb9f3a"
             ],
             [
              0.8888888888888888,
              "#fdca26"
             ],
             [
              1,
              "#f0f921"
             ]
            ],
            "type": "contour"
           }
          ],
          "contourcarpet": [
           {
            "colorbar": {
             "outlinewidth": 0,
             "ticks": ""
            },
            "type": "contourcarpet"
           }
          ],
          "heatmap": [
           {
            "colorbar": {
             "outlinewidth": 0,
             "ticks": ""
            },
            "colorscale": [
             [
              0,
              "#0d0887"
             ],
             [
              0.1111111111111111,
              "#46039f"
             ],
             [
              0.2222222222222222,
              "#7201a8"
             ],
             [
              0.3333333333333333,
              "#9c179e"
             ],
             [
              0.4444444444444444,
              "#bd3786"
             ],
             [
              0.5555555555555556,
              "#d8576b"
             ],
             [
              0.6666666666666666,
              "#ed7953"
             ],
             [
              0.7777777777777778,
              "#fb9f3a"
             ],
             [
              0.8888888888888888,
              "#fdca26"
             ],
             [
              1,
              "#f0f921"
             ]
            ],
            "type": "heatmap"
           }
          ],
          "heatmapgl": [
           {
            "colorbar": {
             "outlinewidth": 0,
             "ticks": ""
            },
            "colorscale": [
             [
              0,
              "#0d0887"
             ],
             [
              0.1111111111111111,
              "#46039f"
             ],
             [
              0.2222222222222222,
              "#7201a8"
             ],
             [
              0.3333333333333333,
              "#9c179e"
             ],
             [
              0.4444444444444444,
              "#bd3786"
             ],
             [
              0.5555555555555556,
              "#d8576b"
             ],
             [
              0.6666666666666666,
              "#ed7953"
             ],
             [
              0.7777777777777778,
              "#fb9f3a"
             ],
             [
              0.8888888888888888,
              "#fdca26"
             ],
             [
              1,
              "#f0f921"
             ]
            ],
            "type": "heatmapgl"
           }
          ],
          "histogram": [
           {
            "marker": {
             "pattern": {
              "fillmode": "overlay",
              "size": 10,
              "solidity": 0.2
             }
            },
            "type": "histogram"
           }
          ],
          "histogram2d": [
           {
            "colorbar": {
             "outlinewidth": 0,
             "ticks": ""
            },
            "colorscale": [
             [
              0,
              "#0d0887"
             ],
             [
              0.1111111111111111,
              "#46039f"
             ],
             [
              0.2222222222222222,
              "#7201a8"
             ],
             [
              0.3333333333333333,
              "#9c179e"
             ],
             [
              0.4444444444444444,
              "#bd3786"
             ],
             [
              0.5555555555555556,
              "#d8576b"
             ],
             [
              0.6666666666666666,
              "#ed7953"
             ],
             [
              0.7777777777777778,
              "#fb9f3a"
             ],
             [
              0.8888888888888888,
              "#fdca26"
             ],
             [
              1,
              "#f0f921"
             ]
            ],
            "type": "histogram2d"
           }
          ],
          "histogram2dcontour": [
           {
            "colorbar": {
             "outlinewidth": 0,
             "ticks": ""
            },
            "colorscale": [
             [
              0,
              "#0d0887"
             ],
             [
              0.1111111111111111,
              "#46039f"
             ],
             [
              0.2222222222222222,
              "#7201a8"
             ],
             [
              0.3333333333333333,
              "#9c179e"
             ],
             [
              0.4444444444444444,
              "#bd3786"
             ],
             [
              0.5555555555555556,
              "#d8576b"
             ],
             [
              0.6666666666666666,
              "#ed7953"
             ],
             [
              0.7777777777777778,
              "#fb9f3a"
             ],
             [
              0.8888888888888888,
              "#fdca26"
             ],
             [
              1,
              "#f0f921"
             ]
            ],
            "type": "histogram2dcontour"
           }
          ],
          "mesh3d": [
           {
            "colorbar": {
             "outlinewidth": 0,
             "ticks": ""
            },
            "type": "mesh3d"
           }
          ],
          "parcoords": [
           {
            "line": {
             "colorbar": {
              "outlinewidth": 0,
              "ticks": ""
             }
            },
            "type": "parcoords"
           }
          ],
          "pie": [
           {
            "automargin": true,
            "type": "pie"
           }
          ],
          "scatter": [
           {
            "fillpattern": {
             "fillmode": "overlay",
             "size": 10,
             "solidity": 0.2
            },
            "type": "scatter"
           }
          ],
          "scatter3d": [
           {
            "line": {
             "colorbar": {
              "outlinewidth": 0,
              "ticks": ""
             }
            },
            "marker": {
             "colorbar": {
              "outlinewidth": 0,
              "ticks": ""
             }
            },
            "type": "scatter3d"
           }
          ],
          "scattercarpet": [
           {
            "marker": {
             "colorbar": {
              "outlinewidth": 0,
              "ticks": ""
             }
            },
            "type": "scattercarpet"
           }
          ],
          "scattergeo": [
           {
            "marker": {
             "colorbar": {
              "outlinewidth": 0,
              "ticks": ""
             }
            },
            "type": "scattergeo"
           }
          ],
          "scattergl": [
           {
            "marker": {
             "colorbar": {
              "outlinewidth": 0,
              "ticks": ""
             }
            },
            "type": "scattergl"
           }
          ],
          "scattermapbox": [
           {
            "marker": {
             "colorbar": {
              "outlinewidth": 0,
              "ticks": ""
             }
            },
            "type": "scattermapbox"
           }
          ],
          "scatterpolar": [
           {
            "marker": {
             "colorbar": {
              "outlinewidth": 0,
              "ticks": ""
             }
            },
            "type": "scatterpolar"
           }
          ],
          "scatterpolargl": [
           {
            "marker": {
             "colorbar": {
              "outlinewidth": 0,
              "ticks": ""
             }
            },
            "type": "scatterpolargl"
           }
          ],
          "scatterternary": [
           {
            "marker": {
             "colorbar": {
              "outlinewidth": 0,
              "ticks": ""
             }
            },
            "type": "scatterternary"
           }
          ],
          "surface": [
           {
            "colorbar": {
             "outlinewidth": 0,
             "ticks": ""
            },
            "colorscale": [
             [
              0,
              "#0d0887"
             ],
             [
              0.1111111111111111,
              "#46039f"
             ],
             [
              0.2222222222222222,
              "#7201a8"
             ],
             [
              0.3333333333333333,
              "#9c179e"
             ],
             [
              0.4444444444444444,
              "#bd3786"
             ],
             [
              0.5555555555555556,
              "#d8576b"
             ],
             [
              0.6666666666666666,
              "#ed7953"
             ],
             [
              0.7777777777777778,
              "#fb9f3a"
             ],
             [
              0.8888888888888888,
              "#fdca26"
             ],
             [
              1,
              "#f0f921"
             ]
            ],
            "type": "surface"
           }
          ],
          "table": [
           {
            "cells": {
             "fill": {
              "color": "#EBF0F8"
             },
             "line": {
              "color": "white"
             }
            },
            "header": {
             "fill": {
              "color": "#C8D4E3"
             },
             "line": {
              "color": "white"
             }
            },
            "type": "table"
           }
          ]
         },
         "layout": {
          "annotationdefaults": {
           "arrowcolor": "#2a3f5f",
           "arrowhead": 0,
           "arrowwidth": 1
          },
          "autotypenumbers": "strict",
          "coloraxis": {
           "colorbar": {
            "outlinewidth": 0,
            "ticks": ""
           }
          },
          "colorscale": {
           "diverging": [
            [
             0,
             "#8e0152"
            ],
            [
             0.1,
             "#c51b7d"
            ],
            [
             0.2,
             "#de77ae"
            ],
            [
             0.3,
             "#f1b6da"
            ],
            [
             0.4,
             "#fde0ef"
            ],
            [
             0.5,
             "#f7f7f7"
            ],
            [
             0.6,
             "#e6f5d0"
            ],
            [
             0.7,
             "#b8e186"
            ],
            [
             0.8,
             "#7fbc41"
            ],
            [
             0.9,
             "#4d9221"
            ],
            [
             1,
             "#276419"
            ]
           ],
           "sequential": [
            [
             0,
             "#0d0887"
            ],
            [
             0.1111111111111111,
             "#46039f"
            ],
            [
             0.2222222222222222,
             "#7201a8"
            ],
            [
             0.3333333333333333,
             "#9c179e"
            ],
            [
             0.4444444444444444,
             "#bd3786"
            ],
            [
             0.5555555555555556,
             "#d8576b"
            ],
            [
             0.6666666666666666,
             "#ed7953"
            ],
            [
             0.7777777777777778,
             "#fb9f3a"
            ],
            [
             0.8888888888888888,
             "#fdca26"
            ],
            [
             1,
             "#f0f921"
            ]
           ],
           "sequentialminus": [
            [
             0,
             "#0d0887"
            ],
            [
             0.1111111111111111,
             "#46039f"
            ],
            [
             0.2222222222222222,
             "#7201a8"
            ],
            [
             0.3333333333333333,
             "#9c179e"
            ],
            [
             0.4444444444444444,
             "#bd3786"
            ],
            [
             0.5555555555555556,
             "#d8576b"
            ],
            [
             0.6666666666666666,
             "#ed7953"
            ],
            [
             0.7777777777777778,
             "#fb9f3a"
            ],
            [
             0.8888888888888888,
             "#fdca26"
            ],
            [
             1,
             "#f0f921"
            ]
           ]
          },
          "colorway": [
           "#636efa",
           "#EF553B",
           "#00cc96",
           "#ab63fa",
           "#FFA15A",
           "#19d3f3",
           "#FF6692",
           "#B6E880",
           "#FF97FF",
           "#FECB52"
          ],
          "font": {
           "color": "#2a3f5f"
          },
          "geo": {
           "bgcolor": "white",
           "lakecolor": "white",
           "landcolor": "#E5ECF6",
           "showlakes": true,
           "showland": true,
           "subunitcolor": "white"
          },
          "hoverlabel": {
           "align": "left"
          },
          "hovermode": "closest",
          "mapbox": {
           "style": "light"
          },
          "paper_bgcolor": "white",
          "plot_bgcolor": "#E5ECF6",
          "polar": {
           "angularaxis": {
            "gridcolor": "white",
            "linecolor": "white",
            "ticks": ""
           },
           "bgcolor": "#E5ECF6",
           "radialaxis": {
            "gridcolor": "white",
            "linecolor": "white",
            "ticks": ""
           }
          },
          "scene": {
           "xaxis": {
            "backgroundcolor": "#E5ECF6",
            "gridcolor": "white",
            "gridwidth": 2,
            "linecolor": "white",
            "showbackground": true,
            "ticks": "",
            "zerolinecolor": "white"
           },
           "yaxis": {
            "backgroundcolor": "#E5ECF6",
            "gridcolor": "white",
            "gridwidth": 2,
            "linecolor": "white",
            "showbackground": true,
            "ticks": "",
            "zerolinecolor": "white"
           },
           "zaxis": {
            "backgroundcolor": "#E5ECF6",
            "gridcolor": "white",
            "gridwidth": 2,
            "linecolor": "white",
            "showbackground": true,
            "ticks": "",
            "zerolinecolor": "white"
           }
          },
          "shapedefaults": {
           "line": {
            "color": "#2a3f5f"
           }
          },
          "ternary": {
           "aaxis": {
            "gridcolor": "white",
            "linecolor": "white",
            "ticks": ""
           },
           "baxis": {
            "gridcolor": "white",
            "linecolor": "white",
            "ticks": ""
           },
           "bgcolor": "#E5ECF6",
           "caxis": {
            "gridcolor": "white",
            "linecolor": "white",
            "ticks": ""
           }
          },
          "title": {
           "x": 0.05
          },
          "xaxis": {
           "automargin": true,
           "gridcolor": "white",
           "linecolor": "white",
           "ticks": "",
           "title": {
            "standoff": 15
           },
           "zerolinecolor": "white",
           "zerolinewidth": 2
          },
          "yaxis": {
           "automargin": true,
           "gridcolor": "white",
           "linecolor": "white",
           "ticks": "",
           "title": {
            "standoff": 15
           },
           "zerolinecolor": "white",
           "zerolinewidth": 2
          }
         }
        },
        "title": {
         "text": "Contour Plot"
        },
        "xaxis": {
         "range": [
          3.7,
          10.3
         ],
         "title": {
          "text": "depth"
         }
        },
        "yaxis": {
         "range": [
          0.007511506932797719,
          0.10425780287280825
         ],
         "title": {
          "text": "learning_rate"
         }
        }
       }
      }
     },
     "metadata": {},
     "output_type": "display_data"
    }
   ],
   "source": [
    "optuna.visualization.plot_optimization_history(study).show()\n",
    "optuna.visualization.plot_param_importances(study).show()\n",
    "optuna.visualization.plot_contour(study, params=[\"depth\", \"learning_rate\"]).show()"
   ]
  },
  {
   "cell_type": "markdown",
   "metadata": {},
   "source": [
    "**Обучение модели с оптимальными параметрами**"
   ]
  },
  {
   "cell_type": "code",
   "execution_count": 313,
   "metadata": {},
   "outputs": [
    {
     "data": {
      "text/plain": [
       "<catboost.core.CatBoostRegressor at 0x17e420b6310>"
      ]
     },
     "execution_count": 313,
     "metadata": {},
     "output_type": "execute_result"
    }
   ],
   "source": [
    "model_cb_optuned = CatBoostRegressor(**study.best_params, verbose=False)\n",
    "model_cb_optuned.fit(x_train, y_train)"
   ]
  },
  {
   "cell_type": "markdown",
   "metadata": {},
   "source": [
    "**Предсказание с оптимизированной моделью**"
   ]
  },
  {
   "cell_type": "code",
   "execution_count": 314,
   "metadata": {},
   "outputs": [],
   "source": [
    "y_pred_cb_optuned = model_cb_optuned.predict(x_test)"
   ]
  },
  {
   "cell_type": "markdown",
   "metadata": {},
   "source": [
    "**Предсказание**"
   ]
  },
  {
   "cell_type": "code",
   "execution_count": 315,
   "metadata": {},
   "outputs": [],
   "source": [
    "y_pred_LR = model_LR.predict(x_test)\n",
    "y_pred_tree = model_tree.predict(x_test)\n",
    "y_pred_cb = model_cb.predict(x_test)"
   ]
  },
  {
   "cell_type": "markdown",
   "metadata": {},
   "source": [
    "**Сравнение моделей**"
   ]
  },
  {
   "cell_type": "code",
   "execution_count": 316,
   "metadata": {},
   "outputs": [
    {
     "name": "stdout",
     "output_type": "stream",
     "text": [
      "Linear Regression MSE:  12845090.225016788\n",
      "Decision Tree MSE:  10528013.363049336\n",
      "CatBoost MSE:  9160207.061964663\n",
      "Optimized CatBoost MSE:  7442793.222591296\n",
      "Best model is:  CatBoost\n"
     ]
    }
   ],
   "source": [
    "print(\"Linear Regression MSE: \", metrics.mean_squared_error(y_test, y_pred_LR))\n",
    "print(\"Decision Tree MSE: \", metrics.mean_squared_error(y_test, y_pred_tree))\n",
    "print(\"CatBoost MSE: \", metrics.mean_squared_error(y_test, y_pred_cb))\n",
    "print(\"Optimized CatBoost MSE: \", metrics.mean_squared_error(y_test, y_pred_cb_optuned))\n",
    "\n",
    "\n",
    "mse_values = {\"Linear Regression\": metrics.mean_squared_error(y_test, y_pred_LR),\n",
    "              \"Decision Tree\": metrics.mean_squared_error(y_test, y_pred_tree),\n",
    "              \"CatBoost\": metrics.mean_squared_error(y_test, y_pred_cb)}\n",
    "\n",
    "best_model = min(mse_values, key=mse_values.get)\n",
    "\n",
    "print(\"Best model is: \", best_model)\n"
   ]
  },
  {
   "cell_type": "markdown",
   "metadata": {},
   "source": [
    "**Визуализация дерева решений (если глубина дерева позволяет)**"
   ]
  },
  {
   "cell_type": "code",
   "execution_count": 317,
   "metadata": {},
   "outputs": [
    {
     "data": {
      "image/png": "[encoded data removed]",
      "text/plain": [
       "<Figure size 3000x2000 with 1 Axes>"
      ]
     },
     "metadata": {},
     "output_type": "display_data"
    }
   ],
   "source": [
    "fig = plt.figure(figsize=(30,20))\n",
    "plot_tree(model_tree, feature_names=feature_cols, filled=True)\n",
    "plt.show()"
   ]
  },
  {
   "cell_type": "markdown",
   "metadata": {},
   "source": [
    "**Пример предсказания. На основе новых данных предсказываем сумму страховки**"
   ]
  },
  {
   "cell_type": "code",
   "execution_count": 318,
   "metadata": {},
   "outputs": [
    {
     "name": "stdout",
     "output_type": "stream",
     "text": [
      "CatBoost prediction:  24420.667503055607\n"
     ]
    }
   ],
   "source": [
    "print(\"CatBoost prediction: \", model_cb.predict([45, 0, 0, 0, 0, 155, 57, 0, 0, 0]))"
   ]
  },
  {
   "cell_type": "markdown",
   "metadata": {},
   "source": [
    "**Заключение.**\n",
    "**В ходе выполнения этого задания было получено множество новых навыков и знаний. В частности, были изучены и применены различные методы машинного обучения, включая линейную регрессию, дерево решений и CatBoost. Был также использован метод подбора гиперпараметров с помощью Optuna, что позволило улучшить точность модели.**\n",
    "\n",
    "**Оптимизированный метод CatBoost оказался точнее обычного.**\n",
    "\n",
    "**Однако, несмотря на все усилия, точность модели может оставаться недостаточной для некоторых приложений. Это может быть связано с различными факторами, такими как сложность данных, выбор признаков или ограничения моделей машинного обучения.**\n",
    "\n",
    "**Полученные результаты могут быть использованы в различных областях. Например, они могут помочь страховым компаниям в прогнозировании стоимости страховых полисов на основе характеристик клиентов. Они также могут быть использованы в научных исследованиях для изучения влияния различных факторов на стоимость медицинской страховки.**"
   ]
  }
 ],
 "metadata": {
  "kernelspec": {
   "display_name": "Python 3",
   "language": "python",
   "name": "python3"
  },
  "language_info": {
   "codemirror_mode": {
    "name": "ipython",
    "version": 3
   },
   "file_extension": ".py",
   "mimetype": "text/x-python",
   "name": "python",
   "nbconvert_exporter": "python",
   "pygments_lexer": "ipython3",
   "version": "3.11.5"
  }
 },
 "nbformat": 4,
 "nbformat_minor": 2
}
